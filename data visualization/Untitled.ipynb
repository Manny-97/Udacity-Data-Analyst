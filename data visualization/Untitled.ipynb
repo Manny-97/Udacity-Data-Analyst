{
 "cells": [
  {
   "cell_type": "code",
   "execution_count": null,
   "id": "95dbbdda",
   "metadata": {},
   "outputs": [],
   "source": []
  },
  {
   "cell_type": "code",
   "execution_count": 1,
   "id": "f3911b66",
   "metadata": {},
   "outputs": [],
   "source": [
    "#Importing the necessary libraries\n",
    "import numpy as np\n",
    "import pandas as pd\n",
    "import matplotlib.pyplot as plt\n",
    "import seaborn as sns\n",
    "\n",
    "%matplotlib inline"
   ]
  },
  {
   "cell_type": "code",
   "execution_count": 2,
   "id": "c95d65f6",
   "metadata": {},
   "outputs": [
    {
     "data": {
      "text/html": [
       "<div>\n",
       "<style scoped>\n",
       "    .dataframe tbody tr th:only-of-type {\n",
       "        vertical-align: middle;\n",
       "    }\n",
       "\n",
       "    .dataframe tbody tr th {\n",
       "        vertical-align: top;\n",
       "    }\n",
       "\n",
       "    .dataframe thead th {\n",
       "        text-align: right;\n",
       "    }\n",
       "</style>\n",
       "<table border=\"1\" class=\"dataframe\">\n",
       "  <thead>\n",
       "    <tr style=\"text-align: right;\">\n",
       "      <th></th>\n",
       "      <th>ListingKey</th>\n",
       "      <th>ListingNumber</th>\n",
       "      <th>ListingCreationDate</th>\n",
       "      <th>CreditGrade</th>\n",
       "      <th>Term</th>\n",
       "      <th>LoanStatus</th>\n",
       "      <th>ClosedDate</th>\n",
       "      <th>BorrowerAPR</th>\n",
       "      <th>BorrowerRate</th>\n",
       "      <th>LenderYield</th>\n",
       "      <th>...</th>\n",
       "      <th>LP_ServiceFees</th>\n",
       "      <th>LP_CollectionFees</th>\n",
       "      <th>LP_GrossPrincipalLoss</th>\n",
       "      <th>LP_NetPrincipalLoss</th>\n",
       "      <th>LP_NonPrincipalRecoverypayments</th>\n",
       "      <th>PercentFunded</th>\n",
       "      <th>Recommendations</th>\n",
       "      <th>InvestmentFromFriendsCount</th>\n",
       "      <th>InvestmentFromFriendsAmount</th>\n",
       "      <th>Investors</th>\n",
       "    </tr>\n",
       "  </thead>\n",
       "  <tbody>\n",
       "    <tr>\n",
       "      <th>0</th>\n",
       "      <td>1021339766868145413AB3B</td>\n",
       "      <td>193129</td>\n",
       "      <td>2007-08-26 19:09:29.263000000</td>\n",
       "      <td>C</td>\n",
       "      <td>36</td>\n",
       "      <td>Completed</td>\n",
       "      <td>2009-08-14 00:00:00</td>\n",
       "      <td>0.16516</td>\n",
       "      <td>0.1580</td>\n",
       "      <td>0.1380</td>\n",
       "      <td>...</td>\n",
       "      <td>-133.18</td>\n",
       "      <td>0.0</td>\n",
       "      <td>0.0</td>\n",
       "      <td>0.0</td>\n",
       "      <td>0.0</td>\n",
       "      <td>1.0</td>\n",
       "      <td>0</td>\n",
       "      <td>0</td>\n",
       "      <td>0.0</td>\n",
       "      <td>258</td>\n",
       "    </tr>\n",
       "    <tr>\n",
       "      <th>1</th>\n",
       "      <td>10273602499503308B223C1</td>\n",
       "      <td>1209647</td>\n",
       "      <td>2014-02-27 08:28:07.900000000</td>\n",
       "      <td>NaN</td>\n",
       "      <td>36</td>\n",
       "      <td>Current</td>\n",
       "      <td>NaN</td>\n",
       "      <td>0.12016</td>\n",
       "      <td>0.0920</td>\n",
       "      <td>0.0820</td>\n",
       "      <td>...</td>\n",
       "      <td>0.00</td>\n",
       "      <td>0.0</td>\n",
       "      <td>0.0</td>\n",
       "      <td>0.0</td>\n",
       "      <td>0.0</td>\n",
       "      <td>1.0</td>\n",
       "      <td>0</td>\n",
       "      <td>0</td>\n",
       "      <td>0.0</td>\n",
       "      <td>1</td>\n",
       "    </tr>\n",
       "    <tr>\n",
       "      <th>2</th>\n",
       "      <td>0EE9337825851032864889A</td>\n",
       "      <td>81716</td>\n",
       "      <td>2007-01-05 15:00:47.090000000</td>\n",
       "      <td>HR</td>\n",
       "      <td>36</td>\n",
       "      <td>Completed</td>\n",
       "      <td>2009-12-17 00:00:00</td>\n",
       "      <td>0.28269</td>\n",
       "      <td>0.2750</td>\n",
       "      <td>0.2400</td>\n",
       "      <td>...</td>\n",
       "      <td>-24.20</td>\n",
       "      <td>0.0</td>\n",
       "      <td>0.0</td>\n",
       "      <td>0.0</td>\n",
       "      <td>0.0</td>\n",
       "      <td>1.0</td>\n",
       "      <td>0</td>\n",
       "      <td>0</td>\n",
       "      <td>0.0</td>\n",
       "      <td>41</td>\n",
       "    </tr>\n",
       "    <tr>\n",
       "      <th>3</th>\n",
       "      <td>0EF5356002482715299901A</td>\n",
       "      <td>658116</td>\n",
       "      <td>2012-10-22 11:02:35.010000000</td>\n",
       "      <td>NaN</td>\n",
       "      <td>36</td>\n",
       "      <td>Current</td>\n",
       "      <td>NaN</td>\n",
       "      <td>0.12528</td>\n",
       "      <td>0.0974</td>\n",
       "      <td>0.0874</td>\n",
       "      <td>...</td>\n",
       "      <td>-108.01</td>\n",
       "      <td>0.0</td>\n",
       "      <td>0.0</td>\n",
       "      <td>0.0</td>\n",
       "      <td>0.0</td>\n",
       "      <td>1.0</td>\n",
       "      <td>0</td>\n",
       "      <td>0</td>\n",
       "      <td>0.0</td>\n",
       "      <td>158</td>\n",
       "    </tr>\n",
       "    <tr>\n",
       "      <th>4</th>\n",
       "      <td>0F023589499656230C5E3E2</td>\n",
       "      <td>909464</td>\n",
       "      <td>2013-09-14 18:38:39.097000000</td>\n",
       "      <td>NaN</td>\n",
       "      <td>36</td>\n",
       "      <td>Current</td>\n",
       "      <td>NaN</td>\n",
       "      <td>0.24614</td>\n",
       "      <td>0.2085</td>\n",
       "      <td>0.1985</td>\n",
       "      <td>...</td>\n",
       "      <td>-60.27</td>\n",
       "      <td>0.0</td>\n",
       "      <td>0.0</td>\n",
       "      <td>0.0</td>\n",
       "      <td>0.0</td>\n",
       "      <td>1.0</td>\n",
       "      <td>0</td>\n",
       "      <td>0</td>\n",
       "      <td>0.0</td>\n",
       "      <td>20</td>\n",
       "    </tr>\n",
       "  </tbody>\n",
       "</table>\n",
       "<p>5 rows × 81 columns</p>\n",
       "</div>"
      ],
      "text/plain": [
       "                ListingKey  ListingNumber            ListingCreationDate  \\\n",
       "0  1021339766868145413AB3B         193129  2007-08-26 19:09:29.263000000   \n",
       "1  10273602499503308B223C1        1209647  2014-02-27 08:28:07.900000000   \n",
       "2  0EE9337825851032864889A          81716  2007-01-05 15:00:47.090000000   \n",
       "3  0EF5356002482715299901A         658116  2012-10-22 11:02:35.010000000   \n",
       "4  0F023589499656230C5E3E2         909464  2013-09-14 18:38:39.097000000   \n",
       "\n",
       "  CreditGrade  Term LoanStatus           ClosedDate  BorrowerAPR  \\\n",
       "0           C    36  Completed  2009-08-14 00:00:00      0.16516   \n",
       "1         NaN    36    Current                  NaN      0.12016   \n",
       "2          HR    36  Completed  2009-12-17 00:00:00      0.28269   \n",
       "3         NaN    36    Current                  NaN      0.12528   \n",
       "4         NaN    36    Current                  NaN      0.24614   \n",
       "\n",
       "   BorrowerRate  LenderYield  ...  LP_ServiceFees  LP_CollectionFees  \\\n",
       "0        0.1580       0.1380  ...         -133.18                0.0   \n",
       "1        0.0920       0.0820  ...            0.00                0.0   \n",
       "2        0.2750       0.2400  ...          -24.20                0.0   \n",
       "3        0.0974       0.0874  ...         -108.01                0.0   \n",
       "4        0.2085       0.1985  ...          -60.27                0.0   \n",
       "\n",
       "   LP_GrossPrincipalLoss  LP_NetPrincipalLoss LP_NonPrincipalRecoverypayments  \\\n",
       "0                    0.0                  0.0                             0.0   \n",
       "1                    0.0                  0.0                             0.0   \n",
       "2                    0.0                  0.0                             0.0   \n",
       "3                    0.0                  0.0                             0.0   \n",
       "4                    0.0                  0.0                             0.0   \n",
       "\n",
       "   PercentFunded  Recommendations InvestmentFromFriendsCount  \\\n",
       "0            1.0                0                          0   \n",
       "1            1.0                0                          0   \n",
       "2            1.0                0                          0   \n",
       "3            1.0                0                          0   \n",
       "4            1.0                0                          0   \n",
       "\n",
       "  InvestmentFromFriendsAmount Investors  \n",
       "0                         0.0       258  \n",
       "1                         0.0         1  \n",
       "2                         0.0        41  \n",
       "3                         0.0       158  \n",
       "4                         0.0        20  \n",
       "\n",
       "[5 rows x 81 columns]"
      ]
     },
     "execution_count": 2,
     "metadata": {},
     "output_type": "execute_result"
    }
   ],
   "source": [
    "df = pd.read_csv(\"./data/prosperLoanData.csv\")\n",
    "df.head()"
   ]
  },
  {
   "cell_type": "code",
   "execution_count": 3,
   "id": "e6d8d774",
   "metadata": {},
   "outputs": [
    {
     "data": {
      "text/plain": [
       "(113937, 81)"
      ]
     },
     "execution_count": 3,
     "metadata": {},
     "output_type": "execute_result"
    }
   ],
   "source": [
    "# Shape of the dataframe\n",
    "df.shape"
   ]
  },
  {
   "cell_type": "code",
   "execution_count": 4,
   "id": "13dac2e0",
   "metadata": {},
   "outputs": [
    {
     "data": {
      "text/plain": [
       "Index(['ListingKey', 'ListingNumber', 'ListingCreationDate', 'CreditGrade',\n",
       "       'Term', 'LoanStatus', 'ClosedDate', 'BorrowerAPR', 'BorrowerRate',\n",
       "       'LenderYield', 'EstimatedEffectiveYield', 'EstimatedLoss',\n",
       "       'EstimatedReturn', 'ProsperRating (numeric)', 'ProsperRating (Alpha)',\n",
       "       'ProsperScore', 'ListingCategory (numeric)', 'BorrowerState',\n",
       "       'Occupation', 'EmploymentStatus', 'EmploymentStatusDuration',\n",
       "       'IsBorrowerHomeowner', 'CurrentlyInGroup', 'GroupKey',\n",
       "       'DateCreditPulled', 'CreditScoreRangeLower', 'CreditScoreRangeUpper',\n",
       "       'FirstRecordedCreditLine', 'CurrentCreditLines', 'OpenCreditLines',\n",
       "       'TotalCreditLinespast7years', 'OpenRevolvingAccounts',\n",
       "       'OpenRevolvingMonthlyPayment', 'InquiriesLast6Months', 'TotalInquiries',\n",
       "       'CurrentDelinquencies', 'AmountDelinquent', 'DelinquenciesLast7Years',\n",
       "       'PublicRecordsLast10Years', 'PublicRecordsLast12Months',\n",
       "       'RevolvingCreditBalance', 'BankcardUtilization',\n",
       "       'AvailableBankcardCredit', 'TotalTrades',\n",
       "       'TradesNeverDelinquent (percentage)', 'TradesOpenedLast6Months',\n",
       "       'DebtToIncomeRatio', 'IncomeRange', 'IncomeVerifiable',\n",
       "       'StatedMonthlyIncome', 'LoanKey', 'TotalProsperLoans',\n",
       "       'TotalProsperPaymentsBilled', 'OnTimeProsperPayments',\n",
       "       'ProsperPaymentsLessThanOneMonthLate',\n",
       "       'ProsperPaymentsOneMonthPlusLate', 'ProsperPrincipalBorrowed',\n",
       "       'ProsperPrincipalOutstanding', 'ScorexChangeAtTimeOfListing',\n",
       "       'LoanCurrentDaysDelinquent', 'LoanFirstDefaultedCycleNumber',\n",
       "       'LoanMonthsSinceOrigination', 'LoanNumber', 'LoanOriginalAmount',\n",
       "       'LoanOriginationDate', 'LoanOriginationQuarter', 'MemberKey',\n",
       "       'MonthlyLoanPayment', 'LP_CustomerPayments',\n",
       "       'LP_CustomerPrincipalPayments', 'LP_InterestandFees', 'LP_ServiceFees',\n",
       "       'LP_CollectionFees', 'LP_GrossPrincipalLoss', 'LP_NetPrincipalLoss',\n",
       "       'LP_NonPrincipalRecoverypayments', 'PercentFunded', 'Recommendations',\n",
       "       'InvestmentFromFriendsCount', 'InvestmentFromFriendsAmount',\n",
       "       'Investors'],\n",
       "      dtype='object')"
      ]
     },
     "execution_count": 4,
     "metadata": {},
     "output_type": "execute_result"
    }
   ],
   "source": [
    "# List of columns\n",
    "df.columns"
   ]
  },
  {
   "cell_type": "code",
   "execution_count": 5,
   "id": "5a23ca10",
   "metadata": {},
   "outputs": [
    {
     "name": "stdout",
     "output_type": "stream",
     "text": [
      "<class 'pandas.core.frame.DataFrame'>\n",
      "RangeIndex: 113937 entries, 0 to 113936\n",
      "Data columns (total 81 columns):\n",
      " #   Column                               Non-Null Count   Dtype  \n",
      "---  ------                               --------------   -----  \n",
      " 0   ListingKey                           113937 non-null  object \n",
      " 1   ListingNumber                        113937 non-null  int64  \n",
      " 2   ListingCreationDate                  113937 non-null  object \n",
      " 3   CreditGrade                          28953 non-null   object \n",
      " 4   Term                                 113937 non-null  int64  \n",
      " 5   LoanStatus                           113937 non-null  object \n",
      " 6   ClosedDate                           55089 non-null   object \n",
      " 7   BorrowerAPR                          113912 non-null  float64\n",
      " 8   BorrowerRate                         113937 non-null  float64\n",
      " 9   LenderYield                          113937 non-null  float64\n",
      " 10  EstimatedEffectiveYield              84853 non-null   float64\n",
      " 11  EstimatedLoss                        84853 non-null   float64\n",
      " 12  EstimatedReturn                      84853 non-null   float64\n",
      " 13  ProsperRating (numeric)              84853 non-null   float64\n",
      " 14  ProsperRating (Alpha)                84853 non-null   object \n",
      " 15  ProsperScore                         84853 non-null   float64\n",
      " 16  ListingCategory (numeric)            113937 non-null  int64  \n",
      " 17  BorrowerState                        108422 non-null  object \n",
      " 18  Occupation                           110349 non-null  object \n",
      " 19  EmploymentStatus                     111682 non-null  object \n",
      " 20  EmploymentStatusDuration             106312 non-null  float64\n",
      " 21  IsBorrowerHomeowner                  113937 non-null  bool   \n",
      " 22  CurrentlyInGroup                     113937 non-null  bool   \n",
      " 23  GroupKey                             13341 non-null   object \n",
      " 24  DateCreditPulled                     113937 non-null  object \n",
      " 25  CreditScoreRangeLower                113346 non-null  float64\n",
      " 26  CreditScoreRangeUpper                113346 non-null  float64\n",
      " 27  FirstRecordedCreditLine              113240 non-null  object \n",
      " 28  CurrentCreditLines                   106333 non-null  float64\n",
      " 29  OpenCreditLines                      106333 non-null  float64\n",
      " 30  TotalCreditLinespast7years           113240 non-null  float64\n",
      " 31  OpenRevolvingAccounts                113937 non-null  int64  \n",
      " 32  OpenRevolvingMonthlyPayment          113937 non-null  float64\n",
      " 33  InquiriesLast6Months                 113240 non-null  float64\n",
      " 34  TotalInquiries                       112778 non-null  float64\n",
      " 35  CurrentDelinquencies                 113240 non-null  float64\n",
      " 36  AmountDelinquent                     106315 non-null  float64\n",
      " 37  DelinquenciesLast7Years              112947 non-null  float64\n",
      " 38  PublicRecordsLast10Years             113240 non-null  float64\n",
      " 39  PublicRecordsLast12Months            106333 non-null  float64\n",
      " 40  RevolvingCreditBalance               106333 non-null  float64\n",
      " 41  BankcardUtilization                  106333 non-null  float64\n",
      " 42  AvailableBankcardCredit              106393 non-null  float64\n",
      " 43  TotalTrades                          106393 non-null  float64\n",
      " 44  TradesNeverDelinquent (percentage)   106393 non-null  float64\n",
      " 45  TradesOpenedLast6Months              106393 non-null  float64\n",
      " 46  DebtToIncomeRatio                    105383 non-null  float64\n",
      " 47  IncomeRange                          113937 non-null  object \n",
      " 48  IncomeVerifiable                     113937 non-null  bool   \n",
      " 49  StatedMonthlyIncome                  113937 non-null  float64\n",
      " 50  LoanKey                              113937 non-null  object \n",
      " 51  TotalProsperLoans                    22085 non-null   float64\n",
      " 52  TotalProsperPaymentsBilled           22085 non-null   float64\n",
      " 53  OnTimeProsperPayments                22085 non-null   float64\n",
      " 54  ProsperPaymentsLessThanOneMonthLate  22085 non-null   float64\n",
      " 55  ProsperPaymentsOneMonthPlusLate      22085 non-null   float64\n",
      " 56  ProsperPrincipalBorrowed             22085 non-null   float64\n",
      " 57  ProsperPrincipalOutstanding          22085 non-null   float64\n",
      " 58  ScorexChangeAtTimeOfListing          18928 non-null   float64\n",
      " 59  LoanCurrentDaysDelinquent            113937 non-null  int64  \n",
      " 60  LoanFirstDefaultedCycleNumber        16952 non-null   float64\n",
      " 61  LoanMonthsSinceOrigination           113937 non-null  int64  \n",
      " 62  LoanNumber                           113937 non-null  int64  \n",
      " 63  LoanOriginalAmount                   113937 non-null  int64  \n",
      " 64  LoanOriginationDate                  113937 non-null  object \n",
      " 65  LoanOriginationQuarter               113937 non-null  object \n",
      " 66  MemberKey                            113937 non-null  object \n",
      " 67  MonthlyLoanPayment                   113937 non-null  float64\n",
      " 68  LP_CustomerPayments                  113937 non-null  float64\n",
      " 69  LP_CustomerPrincipalPayments         113937 non-null  float64\n",
      " 70  LP_InterestandFees                   113937 non-null  float64\n",
      " 71  LP_ServiceFees                       113937 non-null  float64\n",
      " 72  LP_CollectionFees                    113937 non-null  float64\n",
      " 73  LP_GrossPrincipalLoss                113937 non-null  float64\n",
      " 74  LP_NetPrincipalLoss                  113937 non-null  float64\n",
      " 75  LP_NonPrincipalRecoverypayments      113937 non-null  float64\n",
      " 76  PercentFunded                        113937 non-null  float64\n",
      " 77  Recommendations                      113937 non-null  int64  \n",
      " 78  InvestmentFromFriendsCount           113937 non-null  int64  \n",
      " 79  InvestmentFromFriendsAmount          113937 non-null  float64\n",
      " 80  Investors                            113937 non-null  int64  \n",
      "dtypes: bool(3), float64(50), int64(11), object(17)\n",
      "memory usage: 68.1+ MB\n"
     ]
    }
   ],
   "source": [
    "# A rough summary statistics of each column (column name, non-null count, and data type)\n",
    "df.info()"
   ]
  },
  {
   "cell_type": "markdown",
   "id": "342f2be5",
   "metadata": {},
   "source": [
    "There are missing values but let us focus only few variables that are listed below."
   ]
  },
  {
   "cell_type": "code",
   "execution_count": 8,
   "id": "81e001a3",
   "metadata": {},
   "outputs": [],
   "source": [
    "# Due to many variables in this dataset, I only use few variables. Those are:  \n",
    "cols = ['Term' , \n",
    "        'LoanStatus', \n",
    "        'EstimatedEffectiveYield' ,  \n",
    "        'BorrowerAPR' , \n",
    "        'BorrowerRate' , \n",
    "        'LenderYield' , \n",
    "        'ProsperRating (numeric)',\n",
    "        'ProsperRating (Alpha)',\n",
    "        'ProsperScore',                     \n",
    "        'ListingCategory (numeric)', \n",
    "        'EmploymentStatus',\n",
    "        'Occupation', \n",
    "        'EmploymentStatusDuration', \n",
    "        'IsBorrowerHomeowner', \n",
    "        'IncomeVerifiable', \n",
    "        'StatedMonthlyIncome', \n",
    "        'MonthlyLoanPayment',\n",
    "        'Recommendations', \n",
    "        'DebtToIncomeRatio',\n",
    "        'LoanOriginalAmount' ,\n",
    "        'PercentFunded',\n",
    "        'IncomeRange',\n",
    "        'Investors',\n",
    "        'BorrowerState']\n"
   ]
  },
  {
   "cell_type": "code",
   "execution_count": 9,
   "id": "c8817554",
   "metadata": {},
   "outputs": [
    {
     "data": {
      "text/plain": [
       "Index(['Term', 'LoanStatus', 'EstimatedEffectiveYield', 'BorrowerAPR',\n",
       "       'BorrowerRate', 'LenderYield', 'ProsperRating (numeric)',\n",
       "       'ProsperRating (Alpha)', 'ProsperScore', 'ListingCategory (numeric)',\n",
       "       'EmploymentStatus', 'Occupation', 'EmploymentStatusDuration',\n",
       "       'IsBorrowerHomeowner', 'IncomeVerifiable', 'StatedMonthlyIncome',\n",
       "       'MonthlyLoanPayment', 'Recommendations', 'DebtToIncomeRatio',\n",
       "       'LoanOriginalAmount', 'PercentFunded', 'IncomeRange', 'Investors',\n",
       "       'BorrowerState'],\n",
       "      dtype='object')"
      ]
     },
     "execution_count": 9,
     "metadata": {},
     "output_type": "execute_result"
    }
   ],
   "source": [
    "loan_df = df[cols]\n",
    "loan_df.columns"
   ]
  },
  {
   "cell_type": "code",
   "execution_count": 10,
   "id": "24672579",
   "metadata": {},
   "outputs": [
    {
     "data": {
      "text/html": [
       "<div>\n",
       "<style scoped>\n",
       "    .dataframe tbody tr th:only-of-type {\n",
       "        vertical-align: middle;\n",
       "    }\n",
       "\n",
       "    .dataframe tbody tr th {\n",
       "        vertical-align: top;\n",
       "    }\n",
       "\n",
       "    .dataframe thead th {\n",
       "        text-align: right;\n",
       "    }\n",
       "</style>\n",
       "<table border=\"1\" class=\"dataframe\">\n",
       "  <thead>\n",
       "    <tr style=\"text-align: right;\">\n",
       "      <th></th>\n",
       "      <th>Term</th>\n",
       "      <th>EstimatedEffectiveYield</th>\n",
       "      <th>BorrowerAPR</th>\n",
       "      <th>BorrowerRate</th>\n",
       "      <th>LenderYield</th>\n",
       "      <th>ProsperRating (numeric)</th>\n",
       "      <th>ProsperScore</th>\n",
       "      <th>ListingCategory (numeric)</th>\n",
       "      <th>EmploymentStatusDuration</th>\n",
       "      <th>StatedMonthlyIncome</th>\n",
       "      <th>MonthlyLoanPayment</th>\n",
       "      <th>Recommendations</th>\n",
       "      <th>DebtToIncomeRatio</th>\n",
       "      <th>LoanOriginalAmount</th>\n",
       "      <th>PercentFunded</th>\n",
       "      <th>Investors</th>\n",
       "    </tr>\n",
       "  </thead>\n",
       "  <tbody>\n",
       "    <tr>\n",
       "      <th>count</th>\n",
       "      <td>113937.000000</td>\n",
       "      <td>84853.000000</td>\n",
       "      <td>113912.000000</td>\n",
       "      <td>113937.000000</td>\n",
       "      <td>113937.000000</td>\n",
       "      <td>84853.000000</td>\n",
       "      <td>84853.000000</td>\n",
       "      <td>113937.000000</td>\n",
       "      <td>106312.000000</td>\n",
       "      <td>1.139370e+05</td>\n",
       "      <td>113937.000000</td>\n",
       "      <td>113937.000000</td>\n",
       "      <td>105383.000000</td>\n",
       "      <td>113937.00000</td>\n",
       "      <td>113937.000000</td>\n",
       "      <td>113937.000000</td>\n",
       "    </tr>\n",
       "    <tr>\n",
       "      <th>mean</th>\n",
       "      <td>40.830248</td>\n",
       "      <td>0.168661</td>\n",
       "      <td>0.218828</td>\n",
       "      <td>0.192764</td>\n",
       "      <td>0.182701</td>\n",
       "      <td>4.072243</td>\n",
       "      <td>5.950067</td>\n",
       "      <td>2.774209</td>\n",
       "      <td>96.071582</td>\n",
       "      <td>5.608026e+03</td>\n",
       "      <td>272.475783</td>\n",
       "      <td>0.048027</td>\n",
       "      <td>0.275947</td>\n",
       "      <td>8337.01385</td>\n",
       "      <td>0.998584</td>\n",
       "      <td>80.475228</td>\n",
       "    </tr>\n",
       "    <tr>\n",
       "      <th>std</th>\n",
       "      <td>10.436212</td>\n",
       "      <td>0.068467</td>\n",
       "      <td>0.080364</td>\n",
       "      <td>0.074818</td>\n",
       "      <td>0.074516</td>\n",
       "      <td>1.673227</td>\n",
       "      <td>2.376501</td>\n",
       "      <td>3.996797</td>\n",
       "      <td>94.480605</td>\n",
       "      <td>7.478497e+03</td>\n",
       "      <td>192.697812</td>\n",
       "      <td>0.332353</td>\n",
       "      <td>0.551759</td>\n",
       "      <td>6245.80058</td>\n",
       "      <td>0.017919</td>\n",
       "      <td>103.239020</td>\n",
       "    </tr>\n",
       "    <tr>\n",
       "      <th>min</th>\n",
       "      <td>12.000000</td>\n",
       "      <td>-0.182700</td>\n",
       "      <td>0.006530</td>\n",
       "      <td>0.000000</td>\n",
       "      <td>-0.010000</td>\n",
       "      <td>1.000000</td>\n",
       "      <td>1.000000</td>\n",
       "      <td>0.000000</td>\n",
       "      <td>0.000000</td>\n",
       "      <td>0.000000e+00</td>\n",
       "      <td>0.000000</td>\n",
       "      <td>0.000000</td>\n",
       "      <td>0.000000</td>\n",
       "      <td>1000.00000</td>\n",
       "      <td>0.700000</td>\n",
       "      <td>1.000000</td>\n",
       "    </tr>\n",
       "    <tr>\n",
       "      <th>25%</th>\n",
       "      <td>36.000000</td>\n",
       "      <td>0.115670</td>\n",
       "      <td>0.156290</td>\n",
       "      <td>0.134000</td>\n",
       "      <td>0.124200</td>\n",
       "      <td>3.000000</td>\n",
       "      <td>4.000000</td>\n",
       "      <td>1.000000</td>\n",
       "      <td>26.000000</td>\n",
       "      <td>3.200333e+03</td>\n",
       "      <td>131.620000</td>\n",
       "      <td>0.000000</td>\n",
       "      <td>0.140000</td>\n",
       "      <td>4000.00000</td>\n",
       "      <td>1.000000</td>\n",
       "      <td>2.000000</td>\n",
       "    </tr>\n",
       "    <tr>\n",
       "      <th>50%</th>\n",
       "      <td>36.000000</td>\n",
       "      <td>0.161500</td>\n",
       "      <td>0.209760</td>\n",
       "      <td>0.184000</td>\n",
       "      <td>0.173000</td>\n",
       "      <td>4.000000</td>\n",
       "      <td>6.000000</td>\n",
       "      <td>1.000000</td>\n",
       "      <td>67.000000</td>\n",
       "      <td>4.666667e+03</td>\n",
       "      <td>217.740000</td>\n",
       "      <td>0.000000</td>\n",
       "      <td>0.220000</td>\n",
       "      <td>6500.00000</td>\n",
       "      <td>1.000000</td>\n",
       "      <td>44.000000</td>\n",
       "    </tr>\n",
       "    <tr>\n",
       "      <th>75%</th>\n",
       "      <td>36.000000</td>\n",
       "      <td>0.224300</td>\n",
       "      <td>0.283810</td>\n",
       "      <td>0.250000</td>\n",
       "      <td>0.240000</td>\n",
       "      <td>5.000000</td>\n",
       "      <td>8.000000</td>\n",
       "      <td>3.000000</td>\n",
       "      <td>137.000000</td>\n",
       "      <td>6.825000e+03</td>\n",
       "      <td>371.580000</td>\n",
       "      <td>0.000000</td>\n",
       "      <td>0.320000</td>\n",
       "      <td>12000.00000</td>\n",
       "      <td>1.000000</td>\n",
       "      <td>115.000000</td>\n",
       "    </tr>\n",
       "    <tr>\n",
       "      <th>max</th>\n",
       "      <td>60.000000</td>\n",
       "      <td>0.319900</td>\n",
       "      <td>0.512290</td>\n",
       "      <td>0.497500</td>\n",
       "      <td>0.492500</td>\n",
       "      <td>7.000000</td>\n",
       "      <td>11.000000</td>\n",
       "      <td>20.000000</td>\n",
       "      <td>755.000000</td>\n",
       "      <td>1.750003e+06</td>\n",
       "      <td>2251.510000</td>\n",
       "      <td>39.000000</td>\n",
       "      <td>10.010000</td>\n",
       "      <td>35000.00000</td>\n",
       "      <td>1.012500</td>\n",
       "      <td>1189.000000</td>\n",
       "    </tr>\n",
       "  </tbody>\n",
       "</table>\n",
       "</div>"
      ],
      "text/plain": [
       "                Term  EstimatedEffectiveYield    BorrowerAPR   BorrowerRate  \\\n",
       "count  113937.000000             84853.000000  113912.000000  113937.000000   \n",
       "mean       40.830248                 0.168661       0.218828       0.192764   \n",
       "std        10.436212                 0.068467       0.080364       0.074818   \n",
       "min        12.000000                -0.182700       0.006530       0.000000   \n",
       "25%        36.000000                 0.115670       0.156290       0.134000   \n",
       "50%        36.000000                 0.161500       0.209760       0.184000   \n",
       "75%        36.000000                 0.224300       0.283810       0.250000   \n",
       "max        60.000000                 0.319900       0.512290       0.497500   \n",
       "\n",
       "         LenderYield  ProsperRating (numeric)  ProsperScore  \\\n",
       "count  113937.000000             84853.000000  84853.000000   \n",
       "mean        0.182701                 4.072243      5.950067   \n",
       "std         0.074516                 1.673227      2.376501   \n",
       "min        -0.010000                 1.000000      1.000000   \n",
       "25%         0.124200                 3.000000      4.000000   \n",
       "50%         0.173000                 4.000000      6.000000   \n",
       "75%         0.240000                 5.000000      8.000000   \n",
       "max         0.492500                 7.000000     11.000000   \n",
       "\n",
       "       ListingCategory (numeric)  EmploymentStatusDuration  \\\n",
       "count              113937.000000             106312.000000   \n",
       "mean                    2.774209                 96.071582   \n",
       "std                     3.996797                 94.480605   \n",
       "min                     0.000000                  0.000000   \n",
       "25%                     1.000000                 26.000000   \n",
       "50%                     1.000000                 67.000000   \n",
       "75%                     3.000000                137.000000   \n",
       "max                    20.000000                755.000000   \n",
       "\n",
       "       StatedMonthlyIncome  MonthlyLoanPayment  Recommendations  \\\n",
       "count         1.139370e+05       113937.000000    113937.000000   \n",
       "mean          5.608026e+03          272.475783         0.048027   \n",
       "std           7.478497e+03          192.697812         0.332353   \n",
       "min           0.000000e+00            0.000000         0.000000   \n",
       "25%           3.200333e+03          131.620000         0.000000   \n",
       "50%           4.666667e+03          217.740000         0.000000   \n",
       "75%           6.825000e+03          371.580000         0.000000   \n",
       "max           1.750003e+06         2251.510000        39.000000   \n",
       "\n",
       "       DebtToIncomeRatio  LoanOriginalAmount  PercentFunded      Investors  \n",
       "count      105383.000000        113937.00000  113937.000000  113937.000000  \n",
       "mean            0.275947          8337.01385       0.998584      80.475228  \n",
       "std             0.551759          6245.80058       0.017919     103.239020  \n",
       "min             0.000000          1000.00000       0.700000       1.000000  \n",
       "25%             0.140000          4000.00000       1.000000       2.000000  \n",
       "50%             0.220000          6500.00000       1.000000      44.000000  \n",
       "75%             0.320000         12000.00000       1.000000     115.000000  \n",
       "max            10.010000         35000.00000       1.012500    1189.000000  "
      ]
     },
     "execution_count": 10,
     "metadata": {},
     "output_type": "execute_result"
    }
   ],
   "source": [
    "loan_df.describe()"
   ]
  },
  {
   "cell_type": "code",
   "execution_count": 11,
   "id": "0ca7f725",
   "metadata": {},
   "outputs": [
    {
     "name": "stdout",
     "output_type": "stream",
     "text": [
      "<class 'pandas.core.frame.DataFrame'>\n",
      "RangeIndex: 113937 entries, 0 to 113936\n",
      "Data columns (total 24 columns):\n",
      " #   Column                     Non-Null Count   Dtype  \n",
      "---  ------                     --------------   -----  \n",
      " 0   Term                       113937 non-null  int64  \n",
      " 1   LoanStatus                 113937 non-null  object \n",
      " 2   EstimatedEffectiveYield    84853 non-null   float64\n",
      " 3   BorrowerAPR                113912 non-null  float64\n",
      " 4   BorrowerRate               113937 non-null  float64\n",
      " 5   LenderYield                113937 non-null  float64\n",
      " 6   ProsperRating (numeric)    84853 non-null   float64\n",
      " 7   ProsperRating (Alpha)      84853 non-null   object \n",
      " 8   ProsperScore               84853 non-null   float64\n",
      " 9   ListingCategory (numeric)  113937 non-null  int64  \n",
      " 10  EmploymentStatus           111682 non-null  object \n",
      " 11  Occupation                 110349 non-null  object \n",
      " 12  EmploymentStatusDuration   106312 non-null  float64\n",
      " 13  IsBorrowerHomeowner        113937 non-null  bool   \n",
      " 14  IncomeVerifiable           113937 non-null  bool   \n",
      " 15  StatedMonthlyIncome        113937 non-null  float64\n",
      " 16  MonthlyLoanPayment         113937 non-null  float64\n",
      " 17  Recommendations            113937 non-null  int64  \n",
      " 18  DebtToIncomeRatio          105383 non-null  float64\n",
      " 19  LoanOriginalAmount         113937 non-null  int64  \n",
      " 20  PercentFunded              113937 non-null  float64\n",
      " 21  IncomeRange                113937 non-null  object \n",
      " 22  Investors                  113937 non-null  int64  \n",
      " 23  BorrowerState              108422 non-null  object \n",
      "dtypes: bool(2), float64(11), int64(5), object(6)\n",
      "memory usage: 19.3+ MB\n"
     ]
    }
   ],
   "source": [
    "loan_df.info()"
   ]
  },
  {
   "cell_type": "markdown",
   "id": "0bda4ae7",
   "metadata": {},
   "source": [
    "- As this project is all about visualization, for simplicity purpose I am going to delete all the null rows from the above data"
   ]
  },
  {
   "cell_type": "code",
   "execution_count": 12,
   "id": "36e1b02b",
   "metadata": {},
   "outputs": [
    {
     "data": {
      "text/html": [
       "<div>\n",
       "<style scoped>\n",
       "    .dataframe tbody tr th:only-of-type {\n",
       "        vertical-align: middle;\n",
       "    }\n",
       "\n",
       "    .dataframe tbody tr th {\n",
       "        vertical-align: top;\n",
       "    }\n",
       "\n",
       "    .dataframe thead th {\n",
       "        text-align: right;\n",
       "    }\n",
       "</style>\n",
       "<table border=\"1\" class=\"dataframe\">\n",
       "  <thead>\n",
       "    <tr style=\"text-align: right;\">\n",
       "      <th></th>\n",
       "      <th>Term</th>\n",
       "      <th>EstimatedEffectiveYield</th>\n",
       "      <th>BorrowerAPR</th>\n",
       "      <th>BorrowerRate</th>\n",
       "      <th>LenderYield</th>\n",
       "      <th>ProsperRating (numeric)</th>\n",
       "      <th>ProsperScore</th>\n",
       "      <th>ListingCategory (numeric)</th>\n",
       "      <th>EmploymentStatusDuration</th>\n",
       "      <th>StatedMonthlyIncome</th>\n",
       "      <th>MonthlyLoanPayment</th>\n",
       "      <th>Recommendations</th>\n",
       "      <th>DebtToIncomeRatio</th>\n",
       "      <th>LoanOriginalAmount</th>\n",
       "      <th>PercentFunded</th>\n",
       "      <th>Investors</th>\n",
       "    </tr>\n",
       "  </thead>\n",
       "  <tbody>\n",
       "    <tr>\n",
       "      <th>count</th>\n",
       "      <td>76216.000000</td>\n",
       "      <td>76216.000000</td>\n",
       "      <td>76216.000000</td>\n",
       "      <td>76216.000000</td>\n",
       "      <td>76216.000000</td>\n",
       "      <td>76216.000000</td>\n",
       "      <td>76216.000000</td>\n",
       "      <td>76216.000000</td>\n",
       "      <td>76216.000000</td>\n",
       "      <td>76216.000000</td>\n",
       "      <td>76216.000000</td>\n",
       "      <td>76216.000000</td>\n",
       "      <td>76216.000000</td>\n",
       "      <td>76216.000000</td>\n",
       "      <td>76216.000000</td>\n",
       "      <td>76216.000000</td>\n",
       "    </tr>\n",
       "    <tr>\n",
       "      <th>mean</th>\n",
       "      <td>42.760470</td>\n",
       "      <td>0.166738</td>\n",
       "      <td>0.223901</td>\n",
       "      <td>0.193621</td>\n",
       "      <td>0.183616</td>\n",
       "      <td>4.132413</td>\n",
       "      <td>6.080246</td>\n",
       "      <td>3.302259</td>\n",
       "      <td>104.578028</td>\n",
       "      <td>6002.833586</td>\n",
       "      <td>296.421859</td>\n",
       "      <td>0.016571</td>\n",
       "      <td>0.258032</td>\n",
       "      <td>9294.999410</td>\n",
       "      <td>0.998131</td>\n",
       "      <td>69.998517</td>\n",
       "    </tr>\n",
       "    <tr>\n",
       "      <th>std</th>\n",
       "      <td>11.744005</td>\n",
       "      <td>0.067595</td>\n",
       "      <td>0.079372</td>\n",
       "      <td>0.074088</td>\n",
       "      <td>0.074088</td>\n",
       "      <td>1.661460</td>\n",
       "      <td>2.360640</td>\n",
       "      <td>4.396670</td>\n",
       "      <td>95.836443</td>\n",
       "      <td>5110.743506</td>\n",
       "      <td>189.674943</td>\n",
       "      <td>0.187732</td>\n",
       "      <td>0.320587</td>\n",
       "      <td>6413.404265</td>\n",
       "      <td>0.020572</td>\n",
       "      <td>97.801415</td>\n",
       "    </tr>\n",
       "    <tr>\n",
       "      <th>min</th>\n",
       "      <td>12.000000</td>\n",
       "      <td>-0.181600</td>\n",
       "      <td>0.045830</td>\n",
       "      <td>0.040000</td>\n",
       "      <td>0.030000</td>\n",
       "      <td>1.000000</td>\n",
       "      <td>1.000000</td>\n",
       "      <td>0.000000</td>\n",
       "      <td>0.000000</td>\n",
       "      <td>0.250000</td>\n",
       "      <td>0.000000</td>\n",
       "      <td>0.000000</td>\n",
       "      <td>0.000000</td>\n",
       "      <td>1000.000000</td>\n",
       "      <td>0.700000</td>\n",
       "      <td>1.000000</td>\n",
       "    </tr>\n",
       "    <tr>\n",
       "      <th>25%</th>\n",
       "      <td>36.000000</td>\n",
       "      <td>0.114800</td>\n",
       "      <td>0.161570</td>\n",
       "      <td>0.134900</td>\n",
       "      <td>0.124900</td>\n",
       "      <td>3.000000</td>\n",
       "      <td>4.000000</td>\n",
       "      <td>1.000000</td>\n",
       "      <td>32.000000</td>\n",
       "      <td>3583.333333</td>\n",
       "      <td>159.062500</td>\n",
       "      <td>0.000000</td>\n",
       "      <td>0.150000</td>\n",
       "      <td>4000.000000</td>\n",
       "      <td>1.000000</td>\n",
       "      <td>1.000000</td>\n",
       "    </tr>\n",
       "    <tr>\n",
       "      <th>50%</th>\n",
       "      <td>36.000000</td>\n",
       "      <td>0.157670</td>\n",
       "      <td>0.215660</td>\n",
       "      <td>0.184500</td>\n",
       "      <td>0.174500</td>\n",
       "      <td>4.000000</td>\n",
       "      <td>6.000000</td>\n",
       "      <td>1.000000</td>\n",
       "      <td>76.000000</td>\n",
       "      <td>5041.666667</td>\n",
       "      <td>257.760000</td>\n",
       "      <td>0.000000</td>\n",
       "      <td>0.220000</td>\n",
       "      <td>8000.000000</td>\n",
       "      <td>1.000000</td>\n",
       "      <td>32.000000</td>\n",
       "    </tr>\n",
       "    <tr>\n",
       "      <th>75%</th>\n",
       "      <td>60.000000</td>\n",
       "      <td>0.219000</td>\n",
       "      <td>0.287800</td>\n",
       "      <td>0.254900</td>\n",
       "      <td>0.244900</td>\n",
       "      <td>5.000000</td>\n",
       "      <td>8.000000</td>\n",
       "      <td>3.000000</td>\n",
       "      <td>150.000000</td>\n",
       "      <td>7250.000000</td>\n",
       "      <td>392.420000</td>\n",
       "      <td>0.000000</td>\n",
       "      <td>0.320000</td>\n",
       "      <td>14603.250000</td>\n",
       "      <td>1.000000</td>\n",
       "      <td>100.000000</td>\n",
       "    </tr>\n",
       "    <tr>\n",
       "      <th>max</th>\n",
       "      <td>60.000000</td>\n",
       "      <td>0.319900</td>\n",
       "      <td>0.423950</td>\n",
       "      <td>0.360000</td>\n",
       "      <td>0.340000</td>\n",
       "      <td>7.000000</td>\n",
       "      <td>11.000000</td>\n",
       "      <td>20.000000</td>\n",
       "      <td>755.000000</td>\n",
       "      <td>483333.333333</td>\n",
       "      <td>2251.510000</td>\n",
       "      <td>19.000000</td>\n",
       "      <td>10.010000</td>\n",
       "      <td>35000.000000</td>\n",
       "      <td>1.012500</td>\n",
       "      <td>1189.000000</td>\n",
       "    </tr>\n",
       "  </tbody>\n",
       "</table>\n",
       "</div>"
      ],
      "text/plain": [
       "               Term  EstimatedEffectiveYield   BorrowerAPR  BorrowerRate  \\\n",
       "count  76216.000000             76216.000000  76216.000000  76216.000000   \n",
       "mean      42.760470                 0.166738      0.223901      0.193621   \n",
       "std       11.744005                 0.067595      0.079372      0.074088   \n",
       "min       12.000000                -0.181600      0.045830      0.040000   \n",
       "25%       36.000000                 0.114800      0.161570      0.134900   \n",
       "50%       36.000000                 0.157670      0.215660      0.184500   \n",
       "75%       60.000000                 0.219000      0.287800      0.254900   \n",
       "max       60.000000                 0.319900      0.423950      0.360000   \n",
       "\n",
       "        LenderYield  ProsperRating (numeric)  ProsperScore  \\\n",
       "count  76216.000000             76216.000000  76216.000000   \n",
       "mean       0.183616                 4.132413      6.080246   \n",
       "std        0.074088                 1.661460      2.360640   \n",
       "min        0.030000                 1.000000      1.000000   \n",
       "25%        0.124900                 3.000000      4.000000   \n",
       "50%        0.174500                 4.000000      6.000000   \n",
       "75%        0.244900                 5.000000      8.000000   \n",
       "max        0.340000                 7.000000     11.000000   \n",
       "\n",
       "       ListingCategory (numeric)  EmploymentStatusDuration  \\\n",
       "count               76216.000000              76216.000000   \n",
       "mean                    3.302259                104.578028   \n",
       "std                     4.396670                 95.836443   \n",
       "min                     0.000000                  0.000000   \n",
       "25%                     1.000000                 32.000000   \n",
       "50%                     1.000000                 76.000000   \n",
       "75%                     3.000000                150.000000   \n",
       "max                    20.000000                755.000000   \n",
       "\n",
       "       StatedMonthlyIncome  MonthlyLoanPayment  Recommendations  \\\n",
       "count         76216.000000        76216.000000     76216.000000   \n",
       "mean           6002.833586          296.421859         0.016571   \n",
       "std            5110.743506          189.674943         0.187732   \n",
       "min               0.250000            0.000000         0.000000   \n",
       "25%            3583.333333          159.062500         0.000000   \n",
       "50%            5041.666667          257.760000         0.000000   \n",
       "75%            7250.000000          392.420000         0.000000   \n",
       "max          483333.333333         2251.510000        19.000000   \n",
       "\n",
       "       DebtToIncomeRatio  LoanOriginalAmount  PercentFunded     Investors  \n",
       "count       76216.000000        76216.000000   76216.000000  76216.000000  \n",
       "mean            0.258032         9294.999410       0.998131     69.998517  \n",
       "std             0.320587         6413.404265       0.020572     97.801415  \n",
       "min             0.000000         1000.000000       0.700000      1.000000  \n",
       "25%             0.150000         4000.000000       1.000000      1.000000  \n",
       "50%             0.220000         8000.000000       1.000000     32.000000  \n",
       "75%             0.320000        14603.250000       1.000000    100.000000  \n",
       "max            10.010000        35000.000000       1.012500   1189.000000  "
      ]
     },
     "execution_count": 12,
     "metadata": {},
     "output_type": "execute_result"
    }
   ],
   "source": [
    "loan_df = loan_df.dropna()\n",
    "loan_df.describe()"
   ]
  },
  {
   "cell_type": "code",
   "execution_count": 13,
   "id": "2e62036e",
   "metadata": {},
   "outputs": [
    {
     "data": {
      "text/html": [
       "<div>\n",
       "<style scoped>\n",
       "    .dataframe tbody tr th:only-of-type {\n",
       "        vertical-align: middle;\n",
       "    }\n",
       "\n",
       "    .dataframe tbody tr th {\n",
       "        vertical-align: top;\n",
       "    }\n",
       "\n",
       "    .dataframe thead th {\n",
       "        text-align: right;\n",
       "    }\n",
       "</style>\n",
       "<table border=\"1\" class=\"dataframe\">\n",
       "  <thead>\n",
       "    <tr style=\"text-align: right;\">\n",
       "      <th></th>\n",
       "      <th>Term</th>\n",
       "      <th>LoanStatus</th>\n",
       "      <th>EstimatedEffectiveYield</th>\n",
       "      <th>BorrowerAPR</th>\n",
       "      <th>BorrowerRate</th>\n",
       "      <th>LenderYield</th>\n",
       "      <th>ProsperRating (numeric)</th>\n",
       "      <th>ProsperRating (Alpha)</th>\n",
       "      <th>ProsperScore</th>\n",
       "      <th>ListingCategory (numeric)</th>\n",
       "      <th>...</th>\n",
       "      <th>IncomeVerifiable</th>\n",
       "      <th>StatedMonthlyIncome</th>\n",
       "      <th>MonthlyLoanPayment</th>\n",
       "      <th>Recommendations</th>\n",
       "      <th>DebtToIncomeRatio</th>\n",
       "      <th>LoanOriginalAmount</th>\n",
       "      <th>PercentFunded</th>\n",
       "      <th>IncomeRange</th>\n",
       "      <th>Investors</th>\n",
       "      <th>BorrowerState</th>\n",
       "    </tr>\n",
       "  </thead>\n",
       "  <tbody>\n",
       "    <tr>\n",
       "      <th>1</th>\n",
       "      <td>36</td>\n",
       "      <td>Current</td>\n",
       "      <td>0.07960</td>\n",
       "      <td>0.12016</td>\n",
       "      <td>0.0920</td>\n",
       "      <td>0.0820</td>\n",
       "      <td>6.0</td>\n",
       "      <td>A</td>\n",
       "      <td>7.0</td>\n",
       "      <td>2</td>\n",
       "      <td>...</td>\n",
       "      <td>True</td>\n",
       "      <td>6125.000000</td>\n",
       "      <td>318.93</td>\n",
       "      <td>0</td>\n",
       "      <td>0.18</td>\n",
       "      <td>10000</td>\n",
       "      <td>1.0</td>\n",
       "      <td>$50,000-74,999</td>\n",
       "      <td>1</td>\n",
       "      <td>CO</td>\n",
       "    </tr>\n",
       "    <tr>\n",
       "      <th>3</th>\n",
       "      <td>36</td>\n",
       "      <td>Current</td>\n",
       "      <td>0.08490</td>\n",
       "      <td>0.12528</td>\n",
       "      <td>0.0974</td>\n",
       "      <td>0.0874</td>\n",
       "      <td>6.0</td>\n",
       "      <td>A</td>\n",
       "      <td>9.0</td>\n",
       "      <td>16</td>\n",
       "      <td>...</td>\n",
       "      <td>True</td>\n",
       "      <td>2875.000000</td>\n",
       "      <td>321.45</td>\n",
       "      <td>0</td>\n",
       "      <td>0.15</td>\n",
       "      <td>10000</td>\n",
       "      <td>1.0</td>\n",
       "      <td>$25,000-49,999</td>\n",
       "      <td>158</td>\n",
       "      <td>GA</td>\n",
       "    </tr>\n",
       "    <tr>\n",
       "      <th>4</th>\n",
       "      <td>36</td>\n",
       "      <td>Current</td>\n",
       "      <td>0.18316</td>\n",
       "      <td>0.24614</td>\n",
       "      <td>0.2085</td>\n",
       "      <td>0.1985</td>\n",
       "      <td>3.0</td>\n",
       "      <td>D</td>\n",
       "      <td>4.0</td>\n",
       "      <td>2</td>\n",
       "      <td>...</td>\n",
       "      <td>True</td>\n",
       "      <td>9583.333333</td>\n",
       "      <td>563.97</td>\n",
       "      <td>0</td>\n",
       "      <td>0.26</td>\n",
       "      <td>15000</td>\n",
       "      <td>1.0</td>\n",
       "      <td>$100,000+</td>\n",
       "      <td>20</td>\n",
       "      <td>MN</td>\n",
       "    </tr>\n",
       "    <tr>\n",
       "      <th>5</th>\n",
       "      <td>60</td>\n",
       "      <td>Current</td>\n",
       "      <td>0.11567</td>\n",
       "      <td>0.15425</td>\n",
       "      <td>0.1314</td>\n",
       "      <td>0.1214</td>\n",
       "      <td>5.0</td>\n",
       "      <td>B</td>\n",
       "      <td>10.0</td>\n",
       "      <td>1</td>\n",
       "      <td>...</td>\n",
       "      <td>True</td>\n",
       "      <td>8333.333333</td>\n",
       "      <td>342.37</td>\n",
       "      <td>0</td>\n",
       "      <td>0.36</td>\n",
       "      <td>15000</td>\n",
       "      <td>1.0</td>\n",
       "      <td>$100,000+</td>\n",
       "      <td>1</td>\n",
       "      <td>NM</td>\n",
       "    </tr>\n",
       "    <tr>\n",
       "      <th>6</th>\n",
       "      <td>36</td>\n",
       "      <td>Current</td>\n",
       "      <td>0.23820</td>\n",
       "      <td>0.31032</td>\n",
       "      <td>0.2712</td>\n",
       "      <td>0.2612</td>\n",
       "      <td>2.0</td>\n",
       "      <td>E</td>\n",
       "      <td>2.0</td>\n",
       "      <td>1</td>\n",
       "      <td>...</td>\n",
       "      <td>True</td>\n",
       "      <td>2083.333333</td>\n",
       "      <td>122.67</td>\n",
       "      <td>0</td>\n",
       "      <td>0.27</td>\n",
       "      <td>3000</td>\n",
       "      <td>1.0</td>\n",
       "      <td>$25,000-49,999</td>\n",
       "      <td>1</td>\n",
       "      <td>KS</td>\n",
       "    </tr>\n",
       "  </tbody>\n",
       "</table>\n",
       "<p>5 rows × 24 columns</p>\n",
       "</div>"
      ],
      "text/plain": [
       "   Term LoanStatus  EstimatedEffectiveYield  BorrowerAPR  BorrowerRate  \\\n",
       "1    36    Current                  0.07960      0.12016        0.0920   \n",
       "3    36    Current                  0.08490      0.12528        0.0974   \n",
       "4    36    Current                  0.18316      0.24614        0.2085   \n",
       "5    60    Current                  0.11567      0.15425        0.1314   \n",
       "6    36    Current                  0.23820      0.31032        0.2712   \n",
       "\n",
       "   LenderYield  ProsperRating (numeric) ProsperRating (Alpha)  ProsperScore  \\\n",
       "1       0.0820                      6.0                     A           7.0   \n",
       "3       0.0874                      6.0                     A           9.0   \n",
       "4       0.1985                      3.0                     D           4.0   \n",
       "5       0.1214                      5.0                     B          10.0   \n",
       "6       0.2612                      2.0                     E           2.0   \n",
       "\n",
       "   ListingCategory (numeric)  ... IncomeVerifiable StatedMonthlyIncome  \\\n",
       "1                          2  ...             True         6125.000000   \n",
       "3                         16  ...             True         2875.000000   \n",
       "4                          2  ...             True         9583.333333   \n",
       "5                          1  ...             True         8333.333333   \n",
       "6                          1  ...             True         2083.333333   \n",
       "\n",
       "   MonthlyLoanPayment  Recommendations  DebtToIncomeRatio  LoanOriginalAmount  \\\n",
       "1              318.93                0               0.18               10000   \n",
       "3              321.45                0               0.15               10000   \n",
       "4              563.97                0               0.26               15000   \n",
       "5              342.37                0               0.36               15000   \n",
       "6              122.67                0               0.27                3000   \n",
       "\n",
       "   PercentFunded     IncomeRange  Investors  BorrowerState  \n",
       "1            1.0  $50,000-74,999          1             CO  \n",
       "3            1.0  $25,000-49,999        158             GA  \n",
       "4            1.0       $100,000+         20             MN  \n",
       "5            1.0       $100,000+          1             NM  \n",
       "6            1.0  $25,000-49,999          1             KS  \n",
       "\n",
       "[5 rows x 24 columns]"
      ]
     },
     "execution_count": 13,
     "metadata": {},
     "output_type": "execute_result"
    }
   ],
   "source": [
    "loan_df.head()"
   ]
  },
  {
   "cell_type": "code",
   "execution_count": 14,
   "id": "98e14cb3",
   "metadata": {},
   "outputs": [],
   "source": [
    "#convert term into category\n",
    "loan_df['Term'] = loan_df['Term'].astype('category')"
   ]
  },
  {
   "cell_type": "code",
   "execution_count": 15,
   "id": "84a613ae",
   "metadata": {},
   "outputs": [],
   "source": [
    "loan_df.rename(columns={'ProsperRating (Alpha)': 'ProsperRating_Alpha', \n",
    "                        'ProsperRating (numeric)': 'ProsperRating_Numeric',\n",
    "                        'ListingCategory (numeric)' : 'ListingCategory_Numeric'\n",
    "                       }, inplace=True)"
   ]
  },
  {
   "cell_type": "markdown",
   "id": "c8487935",
   "metadata": {},
   "source": [
    "- The above data obtained is a final dataset, with no NULL values and this is my final working dataset.(TIDY dataset)"
   ]
  },
  {
   "cell_type": "markdown",
   "id": "2a16d8fb",
   "metadata": {},
   "source": [
    "### Identify the type of variables"
   ]
  },
  {
   "cell_type": "code",
   "execution_count": 16,
   "id": "db0fa3a1",
   "metadata": {},
   "outputs": [
    {
     "data": {
      "text/plain": [
       "Term                        category\n",
       "LoanStatus                    object\n",
       "EstimatedEffectiveYield      float64\n",
       "BorrowerAPR                  float64\n",
       "BorrowerRate                 float64\n",
       "LenderYield                  float64\n",
       "ProsperRating_Numeric        float64\n",
       "ProsperRating_Alpha           object\n",
       "ProsperScore                 float64\n",
       "ListingCategory_Numeric        int64\n",
       "EmploymentStatus              object\n",
       "Occupation                    object\n",
       "EmploymentStatusDuration     float64\n",
       "IsBorrowerHomeowner             bool\n",
       "IncomeVerifiable                bool\n",
       "StatedMonthlyIncome          float64\n",
       "MonthlyLoanPayment           float64\n",
       "Recommendations                int64\n",
       "DebtToIncomeRatio            float64\n",
       "LoanOriginalAmount             int64\n",
       "PercentFunded                float64\n",
       "IncomeRange                   object\n",
       "Investors                      int64\n",
       "BorrowerState                 object\n",
       "dtype: object"
      ]
     },
     "execution_count": 16,
     "metadata": {},
     "output_type": "execute_result"
    }
   ],
   "source": [
    "loan_df.dtypes"
   ]
  },
  {
   "cell_type": "code",
   "execution_count": 17,
   "id": "ae001fee",
   "metadata": {},
   "outputs": [
    {
     "data": {
      "text/plain": [
       "Index(['EstimatedEffectiveYield', 'BorrowerAPR', 'BorrowerRate', 'LenderYield',\n",
       "       'ProsperRating_Numeric', 'ProsperScore', 'ListingCategory_Numeric',\n",
       "       'EmploymentStatusDuration', 'StatedMonthlyIncome', 'MonthlyLoanPayment',\n",
       "       'Recommendations', 'DebtToIncomeRatio', 'LoanOriginalAmount',\n",
       "       'PercentFunded', 'Investors'],\n",
       "      dtype='object')"
      ]
     },
     "execution_count": 17,
     "metadata": {},
     "output_type": "execute_result"
    }
   ],
   "source": [
    "#Numeric attributes\n",
    "num_loan_df = loan_df.loc[:, (loan_df.dtypes == np.float64) | (loan_df.dtypes == np.int64)]\n",
    "num_loan_df.columns"
   ]
  },
  {
   "cell_type": "code",
   "execution_count": 18,
   "id": "60327424",
   "metadata": {},
   "outputs": [
    {
     "data": {
      "text/plain": [
       "Index(['Term', 'LoanStatus', 'ProsperRating_Alpha', 'EmploymentStatus',\n",
       "       'Occupation', 'IncomeRange', 'BorrowerState'],\n",
       "      dtype='object')"
      ]
     },
     "execution_count": 18,
     "metadata": {},
     "output_type": "execute_result"
    }
   ],
   "source": [
    "#Categorical attributes\n",
    "cat_loan_df = loan_df.loc[:, (loan_df.dtypes == 'object') | (loan_df.dtypes == 'category')]\n",
    "cat_loan_df.columns"
   ]
  },
  {
   "cell_type": "markdown",
   "id": "b38add0f",
   "metadata": {},
   "source": [
    "### What is the structure of this dataset?\n",
    "This data set contains 113,937 loans with 81 variables on each loan, including loan amount, borrower rate (or interest rate), current loan status, borrower income, and many others.\n",
    "\n",
    "For simplicity of the visualization I have looked at only few variables as the project objective itself says to focus on only few variables.\n",
    "\n",
    "### What is/are the main feature(s) of interest in your dataset?\n",
    "I'm most interested in figuring out what features are best for predicting the Loan outcome in the dataset.\n",
    "\n",
    "### What features in the dataset do you think will help support your investigation into your feature(s) of interest?\n",
    "I expect that loan status will have huge impact with the background of the borrower like occupation, income , whether he is with homeown status and prosper rating."
   ]
  },
  {
   "cell_type": "markdown",
   "id": "51030391",
   "metadata": {},
   "source": [
    "## Univariate Exploration"
   ]
  },
  {
   "cell_type": "markdown",
   "id": "a79cd73d",
   "metadata": {},
   "source": [
    "### Categorical attributes only"
   ]
  },
  {
   "cell_type": "code",
   "execution_count": 19,
   "id": "c6135191",
   "metadata": {},
   "outputs": [
    {
     "data": {
      "text/plain": [
       "True     41454\n",
       "False    34762\n",
       "Name: IsBorrowerHomeowner, dtype: int64"
      ]
     },
     "execution_count": 19,
     "metadata": {},
     "output_type": "execute_result"
    }
   ],
   "source": [
    "loan_df['IsBorrowerHomeowner'].value_counts()"
   ]
  },
  {
   "cell_type": "code",
   "execution_count": 20,
   "id": "a6505f5b",
   "metadata": {},
   "outputs": [
    {
     "data": {
      "text/plain": [
       "$50,000-74,999    23692\n",
       "$25,000-49,999    21421\n",
       "$100,000+         13977\n",
       "$75,000-99,999    13547\n",
       "$1-24,999          3578\n",
       "Not employed          1\n",
       "Name: IncomeRange, dtype: int64"
      ]
     },
     "execution_count": 20,
     "metadata": {},
     "output_type": "execute_result"
    }
   ],
   "source": [
    "loan_df['IncomeRange'].value_counts()"
   ]
  },
  {
   "cell_type": "code",
   "execution_count": 21,
   "id": "2a00adc8",
   "metadata": {},
   "outputs": [
    {
     "data": {
      "text/plain": [
       "C     16499\n",
       "B     14379\n",
       "A     13490\n",
       "D     12629\n",
       "E      8443\n",
       "HR     5680\n",
       "AA     5096\n",
       "Name: ProsperRating_Alpha, dtype: int64"
      ]
     },
     "execution_count": 21,
     "metadata": {},
     "output_type": "execute_result"
    }
   ],
   "source": [
    "loan_df['ProsperRating_Alpha'].value_counts()"
   ]
  },
  {
   "cell_type": "code",
   "execution_count": 24,
   "id": "e6b03dd2",
   "metadata": {},
   "outputs": [
    {
     "data": {
      "text/plain": [
       "<Figure size 720x360 with 0 Axes>"
      ]
     },
     "metadata": {},
     "output_type": "display_data"
    },
    {
     "data": {
      "image/png": "[encoded data removed]",
      "text/plain": [
       "<Figure size 720x360 with 1 Axes>"
      ]
     },
     "metadata": {
      "needs_background": "light"
     },
     "output_type": "display_data"
    }
   ],
   "source": [
    "# From above it seems the order has to be maintained becuase this is an ordinal variable\n",
    "plt.figure(figsize = [10, 5]) \n",
    "ProsperRating_Alpha_classes = ['AA','A', 'B', 'C', 'D', 'E', 'HR']\n",
    "IncomeRange_classes = ['$1-24,999', '$25,000-49,999', '$50,000-74,999', '$75,000-99,999', '$100,000+']\n",
    "pd_ver = pd.__version__.split(\".\")\n",
    "if (int(pd_ver[0]) > 0) or (int(pd_ver[1]) >= 21): # v0.21 or later\n",
    "    vclasses = pd.api.types.CategoricalDtype(ordered = True, categories = ProsperRating_Alpha_classes)\n",
    "    loan_df['ProsperRating_Alpha'] = loan_df['ProsperRating_Alpha'].astype(vclasses)\n",
    "    vclasses_1 = pd.api.types.CategoricalDtype(ordered = True, categories = IncomeRange_classes)\n",
    "    loan_df['IncomeRange'] = loan_df['IncomeRange'].astype(vclasses_1)\n",
    "else: # compatibility for v.20\n",
    "    loan_df['ProsperRating_Alpha'] = loan_df['ProsperRating_Alpha'].astype('category', ordered = True,\n",
    "                                                     categories = ProsperRating_Alpha_classes)\n",
    "    loan_df['IncomeRange'] = loan_df['IncomeRange'].astype('category', ordered = True,\n",
    "                                                     categories = IncomeRange_classes)\n",
    "\n",
    "plt.figure(figsize = [10, 5]) \n",
    "base_color = sns.color_palette()[0]\n",
    "sns.countplot(data = loan_df, x = 'ProsperRating_Alpha', color = base_color);\n"
   ]
  },
  {
   "cell_type": "markdown",
   "id": "70c56f02",
   "metadata": {},
   "source": [
    "**ListingCategory:** (Nominal Variable)\n",
    "\n",
    "- The category of the listing that the borrower selected when posting their listing:\n",
    "    \n",
    "    0 - Not Available, 1 - Debt Consolidation, 2 - Home Improvement, 3 - Business, 4 - Personal Loan, 5 - Student Use, 6 - Auto, 7- Other, 8 - Baby&Adoption, 9 - Boat, 10 - Cosmetic Procedure, 11 - Engagement Ring, 12 - Green Loans, 13 - Household Expenses, 14 - Large Purchases, 15 - Medical/Dental, 16 - Motorcycle, 17 - RV, 18 - Taxes, 19 - Vacation, 20 - Wedding Loans"
   ]
  },
  {
   "cell_type": "code",
   "execution_count": 26,
   "id": "5ab2e268",
   "metadata": {},
   "outputs": [
    {
     "data": {
      "image/png": "[encoded data removed]",
      "text/plain": [
       "<Figure size 720x360 with 1 Axes>"
      ]
     },
     "metadata": {
      "needs_background": "light"
     },
     "output_type": "display_data"
    }
   ],
   "source": [
    "# ListingCategory_Numeric\n",
    "plt.figure(figsize = [10, 5]) \n",
    "base_color = sns.color_palette()[0]\n",
    "plt.title(\"The category of the listing that the borrower selected \")\n",
    "sns.countplot(data = loan_df, x = 'ListingCategory_Numeric', color = base_color,\n",
    "             order = loan_df['ListingCategory_Numeric'].value_counts().index );\n"
   ]
  },
  {
   "cell_type": "code",
   "execution_count": 27,
   "id": "671ca340",
   "metadata": {},
   "outputs": [
    {
     "data": {
      "text/plain": [
       "Current                   51170\n",
       "Completed                 17687\n",
       "Chargedoff                 4444\n",
       "Defaulted                   885\n",
       "Past Due (1-15 days)        714\n",
       "Past Due (31-60 days)       322\n",
       "Past Due (91-120 days)      277\n",
       "Past Due (61-90 days)       275\n",
       "Past Due (16-30 days)       241\n",
       "FinalPaymentInProgress      187\n",
       "Past Due (>120 days)         14\n",
       "Name: LoanStatus, dtype: int64"
      ]
     },
     "execution_count": 27,
     "metadata": {},
     "output_type": "execute_result"
    }
   ],
   "source": [
    "loan_df['LoanStatus'].value_counts()"
   ]
  },
  {
   "cell_type": "code",
   "execution_count": 29,
   "id": "425c174f",
   "metadata": {},
   "outputs": [
    {
     "data": {
      "image/png": "[encoded data removed]",
      "text/plain": [
       "<Figure size 720x360 with 1 Axes>"
      ]
     },
     "metadata": {
      "needs_background": "light"
     },
     "output_type": "display_data"
    }
   ],
   "source": [
    "#'LoanStatus'\n",
    "plt.figure(figsize = [10, 5]) \n",
    "base_color = sns.color_palette()[0]\n",
    "plt.title(\"LoanStatus of all Borrowers\")\n",
    "sns.countplot(data = loan_df, y = 'LoanStatus', color = base_color,\n",
    "             order = loan_df['LoanStatus'].value_counts().index);\n"
   ]
  },
  {
   "cell_type": "code",
   "execution_count": 30,
   "id": "9daa18e9",
   "metadata": {},
   "outputs": [
    {
     "data": {
      "image/png": "[encoded data removed]",
      "text/plain": [
       "<Figure size 720x360 with 1 Axes>"
      ]
     },
     "metadata": {
      "needs_background": "light"
     },
     "output_type": "display_data"
    }
   ],
   "source": [
    "# 'EmploymentStatus'\n",
    "plt.figure(figsize = [10, 5]) \n",
    "base_color = sns.color_palette()[0]\n",
    "plt.title(\"EmploymentStatus of all Borrowers\")\n",
    "sns.countplot(data = loan_df, y = 'EmploymentStatus', color = base_color,\n",
    "             order = loan_df['EmploymentStatus'].value_counts().index);"
   ]
  },
  {
   "cell_type": "code",
   "execution_count": 31,
   "id": "d56316ad",
   "metadata": {},
   "outputs": [
    {
     "data": {
      "text/plain": [
       "$50,000-74,999    23692\n",
       "$25,000-49,999    21421\n",
       "$100,000+         13977\n",
       "$75,000-99,999    13547\n",
       "$1-24,999          3578\n",
       "Name: IncomeRange, dtype: int64"
      ]
     },
     "execution_count": 31,
     "metadata": {},
     "output_type": "execute_result"
    }
   ],
   "source": [
    "loan_df['IncomeRange'].value_counts()"
   ]
  },
  {
   "cell_type": "code",
   "execution_count": 32,
   "id": "ef0099f1",
   "metadata": {},
   "outputs": [],
   "source": [
    "loan_df_1 = loan_df[loan_df['IncomeRange'] != 'Not employed']"
   ]
  },
  {
   "cell_type": "code",
   "execution_count": 33,
   "id": "09310dac",
   "metadata": {},
   "outputs": [
    {
     "data": {
      "image/png": "[encoded data removed]",
      "text/plain": [
       "<Figure size 1080x576 with 1 Axes>"
      ]
     },
     "metadata": {},
     "output_type": "display_data"
    }
   ],
   "source": [
    "plt.figure(figsize = [15, 8])\n",
    "sorted_counts = loan_df_1['IncomeRange'].value_counts()\n",
    "plt.pie(sorted_counts, labels = sorted_counts.index, startangle = 90,\n",
    "        counterclock = False, wedgeprops = {'width' : 0.4}, autopct   = '%.1f%%');\n",
    "plt.title(\"IncomeRange of all Borrowers\")\n",
    "plt.axis('square');"
   ]
  },
  {
   "cell_type": "code",
   "execution_count": 34,
   "id": "27739bab",
   "metadata": {},
   "outputs": [
    {
     "data": {
      "text/plain": [
       "CA    9574\n",
       "NY    5184\n",
       "TX    5086\n",
       "FL    4738\n",
       "IL    3871\n",
       "OH    3061\n",
       "GA    3006\n",
       "VA    2530\n",
       "NJ    2463\n",
       "PA    2416\n",
       "Name: BorrowerState, dtype: int64"
      ]
     },
     "execution_count": 34,
     "metadata": {},
     "output_type": "execute_result"
    }
   ],
   "source": [
    "loan_df['BorrowerState'].value_counts().head(10)"
   ]
  },
  {
   "cell_type": "code",
   "execution_count": 35,
   "id": "e4716dd9",
   "metadata": {},
   "outputs": [
    {
     "data": {
      "image/png": "[encoded data removed]",
      "text/plain": [
       "<Figure size 720x360 with 1 Axes>"
      ]
     },
     "metadata": {
      "needs_background": "light"
     },
     "output_type": "display_data"
    }
   ],
   "source": [
    "# BorrowerState\n",
    "plt.figure(figsize = [10, 5]) \n",
    "base_color = sns.color_palette()[0]\n",
    "sns.countplot(data = loan_df, x = 'BorrowerState', color = base_color,\n",
    "             order = loan_df['BorrowerState'].value_counts().head(10).index );\n",
    "plt.title(\"Top 10 states of all Borrowers\");"
   ]
  },
  {
   "cell_type": "code",
   "execution_count": 36,
   "id": "1849abb8",
   "metadata": {},
   "outputs": [
    {
     "data": {
      "image/png": "[encoded data removed]",
      "text/plain": [
       "<Figure size 720x360 with 1 Axes>"
      ]
     },
     "metadata": {
      "needs_background": "light"
     },
     "output_type": "display_data"
    }
   ],
   "source": [
    "#'Occupation'\n",
    "plt.figure(figsize = [10, 5]) \n",
    "base_color = sns.color_palette()[0]\n",
    "sns.countplot(data = loan_df, y = 'Occupation', color = base_color,\n",
    "             order = loan_df['Occupation'].value_counts().head(10).index );\n",
    "plt.title(\"Top 10 - Occupation of all Borrowers\");"
   ]
  },
  {
   "cell_type": "code",
   "execution_count": 37,
   "id": "b2a8ac98",
   "metadata": {},
   "outputs": [
    {
     "data": {
      "image/png": "[encoded data removed]",
      "text/plain": [
       "<Figure size 720x360 with 1 Axes>"
      ]
     },
     "metadata": {
      "needs_background": "light"
     },
     "output_type": "display_data"
    }
   ],
   "source": [
    "#'Occupation'\n",
    "plt.figure(figsize = [10, 5]) \n",
    "base_color = sns.color_palette()[0]\n",
    "sns.countplot(data = loan_df, x = 'ProsperScore', color = base_color);\n",
    "plt.title(\"ProsperScore of all Borrowers\");"
   ]
  },
  {
   "cell_type": "markdown",
   "id": "86a5efce",
   "metadata": {},
   "source": [
    "### Insights with categorical variables analysis\n",
    "- Loans with **\"AA\"** category are with lesser count\n",
    "\n",
    "\n",
    "- The top 2 loan consideration reasons are **1 - Debt Consolidation, 2 - Home Improvement**\n",
    "\n",
    "\n",
    "- LoanStatus of all Borrowers are with **current** and **completed** state\n",
    "\n",
    "\n",
    "- EmploymentStatus of all Borrowers are with **Employed** State\n",
    "\n",
    "\n",
    "- Top IncomeRange of all Borrowers are within **$50,000-74,999**\n",
    "\n",
    "\n",
    "- Top 2 states of all Borrowers are from **CA** and **NY**\n",
    "\n",
    "\n",
    "- Majority of the borrowers are with an occupation of **Professional** and **Executive**\n",
    "\n",
    "\n",
    "- Majority of the borrowers are with a rating or score from **4 to 8**"
   ]
  },
  {
   "cell_type": "markdown",
   "id": "20051b33",
   "metadata": {},
   "source": [
    "### Now Let us Analyze the numeric attributes\n",
    "- The variables that are numeric are 'Term', 'EstimatedEffectiveYield', 'BorrowerAPR', 'BorrowerRate', 'ProsperRating_Numeric', 'ProsperScore', 'ListingCategory_Numeric', 'EmploymentStatusDuration', 'StatedMonthlyIncome', 'MonthlyLoanPayment', 'Recommendations', 'DebtToIncomeRatio', 'LoanOriginalAmount', 'PercentFunded', 'Investors'"
   ]
  },
  {
   "cell_type": "code",
   "execution_count": 38,
   "id": "40558312",
   "metadata": {},
   "outputs": [
    {
     "data": {
      "image/png": "[encoded data removed]",
      "text/plain": [
       "<Figure size 432x288 with 1 Axes>"
      ]
     },
     "metadata": {
      "needs_background": "light"
     },
     "output_type": "display_data"
    }
   ],
   "source": [
    "plt.hist(data = loan_df, x = 'BorrowerRate');\n",
    "plt.xlabel('BorrowerRate');\n",
    "plt.ylabel('Count');\n",
    "plt.title(\"BorrowerRate of all Borrowers\");"
   ]
  },
  {
   "cell_type": "code",
   "execution_count": 39,
   "id": "b59364bb",
   "metadata": {},
   "outputs": [
    {
     "data": {
      "image/png": "[encoded data removed]",
      "text/plain": [
       "<Figure size 432x288 with 1 Axes>"
      ]
     },
     "metadata": {
      "needs_background": "light"
     },
     "output_type": "display_data"
    }
   ],
   "source": [
    "plt.hist(data = loan_df, x = 'EmploymentStatusDuration');\n",
    "plt.xlabel('EmploymentStatusDuration');\n",
    "plt.ylabel('Count');\n",
    "plt.title(\"EmploymentStatusDuration of all Borrowers\");"
   ]
  },
  {
   "cell_type": "code",
   "execution_count": 40,
   "id": "32dedda6",
   "metadata": {},
   "outputs": [
    {
     "data": {
      "image/png": "[encoded data removed]",
      "text/plain": [
       "<Figure size 432x288 with 1 Axes>"
      ]
     },
     "metadata": {
      "needs_background": "light"
     },
     "output_type": "display_data"
    }
   ],
   "source": [
    "plt.hist(data = loan_df, x = 'StatedMonthlyIncome');\n",
    "plt.xlabel('StatedMonthlyIncome');\n",
    "plt.ylabel('Count');\n",
    "plt.title(\"StatedMonthlyIncome of all Borrowers\");"
   ]
  },
  {
   "cell_type": "code",
   "execution_count": 41,
   "id": "ee4b7a31",
   "metadata": {},
   "outputs": [
    {
     "data": {
      "text/plain": [
       "count     76216.000000\n",
       "mean       6002.833586\n",
       "std        5110.743506\n",
       "min           0.250000\n",
       "25%        3583.333333\n",
       "50%        5041.666667\n",
       "75%        7250.000000\n",
       "max      483333.333333\n",
       "Name: StatedMonthlyIncome, dtype: float64"
      ]
     },
     "execution_count": 41,
     "metadata": {},
     "output_type": "execute_result"
    }
   ],
   "source": [
    "(loan_df['StatedMonthlyIncome'].describe())"
   ]
  },
  {
   "cell_type": "code",
   "execution_count": 42,
   "id": "f787f96e",
   "metadata": {},
   "outputs": [
    {
     "data": {
      "text/plain": [
       "count    4.882046\n",
       "mean     3.778356\n",
       "std      3.708484\n",
       "min     -0.602060\n",
       "25%      3.554287\n",
       "50%      3.702574\n",
       "75%      3.860338\n",
       "max      5.684247\n",
       "Name: StatedMonthlyIncome, dtype: float64"
      ]
     },
     "execution_count": 42,
     "metadata": {},
     "output_type": "execute_result"
    }
   ],
   "source": [
    "np.log10(loan_df['StatedMonthlyIncome'].describe())"
   ]
  },
  {
   "cell_type": "code",
   "execution_count": 43,
   "id": "4a3ac6d9",
   "metadata": {},
   "outputs": [
    {
     "data": {
      "image/png": "[encoded data removed]",
      "text/plain": [
       "<Figure size 432x288 with 1 Axes>"
      ]
     },
     "metadata": {
      "needs_background": "light"
     },
     "output_type": "display_data"
    }
   ],
   "source": [
    "loan_df_sub = loan_df[loan_df['StatedMonthlyIncome'] <= 25000]\n",
    "bin_edges = np.arange(0, loan_df_sub['StatedMonthlyIncome'].max()+1000, 1000)\n",
    "plt.hist(data = loan_df, x = 'StatedMonthlyIncome', bins = bin_edges);\n",
    "plt.xlabel('StatedMonthlyIncome');\n",
    "plt.ylabel('Count');\n",
    "plt.title(\"StatedMonthlyIncome of all Borrowers\");"
   ]
  },
  {
   "cell_type": "code",
   "execution_count": 44,
   "id": "ac620b50",
   "metadata": {},
   "outputs": [
    {
     "data": {
      "image/png": "[encoded data removed]",
      "text/plain": [
       "<Figure size 1080x576 with 2 Axes>"
      ]
     },
     "metadata": {
      "needs_background": "light"
     },
     "output_type": "display_data"
    }
   ],
   "source": [
    "plt.figure(figsize = [15, 8])\n",
    "\n",
    "# left histogram: data plotted in natural units\n",
    "plt.subplot(1, 2, 1)\n",
    "bin_edges = np.arange(0, loan_df_sub['StatedMonthlyIncome'].max()+1000, 1000)\n",
    "plt.hist(data =loan_df_sub, x = 'StatedMonthlyIncome', bins = bin_edges)\n",
    "plt.xlabel('StatedMonthlyIncome')\n",
    "plt.ylabel('Count');\n",
    "plt.title(\"StatedMonthlyIncome of all Borrowers\");\n",
    "\n",
    "# right histogram: data plotted after direct log transformation\n",
    "plt.subplot(1, 2, 2)\n",
    "log_data = np.log10(loan_df_sub['StatedMonthlyIncome']) # direct data transform\n",
    "log_bin_edges = np.arange(3, log_data.max()+0.5, 0.025)\n",
    "plt.hist(log_data, bins = log_bin_edges)\n",
    "plt.xlabel('log(StatedMonthlyIncome)');\n",
    "plt.ylabel('Count');\n",
    "plt.title(\"StatedMonthlyIncome of all Borrowers (Log)\");\n",
    "\n",
    "\n",
    "\n",
    "# Without log transformation looks good on StatedMonthlyIncome"
   ]
  },
  {
   "cell_type": "code",
   "execution_count": 45,
   "id": "1fb6505f",
   "metadata": {},
   "outputs": [
    {
     "data": {
      "image/png": "[encoded data removed]",
      "text/plain": [
       "<Figure size 432x288 with 1 Axes>"
      ]
     },
     "metadata": {
      "needs_background": "light"
     },
     "output_type": "display_data"
    }
   ],
   "source": [
    "plt.hist(data = loan_df, x = 'LoanOriginalAmount');"
   ]
  },
  {
   "cell_type": "code",
   "execution_count": null,
   "id": "601a3a0a",
   "metadata": {},
   "outputs": [],
   "source": []
  }
 ],
 "metadata": {
  "kernelspec": {
   "display_name": "Python 3 (ipykernel)",
   "language": "python",
   "name": "python3"
  },
  "language_info": {
   "codemirror_mode": {
    "name": "ipython",
    "version": 3
   },
   "file_extension": ".py",
   "mimetype": "text/x-python",
   "name": "python",
   "nbconvert_exporter": "python",
   "pygments_lexer": "ipython3",
   "version": "3.9.7"
  }
 },
 "nbformat": 4,
 "nbformat_minor": 5
}
