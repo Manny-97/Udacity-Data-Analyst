{
 "cells": [
  {
   "cell_type": "code",
   "execution_count": null,
   "metadata": {},
   "outputs": [],
   "source": []
  },
  {
   "cell_type": "code",
   "execution_count": 1,
   "metadata": {},
   "outputs": [],
   "source": [
    "#Importing the necessary libraries\n",
    "import numpy as np\n",
    "import pandas as pd\n",
    "import matplotlib.pyplot as plt\n",
    "import seaborn as sns\n",
    "import warnings\n",
    "%matplotlib inline\n",
    "\n",
    "warnings.filterwarnings(\"ignore\")\n",
    "# set max_colwidth of cell pandas dataframe to show full dataframe\n",
    "pd.set_option('display.max_colwidth', -1)"
   ]
  },
  {
   "cell_type": "code",
   "execution_count": 3,
   "metadata": {},
   "outputs": [
    {
     "data": {
      "text/html": [
       "<div>\n",
       "<style scoped>\n",
       "    .dataframe tbody tr th:only-of-type {\n",
       "        vertical-align: middle;\n",
       "    }\n",
       "\n",
       "    .dataframe tbody tr th {\n",
       "        vertical-align: top;\n",
       "    }\n",
       "\n",
       "    .dataframe thead th {\n",
       "        text-align: right;\n",
       "    }\n",
       "</style>\n",
       "<table border=\"1\" class=\"dataframe\">\n",
       "  <thead>\n",
       "    <tr style=\"text-align: right;\">\n",
       "      <th></th>\n",
       "      <th>ListingCreationDate</th>\n",
       "      <th>Term</th>\n",
       "      <th>LoanStatus</th>\n",
       "      <th>ClosedDate</th>\n",
       "      <th>BorrowerAPR</th>\n",
       "      <th>BorrowerRate</th>\n",
       "      <th>LenderYield</th>\n",
       "      <th>ProsperRating_Alpha</th>\n",
       "      <th>ProsperRating_Numeric</th>\n",
       "      <th>ProsperScore</th>\n",
       "      <th>...</th>\n",
       "      <th>AmountDelinquent</th>\n",
       "      <th>IncomeRange</th>\n",
       "      <th>StatedMonthlyIncome</th>\n",
       "      <th>LoanCurrentDaysDelinquent</th>\n",
       "      <th>LoanOriginalAmount</th>\n",
       "      <th>LoanOriginationDate</th>\n",
       "      <th>MonthlyLoanPayment</th>\n",
       "      <th>LP_ServiceFees</th>\n",
       "      <th>Investors</th>\n",
       "      <th>IsBorrowerHomeowner</th>\n",
       "    </tr>\n",
       "  </thead>\n",
       "  <tbody>\n",
       "    <tr>\n",
       "      <th>0</th>\n",
       "      <td>2012-04-10 09:14:46.297</td>\n",
       "      <td>36</td>\n",
       "      <td>Defaulted</td>\n",
       "      <td>2012-12-19</td>\n",
       "      <td>0.35797</td>\n",
       "      <td>0.3177</td>\n",
       "      <td>0.3077</td>\n",
       "      <td>HR</td>\n",
       "      <td>1.0</td>\n",
       "      <td>5.0</td>\n",
       "      <td>...</td>\n",
       "      <td>0.0</td>\n",
       "      <td>$50,000-74,999</td>\n",
       "      <td>5500.000000</td>\n",
       "      <td>140</td>\n",
       "      <td>4000</td>\n",
       "      <td>2012-04-19</td>\n",
       "      <td>173.71</td>\n",
       "      <td>-9.81</td>\n",
       "      <td>10</td>\n",
       "      <td>True</td>\n",
       "    </tr>\n",
       "    <tr>\n",
       "      <th>1</th>\n",
       "      <td>2013-04-22 13:29:19.073</td>\n",
       "      <td>36</td>\n",
       "      <td>Defaulted</td>\n",
       "      <td>2013-12-26</td>\n",
       "      <td>0.28032</td>\n",
       "      <td>0.2419</td>\n",
       "      <td>0.2319</td>\n",
       "      <td>D</td>\n",
       "      <td>3.0</td>\n",
       "      <td>5.0</td>\n",
       "      <td>...</td>\n",
       "      <td>0.0</td>\n",
       "      <td>$25,000-49,999</td>\n",
       "      <td>2500.000000</td>\n",
       "      <td>193</td>\n",
       "      <td>2000</td>\n",
       "      <td>2013-04-26</td>\n",
       "      <td>78.67</td>\n",
       "      <td>-4.89</td>\n",
       "      <td>30</td>\n",
       "      <td>False</td>\n",
       "    </tr>\n",
       "    <tr>\n",
       "      <th>2</th>\n",
       "      <td>2013-02-12 18:07:31.690</td>\n",
       "      <td>60</td>\n",
       "      <td>Completed</td>\n",
       "      <td>2013-10-22</td>\n",
       "      <td>0.30748</td>\n",
       "      <td>0.2809</td>\n",
       "      <td>0.2709</td>\n",
       "      <td>E</td>\n",
       "      <td>2.0</td>\n",
       "      <td>3.0</td>\n",
       "      <td>...</td>\n",
       "      <td>0.0</td>\n",
       "      <td>$25,000-49,999</td>\n",
       "      <td>3885.916667</td>\n",
       "      <td>0</td>\n",
       "      <td>4000</td>\n",
       "      <td>2013-02-21</td>\n",
       "      <td>124.76</td>\n",
       "      <td>-25.81</td>\n",
       "      <td>37</td>\n",
       "      <td>False</td>\n",
       "    </tr>\n",
       "    <tr>\n",
       "      <th>3</th>\n",
       "      <td>2010-06-16 16:23:44.533</td>\n",
       "      <td>36</td>\n",
       "      <td>Completed</td>\n",
       "      <td>2013-07-03</td>\n",
       "      <td>0.11296</td>\n",
       "      <td>0.0920</td>\n",
       "      <td>0.0820</td>\n",
       "      <td>A</td>\n",
       "      <td>6.0</td>\n",
       "      <td>9.0</td>\n",
       "      <td>...</td>\n",
       "      <td>0.0</td>\n",
       "      <td>$75,000-99,999</td>\n",
       "      <td>6666.666667</td>\n",
       "      <td>0</td>\n",
       "      <td>4000</td>\n",
       "      <td>2010-06-24</td>\n",
       "      <td>0.00</td>\n",
       "      <td>-64.62</td>\n",
       "      <td>121</td>\n",
       "      <td>True</td>\n",
       "    </tr>\n",
       "    <tr>\n",
       "      <th>4</th>\n",
       "      <td>2012-01-30 17:59:17.200</td>\n",
       "      <td>36</td>\n",
       "      <td>Completed</td>\n",
       "      <td>2012-12-19</td>\n",
       "      <td>0.12782</td>\n",
       "      <td>0.0999</td>\n",
       "      <td>0.0899</td>\n",
       "      <td>A</td>\n",
       "      <td>6.0</td>\n",
       "      <td>9.0</td>\n",
       "      <td>...</td>\n",
       "      <td>42488.0</td>\n",
       "      <td>$25,000-49,999</td>\n",
       "      <td>3750.000000</td>\n",
       "      <td>0</td>\n",
       "      <td>10000</td>\n",
       "      <td>2012-02-07</td>\n",
       "      <td>322.62</td>\n",
       "      <td>-68.22</td>\n",
       "      <td>30</td>\n",
       "      <td>False</td>\n",
       "    </tr>\n",
       "  </tbody>\n",
       "</table>\n",
       "<p>5 rows × 24 columns</p>\n",
       "</div>"
      ],
      "text/plain": [
       "       ListingCreationDate  Term LoanStatus  ClosedDate  BorrowerAPR  \\\n",
       "0  2012-04-10 09:14:46.297  36    Defaulted  2012-12-19  0.35797       \n",
       "1  2013-04-22 13:29:19.073  36    Defaulted  2013-12-26  0.28032       \n",
       "2  2013-02-12 18:07:31.690  60    Completed  2013-10-22  0.30748       \n",
       "3  2010-06-16 16:23:44.533  36    Completed  2013-07-03  0.11296       \n",
       "4  2012-01-30 17:59:17.200  36    Completed  2012-12-19  0.12782       \n",
       "\n",
       "   BorrowerRate  LenderYield ProsperRating_Alpha  ProsperRating_Numeric  \\\n",
       "0  0.3177        0.3077       HR                  1.0                     \n",
       "1  0.2419        0.2319       D                   3.0                     \n",
       "2  0.2809        0.2709       E                   2.0                     \n",
       "3  0.0920        0.0820       A                   6.0                     \n",
       "4  0.0999        0.0899       A                   6.0                     \n",
       "\n",
       "   ProsperScore  ...  AmountDelinquent     IncomeRange StatedMonthlyIncome  \\\n",
       "0  5.0           ...  0.0               $50,000-74,999  5500.000000          \n",
       "1  5.0           ...  0.0               $25,000-49,999  2500.000000          \n",
       "2  3.0           ...  0.0               $25,000-49,999  3885.916667          \n",
       "3  9.0           ...  0.0               $75,000-99,999  6666.666667          \n",
       "4  9.0           ...  42488.0           $25,000-49,999  3750.000000          \n",
       "\n",
       "  LoanCurrentDaysDelinquent  LoanOriginalAmount LoanOriginationDate  \\\n",
       "0  140                       4000                2012-04-19           \n",
       "1  193                       2000                2013-04-26           \n",
       "2  0                         4000                2013-02-21           \n",
       "3  0                         4000                2010-06-24           \n",
       "4  0                         10000               2012-02-07           \n",
       "\n",
       "   MonthlyLoanPayment  LP_ServiceFees  Investors IsBorrowerHomeowner  \n",
       "0  173.71             -9.81            10         True                \n",
       "1  78.67              -4.89            30         False               \n",
       "2  124.76             -25.81           37         False               \n",
       "3  0.00               -64.62           121        True                \n",
       "4  322.62             -68.22           30         False               \n",
       "\n",
       "[5 rows x 24 columns]"
      ]
     },
     "execution_count": 3,
     "metadata": {},
     "output_type": "execute_result"
    }
   ],
   "source": [
    "loan_df = pd.read_csv(\"./data/clean_loan.csv\")\n",
    "loan_df.head()"
   ]
  },
  {
   "cell_type": "code",
   "execution_count": 4,
   "metadata": {},
   "outputs": [
    {
     "name": "stdout",
     "output_type": "stream",
     "text": [
      "<class 'pandas.core.frame.DataFrame'>\n",
      "RangeIndex: 25992 entries, 0 to 25991\n",
      "Data columns (total 24 columns):\n",
      " #   Column                     Non-Null Count  Dtype  \n",
      "---  ------                     --------------  -----  \n",
      " 0   ListingCreationDate        25992 non-null  object \n",
      " 1   Term                       25992 non-null  int64  \n",
      " 2   LoanStatus                 25992 non-null  object \n",
      " 3   ClosedDate                 25992 non-null  object \n",
      " 4   BorrowerAPR                25992 non-null  float64\n",
      " 5   BorrowerRate               25992 non-null  float64\n",
      " 6   LenderYield                25992 non-null  float64\n",
      " 7   ProsperRating_Alpha        25992 non-null  object \n",
      " 8   ProsperRating_Numeric      25992 non-null  float64\n",
      " 9   ProsperScore               25992 non-null  float64\n",
      " 10  ListingCategory_Numeric    25992 non-null  int64  \n",
      " 11  BorrowerState              25992 non-null  object \n",
      " 12  Occupation                 25992 non-null  object \n",
      " 13  EmploymentStatus           25992 non-null  object \n",
      " 14  AmountDelinquent           25992 non-null  float64\n",
      " 15  IncomeRange                25617 non-null  object \n",
      " 16  StatedMonthlyIncome        25992 non-null  float64\n",
      " 17  LoanCurrentDaysDelinquent  25992 non-null  int64  \n",
      " 18  LoanOriginalAmount         25992 non-null  int64  \n",
      " 19  LoanOriginationDate        25992 non-null  object \n",
      " 20  MonthlyLoanPayment         25992 non-null  float64\n",
      " 21  LP_ServiceFees             25992 non-null  float64\n",
      " 22  Investors                  25992 non-null  int64  \n",
      " 23  IsBorrowerHomeowner        25992 non-null  bool   \n",
      "dtypes: bool(1), float64(9), int64(5), object(9)\n",
      "memory usage: 4.6+ MB\n"
     ]
    }
   ],
   "source": [
    "loan_df.info()"
   ]
  },
  {
   "cell_type": "code",
   "execution_count": 11,
   "metadata": {},
   "outputs": [
    {
     "data": {
      "text/html": [
       "<div>\n",
       "<style scoped>\n",
       "    .dataframe tbody tr th:only-of-type {\n",
       "        vertical-align: middle;\n",
       "    }\n",
       "\n",
       "    .dataframe tbody tr th {\n",
       "        vertical-align: top;\n",
       "    }\n",
       "\n",
       "    .dataframe thead th {\n",
       "        text-align: right;\n",
       "    }\n",
       "</style>\n",
       "<table border=\"1\" class=\"dataframe\">\n",
       "  <thead>\n",
       "    <tr style=\"text-align: right;\">\n",
       "      <th></th>\n",
       "      <th>count</th>\n",
       "      <th>mean</th>\n",
       "      <th>std</th>\n",
       "      <th>min</th>\n",
       "      <th>25%</th>\n",
       "      <th>50%</th>\n",
       "      <th>75%</th>\n",
       "      <th>max</th>\n",
       "    </tr>\n",
       "  </thead>\n",
       "  <tbody>\n",
       "    <tr>\n",
       "      <th>Term</th>\n",
       "      <td>25992.0</td>\n",
       "      <td>37.999077</td>\n",
       "      <td>10.575528</td>\n",
       "      <td>12.00000</td>\n",
       "      <td>36.000000</td>\n",
       "      <td>36.000000</td>\n",
       "      <td>36.000000</td>\n",
       "      <td>60.000000</td>\n",
       "    </tr>\n",
       "    <tr>\n",
       "      <th>BorrowerAPR</th>\n",
       "      <td>25992.0</td>\n",
       "      <td>0.251491</td>\n",
       "      <td>0.090386</td>\n",
       "      <td>0.04583</td>\n",
       "      <td>0.173590</td>\n",
       "      <td>0.268340</td>\n",
       "      <td>0.335530</td>\n",
       "      <td>0.423950</td>\n",
       "    </tr>\n",
       "    <tr>\n",
       "      <th>BorrowerRate</th>\n",
       "      <td>25992.0</td>\n",
       "      <td>0.219606</td>\n",
       "      <td>0.084177</td>\n",
       "      <td>0.04000</td>\n",
       "      <td>0.146900</td>\n",
       "      <td>0.231000</td>\n",
       "      <td>0.295800</td>\n",
       "      <td>0.360000</td>\n",
       "    </tr>\n",
       "    <tr>\n",
       "      <th>LenderYield</th>\n",
       "      <td>25992.0</td>\n",
       "      <td>0.209591</td>\n",
       "      <td>0.084181</td>\n",
       "      <td>0.03000</td>\n",
       "      <td>0.136900</td>\n",
       "      <td>0.221000</td>\n",
       "      <td>0.285800</td>\n",
       "      <td>0.340000</td>\n",
       "    </tr>\n",
       "    <tr>\n",
       "      <th>ProsperRating_Numeric</th>\n",
       "      <td>25992.0</td>\n",
       "      <td>3.663396</td>\n",
       "      <td>1.814511</td>\n",
       "      <td>1.00000</td>\n",
       "      <td>2.000000</td>\n",
       "      <td>3.000000</td>\n",
       "      <td>5.000000</td>\n",
       "      <td>7.000000</td>\n",
       "    </tr>\n",
       "    <tr>\n",
       "      <th>ProsperScore</th>\n",
       "      <td>25992.0</td>\n",
       "      <td>6.267313</td>\n",
       "      <td>2.319193</td>\n",
       "      <td>1.00000</td>\n",
       "      <td>5.000000</td>\n",
       "      <td>6.000000</td>\n",
       "      <td>8.000000</td>\n",
       "      <td>11.000000</td>\n",
       "    </tr>\n",
       "    <tr>\n",
       "      <th>ListingCategory_Numeric</th>\n",
       "      <td>25992.0</td>\n",
       "      <td>3.754694</td>\n",
       "      <td>4.109566</td>\n",
       "      <td>0.00000</td>\n",
       "      <td>1.000000</td>\n",
       "      <td>2.000000</td>\n",
       "      <td>7.000000</td>\n",
       "      <td>20.000000</td>\n",
       "    </tr>\n",
       "    <tr>\n",
       "      <th>AmountDelinquent</th>\n",
       "      <td>25992.0</td>\n",
       "      <td>995.854494</td>\n",
       "      <td>7179.725855</td>\n",
       "      <td>0.00000</td>\n",
       "      <td>0.000000</td>\n",
       "      <td>0.000000</td>\n",
       "      <td>0.000000</td>\n",
       "      <td>327677.000000</td>\n",
       "    </tr>\n",
       "    <tr>\n",
       "      <th>StatedMonthlyIncome</th>\n",
       "      <td>25992.0</td>\n",
       "      <td>5491.003507</td>\n",
       "      <td>6825.602083</td>\n",
       "      <td>0.00000</td>\n",
       "      <td>3166.666667</td>\n",
       "      <td>4583.333333</td>\n",
       "      <td>6666.666667</td>\n",
       "      <td>618547.833333</td>\n",
       "    </tr>\n",
       "    <tr>\n",
       "      <th>LoanCurrentDaysDelinquent</th>\n",
       "      <td>25992.0</td>\n",
       "      <td>116.259926</td>\n",
       "      <td>253.927546</td>\n",
       "      <td>0.00000</td>\n",
       "      <td>0.000000</td>\n",
       "      <td>0.000000</td>\n",
       "      <td>0.000000</td>\n",
       "      <td>1593.000000</td>\n",
       "    </tr>\n",
       "    <tr>\n",
       "      <th>LoanOriginalAmount</th>\n",
       "      <td>25992.0</td>\n",
       "      <td>6375.824523</td>\n",
       "      <td>4781.752809</td>\n",
       "      <td>1000.00000</td>\n",
       "      <td>3000.000000</td>\n",
       "      <td>4500.000000</td>\n",
       "      <td>8000.000000</td>\n",
       "      <td>35000.000000</td>\n",
       "    </tr>\n",
       "    <tr>\n",
       "      <th>MonthlyLoanPayment</th>\n",
       "      <td>25992.0</td>\n",
       "      <td>232.660136</td>\n",
       "      <td>169.660960</td>\n",
       "      <td>0.00000</td>\n",
       "      <td>122.305000</td>\n",
       "      <td>176.480000</td>\n",
       "      <td>314.700000</td>\n",
       "      <td>2251.510000</td>\n",
       "    </tr>\n",
       "    <tr>\n",
       "      <th>LP_ServiceFees</th>\n",
       "      <td>25992.0</td>\n",
       "      <td>-52.216156</td>\n",
       "      <td>52.742187</td>\n",
       "      <td>-589.95000</td>\n",
       "      <td>-70.802500</td>\n",
       "      <td>-35.080000</td>\n",
       "      <td>-16.070000</td>\n",
       "      <td>3.010000</td>\n",
       "    </tr>\n",
       "    <tr>\n",
       "      <th>Investors</th>\n",
       "      <td>25992.0</td>\n",
       "      <td>92.393429</td>\n",
       "      <td>97.980331</td>\n",
       "      <td>1.00000</td>\n",
       "      <td>28.000000</td>\n",
       "      <td>62.000000</td>\n",
       "      <td>125.000000</td>\n",
       "      <td>1189.000000</td>\n",
       "    </tr>\n",
       "  </tbody>\n",
       "</table>\n",
       "</div>"
      ],
      "text/plain": [
       "                             count         mean          std         min  \\\n",
       "Term                       25992.0  37.999077    10.575528    12.00000     \n",
       "BorrowerAPR                25992.0  0.251491     0.090386     0.04583      \n",
       "BorrowerRate               25992.0  0.219606     0.084177     0.04000      \n",
       "LenderYield                25992.0  0.209591     0.084181     0.03000      \n",
       "ProsperRating_Numeric      25992.0  3.663396     1.814511     1.00000      \n",
       "ProsperScore               25992.0  6.267313     2.319193     1.00000      \n",
       "ListingCategory_Numeric    25992.0  3.754694     4.109566     0.00000      \n",
       "AmountDelinquent           25992.0  995.854494   7179.725855  0.00000      \n",
       "StatedMonthlyIncome        25992.0  5491.003507  6825.602083  0.00000      \n",
       "LoanCurrentDaysDelinquent  25992.0  116.259926   253.927546   0.00000      \n",
       "LoanOriginalAmount         25992.0  6375.824523  4781.752809  1000.00000   \n",
       "MonthlyLoanPayment         25992.0  232.660136   169.660960   0.00000      \n",
       "LP_ServiceFees             25992.0 -52.216156    52.742187   -589.95000    \n",
       "Investors                  25992.0  92.393429    97.980331    1.00000      \n",
       "\n",
       "                                   25%          50%          75%  \\\n",
       "Term                       36.000000    36.000000    36.000000     \n",
       "BorrowerAPR                0.173590     0.268340     0.335530      \n",
       "BorrowerRate               0.146900     0.231000     0.295800      \n",
       "LenderYield                0.136900     0.221000     0.285800      \n",
       "ProsperRating_Numeric      2.000000     3.000000     5.000000      \n",
       "ProsperScore               5.000000     6.000000     8.000000      \n",
       "ListingCategory_Numeric    1.000000     2.000000     7.000000      \n",
       "AmountDelinquent           0.000000     0.000000     0.000000      \n",
       "StatedMonthlyIncome        3166.666667  4583.333333  6666.666667   \n",
       "LoanCurrentDaysDelinquent  0.000000     0.000000     0.000000      \n",
       "LoanOriginalAmount         3000.000000  4500.000000  8000.000000   \n",
       "MonthlyLoanPayment         122.305000   176.480000   314.700000    \n",
       "LP_ServiceFees            -70.802500   -35.080000   -16.070000     \n",
       "Investors                  28.000000    62.000000    125.000000    \n",
       "\n",
       "                                     max  \n",
       "Term                       60.000000      \n",
       "BorrowerAPR                0.423950       \n",
       "BorrowerRate               0.360000       \n",
       "LenderYield                0.340000       \n",
       "ProsperRating_Numeric      7.000000       \n",
       "ProsperScore               11.000000      \n",
       "ListingCategory_Numeric    20.000000      \n",
       "AmountDelinquent           327677.000000  \n",
       "StatedMonthlyIncome        618547.833333  \n",
       "LoanCurrentDaysDelinquent  1593.000000    \n",
       "LoanOriginalAmount         35000.000000   \n",
       "MonthlyLoanPayment         2251.510000    \n",
       "LP_ServiceFees             3.010000       \n",
       "Investors                  1189.000000    "
      ]
     },
     "execution_count": 11,
     "metadata": {},
     "output_type": "execute_result"
    }
   ],
   "source": [
    "loan_df.describe().T"
   ]
  },
  {
   "cell_type": "code",
   "execution_count": 8,
   "metadata": {},
   "outputs": [
    {
     "data": {
      "text/html": [
       "<div>\n",
       "<style scoped>\n",
       "    .dataframe tbody tr th:only-of-type {\n",
       "        vertical-align: middle;\n",
       "    }\n",
       "\n",
       "    .dataframe tbody tr th {\n",
       "        vertical-align: top;\n",
       "    }\n",
       "\n",
       "    .dataframe thead th {\n",
       "        text-align: right;\n",
       "    }\n",
       "</style>\n",
       "<table border=\"1\" class=\"dataframe\">\n",
       "  <thead>\n",
       "    <tr style=\"text-align: right;\">\n",
       "      <th></th>\n",
       "      <th>count</th>\n",
       "      <th>unique</th>\n",
       "      <th>top</th>\n",
       "      <th>freq</th>\n",
       "    </tr>\n",
       "  </thead>\n",
       "  <tbody>\n",
       "    <tr>\n",
       "      <th>ListingCreationDate</th>\n",
       "      <td>25992</td>\n",
       "      <td>25979</td>\n",
       "      <td>2013-09-09 13:15:21.327</td>\n",
       "      <td>2</td>\n",
       "    </tr>\n",
       "    <tr>\n",
       "      <th>LoanStatus</th>\n",
       "      <td>25992</td>\n",
       "      <td>3</td>\n",
       "      <td>Completed</td>\n",
       "      <td>19651</td>\n",
       "    </tr>\n",
       "    <tr>\n",
       "      <th>ClosedDate</th>\n",
       "      <td>25992</td>\n",
       "      <td>1452</td>\n",
       "      <td>2014-03-04</td>\n",
       "      <td>104</td>\n",
       "    </tr>\n",
       "    <tr>\n",
       "      <th>ProsperRating_Alpha</th>\n",
       "      <td>25992</td>\n",
       "      <td>7</td>\n",
       "      <td>D</td>\n",
       "      <td>5867</td>\n",
       "    </tr>\n",
       "    <tr>\n",
       "      <th>BorrowerState</th>\n",
       "      <td>25992</td>\n",
       "      <td>48</td>\n",
       "      <td>CA</td>\n",
       "      <td>3305</td>\n",
       "    </tr>\n",
       "    <tr>\n",
       "      <th>Occupation</th>\n",
       "      <td>25992</td>\n",
       "      <td>67</td>\n",
       "      <td>Other</td>\n",
       "      <td>6756</td>\n",
       "    </tr>\n",
       "    <tr>\n",
       "      <th>EmploymentStatus</th>\n",
       "      <td>25992</td>\n",
       "      <td>7</td>\n",
       "      <td>Employed</td>\n",
       "      <td>16479</td>\n",
       "    </tr>\n",
       "    <tr>\n",
       "      <th>IncomeRange</th>\n",
       "      <td>25617</td>\n",
       "      <td>6</td>\n",
       "      <td>$25,000-49,999</td>\n",
       "      <td>8319</td>\n",
       "    </tr>\n",
       "    <tr>\n",
       "      <th>LoanOriginationDate</th>\n",
       "      <td>25992</td>\n",
       "      <td>1143</td>\n",
       "      <td>2011-08-31</td>\n",
       "      <td>133</td>\n",
       "    </tr>\n",
       "  </tbody>\n",
       "</table>\n",
       "</div>"
      ],
      "text/plain": [
       "                     count unique                      top   freq\n",
       "ListingCreationDate  25992  25979  2013-09-09 13:15:21.327  2    \n",
       "LoanStatus           25992  3      Completed                19651\n",
       "ClosedDate           25992  1452   2014-03-04               104  \n",
       "ProsperRating_Alpha  25992  7      D                        5867 \n",
       "BorrowerState        25992  48     CA                       3305 \n",
       "Occupation           25992  67     Other                    6756 \n",
       "EmploymentStatus     25992  7      Employed                 16479\n",
       "IncomeRange          25617  6      $25,000-49,999           8319 \n",
       "LoanOriginationDate  25992  1143   2011-08-31               133  "
      ]
     },
     "execution_count": 8,
     "metadata": {},
     "output_type": "execute_result"
    }
   ],
   "source": [
    "loan_df.describe(include=object).T"
   ]
  },
  {
   "cell_type": "code",
   "execution_count": 5,
   "metadata": {},
   "outputs": [],
   "source": [
    "base_color = sns.color_palette()[0]\n",
    "plt.rcParams[\"figure.figsize\"] = (12, 8)"
   ]
  },
  {
   "cell_type": "code",
   "execution_count": 9,
   "metadata": {},
   "outputs": [
    {
     "data": {
      "image/png": "[encoded data removed]",
      "text/plain": [
       "<Figure size 864x576 with 1 Axes>"
      ]
     },
     "metadata": {
      "needs_background": "light"
     },
     "output_type": "display_data"
    }
   ],
   "source": [
    "sns.countplot(data=loan_df,x= 'LoanStatus')\n",
    "plt.title('LoanStatus')\n",
    "plt.xlabel('Loan Status');"
   ]
  },
  {
   "cell_type": "code",
   "execution_count": 10,
   "metadata": {},
   "outputs": [
    {
     "data": {
      "image/png": "[encoded data removed]",
      "text/plain": [
       "<Figure size 864x576 with 1 Axes>"
      ]
     },
     "metadata": {
      "needs_background": "light"
     },
     "output_type": "display_data"
    }
   ],
   "source": [
    "sns.countplot(data=loan_df,x= 'ProsperRating_Alpha')\n",
    "plt.title('ProsperRating_Alpha')\n",
    "plt.xlabel('Prosper Rating_Alpha');"
   ]
  },
  {
   "cell_type": "code",
   "execution_count": 6,
   "metadata": {},
   "outputs": [
    {
     "data": {
      "image/png": "[encoded data removed]",
      "text/plain": [
       "<Figure size 864x576 with 1 Axes>"
      ]
     },
     "metadata": {
      "needs_background": "light"
     },
     "output_type": "display_data"
    }
   ],
   "source": [
    "sns.countplot(data=loan_df,x= 'Term')\n",
    "plt.title('Terms of loan (Months)')\n",
    "plt.xlabel('Term (Months)');"
   ]
  },
  {
   "cell_type": "code",
   "execution_count": 12,
   "metadata": {},
   "outputs": [
    {
     "data": {
      "image/png": "[encoded data removed]",
      "text/plain": [
       "<Figure size 864x576 with 1 Axes>"
      ]
     },
     "metadata": {
      "needs_background": "light"
     },
     "output_type": "display_data"
    }
   ],
   "source": [
    "cat_order = loan_df['BorrowerState'].value_counts().index\n",
    "sns.countplot(data=loan_df,x='BorrowerState',color=base_color, order=cat_order)\n",
    "plt.title('Borrower State Distribution')\n",
    "plt.xticks(rotation=90);"
   ]
  },
  {
   "cell_type": "code",
   "execution_count": 13,
   "metadata": {},
   "outputs": [
    {
     "data": {
      "image/png": "[encoded data removed]",
      "text/plain": [
       "<Figure size 864x576 with 1 Axes>"
      ]
     },
     "metadata": {
      "needs_background": "light"
     },
     "output_type": "display_data"
    }
   ],
   "source": [
    "sns.countplot(data=loan_df,x='IncomeRange')\n",
    "plt.title('Borrower Income Range Distribution');"
   ]
  },
  {
   "cell_type": "code",
   "execution_count": 15,
   "metadata": {},
   "outputs": [
    {
     "data": {
      "image/png": "[encoded data removed]",
      "text/plain": [
       "<Figure size 864x576 with 1 Axes>"
      ]
     },
     "metadata": {
      "needs_background": "light"
     },
     "output_type": "display_data"
    }
   ],
   "source": [
    "sns.countplot(data = loan_df, y = 'Occupation', color = base_color,\n",
    "             order = loan_df['Occupation'].value_counts().head(10).index )\n",
    "plt.title(\"Top 10 - Occupation of all Borrowers\");"
   ]
  },
  {
   "cell_type": "code",
   "execution_count": 16,
   "metadata": {},
   "outputs": [
    {
     "data": {
      "image/png": "[encoded data removed]",
      "text/plain": [
       "<Figure size 864x576 with 1 Axes>"
      ]
     },
     "metadata": {
      "needs_background": "light"
     },
     "output_type": "display_data"
    }
   ],
   "source": [
    "base_color = sns.color_palette()[0]\n",
    "sns.countplot(data = loan_df, x = 'ProsperScore', color = base_color)\n",
    "plt.title(\"ProsperScore of all Borrowers\");"
   ]
  },
  {
   "cell_type": "code",
   "execution_count": null,
   "metadata": {},
   "outputs": [],
   "source": []
  }
 ],
 "metadata": {
  "kernelspec": {
   "display_name": "base",
   "language": "python",
   "name": "python3"
  },
  "language_info": {
   "codemirror_mode": {
    "name": "ipython",
    "version": 3
   },
   "file_extension": ".py",
   "mimetype": "text/x-python",
   "name": "python",
   "nbconvert_exporter": "python",
   "pygments_lexer": "ipython3",
   "version": "3.9.7"
  },
  "orig_nbformat": 4,
  "vscode": {
   "interpreter": {
    "hash": "40d3a090f54c6569ab1632332b64b2c03c39dcf918b08424e98f38b5ae0af88f"
   }
  }
 },
 "nbformat": 4,
 "nbformat_minor": 2
}
