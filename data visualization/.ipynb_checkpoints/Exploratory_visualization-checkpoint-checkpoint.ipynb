{
 "cells": [
  {
   "cell_type": "markdown",
   "id": "5de8102c",
   "metadata": {},
   "source": [
    "# ProsperLoan Data Analysis"
   ]
  },
  {
   "cell_type": "markdown",
   "id": "92962258",
   "metadata": {},
   "source": [
    "## Introduction"
   ]
  },
  {
   "cell_type": "code",
   "execution_count": 4,
   "id": "f7b5da10",
   "metadata": {
    "slideshow": {
     "slide_type": "skip"
    }
   },
   "outputs": [],
   "source": [
    "#Importing the necessary libraries\n",
    "import numpy as np\n",
    "import pandas as pd\n",
    "import matplotlib.pyplot as plt\n",
    "import seaborn as sns\n",
    "import warnings\n",
    "%matplotlib inline\n",
    "\n",
    "warnings.filterwarnings(\"ignore\")\n",
    "# set max_colwidth of cell pandas dataframe to show full dataframe\n",
    "pd.set_option('display.max_colwidth', -1)"
   ]
  },
  {
   "cell_type": "code",
   "execution_count": 5,
   "id": "54f4fe3e",
   "metadata": {
    "slideshow": {
     "slide_type": "skip"
    }
   },
   "outputs": [
    {
     "data": {
      "text/html": [
       "<div>\n",
       "<style scoped>\n",
       "    .dataframe tbody tr th:only-of-type {\n",
       "        vertical-align: middle;\n",
       "    }\n",
       "\n",
       "    .dataframe tbody tr th {\n",
       "        vertical-align: top;\n",
       "    }\n",
       "\n",
       "    .dataframe thead th {\n",
       "        text-align: right;\n",
       "    }\n",
       "</style>\n",
       "<table border=\"1\" class=\"dataframe\">\n",
       "  <thead>\n",
       "    <tr style=\"text-align: right;\">\n",
       "      <th></th>\n",
       "      <th>ListingKey</th>\n",
       "      <th>ListingNumber</th>\n",
       "      <th>ListingCreationDate</th>\n",
       "      <th>CreditGrade</th>\n",
       "      <th>Term</th>\n",
       "      <th>LoanStatus</th>\n",
       "      <th>ClosedDate</th>\n",
       "      <th>BorrowerAPR</th>\n",
       "      <th>BorrowerRate</th>\n",
       "      <th>LenderYield</th>\n",
       "      <th>...</th>\n",
       "      <th>LP_ServiceFees</th>\n",
       "      <th>LP_CollectionFees</th>\n",
       "      <th>LP_GrossPrincipalLoss</th>\n",
       "      <th>LP_NetPrincipalLoss</th>\n",
       "      <th>LP_NonPrincipalRecoverypayments</th>\n",
       "      <th>PercentFunded</th>\n",
       "      <th>Recommendations</th>\n",
       "      <th>InvestmentFromFriendsCount</th>\n",
       "      <th>InvestmentFromFriendsAmount</th>\n",
       "      <th>Investors</th>\n",
       "    </tr>\n",
       "  </thead>\n",
       "  <tbody>\n",
       "    <tr>\n",
       "      <th>0</th>\n",
       "      <td>1021339766868145413AB3B</td>\n",
       "      <td>193129</td>\n",
       "      <td>2007-08-26 19:09:29.263000000</td>\n",
       "      <td>C</td>\n",
       "      <td>36</td>\n",
       "      <td>Completed</td>\n",
       "      <td>2009-08-14 00:00:00</td>\n",
       "      <td>0.16516</td>\n",
       "      <td>0.1580</td>\n",
       "      <td>0.1380</td>\n",
       "      <td>...</td>\n",
       "      <td>-133.18</td>\n",
       "      <td>0.0</td>\n",
       "      <td>0.0</td>\n",
       "      <td>0.0</td>\n",
       "      <td>0.0</td>\n",
       "      <td>1.0</td>\n",
       "      <td>0</td>\n",
       "      <td>0</td>\n",
       "      <td>0.0</td>\n",
       "      <td>258</td>\n",
       "    </tr>\n",
       "    <tr>\n",
       "      <th>1</th>\n",
       "      <td>10273602499503308B223C1</td>\n",
       "      <td>1209647</td>\n",
       "      <td>2014-02-27 08:28:07.900000000</td>\n",
       "      <td>NaN</td>\n",
       "      <td>36</td>\n",
       "      <td>Current</td>\n",
       "      <td>NaN</td>\n",
       "      <td>0.12016</td>\n",
       "      <td>0.0920</td>\n",
       "      <td>0.0820</td>\n",
       "      <td>...</td>\n",
       "      <td>0.00</td>\n",
       "      <td>0.0</td>\n",
       "      <td>0.0</td>\n",
       "      <td>0.0</td>\n",
       "      <td>0.0</td>\n",
       "      <td>1.0</td>\n",
       "      <td>0</td>\n",
       "      <td>0</td>\n",
       "      <td>0.0</td>\n",
       "      <td>1</td>\n",
       "    </tr>\n",
       "    <tr>\n",
       "      <th>2</th>\n",
       "      <td>0EE9337825851032864889A</td>\n",
       "      <td>81716</td>\n",
       "      <td>2007-01-05 15:00:47.090000000</td>\n",
       "      <td>HR</td>\n",
       "      <td>36</td>\n",
       "      <td>Completed</td>\n",
       "      <td>2009-12-17 00:00:00</td>\n",
       "      <td>0.28269</td>\n",
       "      <td>0.2750</td>\n",
       "      <td>0.2400</td>\n",
       "      <td>...</td>\n",
       "      <td>-24.20</td>\n",
       "      <td>0.0</td>\n",
       "      <td>0.0</td>\n",
       "      <td>0.0</td>\n",
       "      <td>0.0</td>\n",
       "      <td>1.0</td>\n",
       "      <td>0</td>\n",
       "      <td>0</td>\n",
       "      <td>0.0</td>\n",
       "      <td>41</td>\n",
       "    </tr>\n",
       "    <tr>\n",
       "      <th>3</th>\n",
       "      <td>0EF5356002482715299901A</td>\n",
       "      <td>658116</td>\n",
       "      <td>2012-10-22 11:02:35.010000000</td>\n",
       "      <td>NaN</td>\n",
       "      <td>36</td>\n",
       "      <td>Current</td>\n",
       "      <td>NaN</td>\n",
       "      <td>0.12528</td>\n",
       "      <td>0.0974</td>\n",
       "      <td>0.0874</td>\n",
       "      <td>...</td>\n",
       "      <td>-108.01</td>\n",
       "      <td>0.0</td>\n",
       "      <td>0.0</td>\n",
       "      <td>0.0</td>\n",
       "      <td>0.0</td>\n",
       "      <td>1.0</td>\n",
       "      <td>0</td>\n",
       "      <td>0</td>\n",
       "      <td>0.0</td>\n",
       "      <td>158</td>\n",
       "    </tr>\n",
       "    <tr>\n",
       "      <th>4</th>\n",
       "      <td>0F023589499656230C5E3E2</td>\n",
       "      <td>909464</td>\n",
       "      <td>2013-09-14 18:38:39.097000000</td>\n",
       "      <td>NaN</td>\n",
       "      <td>36</td>\n",
       "      <td>Current</td>\n",
       "      <td>NaN</td>\n",
       "      <td>0.24614</td>\n",
       "      <td>0.2085</td>\n",
       "      <td>0.1985</td>\n",
       "      <td>...</td>\n",
       "      <td>-60.27</td>\n",
       "      <td>0.0</td>\n",
       "      <td>0.0</td>\n",
       "      <td>0.0</td>\n",
       "      <td>0.0</td>\n",
       "      <td>1.0</td>\n",
       "      <td>0</td>\n",
       "      <td>0</td>\n",
       "      <td>0.0</td>\n",
       "      <td>20</td>\n",
       "    </tr>\n",
       "  </tbody>\n",
       "</table>\n",
       "<p>5 rows × 81 columns</p>\n",
       "</div>"
      ],
      "text/plain": [
       "                ListingKey  ListingNumber            ListingCreationDate  \\\n",
       "0  1021339766868145413AB3B  193129         2007-08-26 19:09:29.263000000   \n",
       "1  10273602499503308B223C1  1209647        2014-02-27 08:28:07.900000000   \n",
       "2  0EE9337825851032864889A  81716          2007-01-05 15:00:47.090000000   \n",
       "3  0EF5356002482715299901A  658116         2012-10-22 11:02:35.010000000   \n",
       "4  0F023589499656230C5E3E2  909464         2013-09-14 18:38:39.097000000   \n",
       "\n",
       "  CreditGrade  Term LoanStatus           ClosedDate  BorrowerAPR  \\\n",
       "0  C           36    Completed  2009-08-14 00:00:00  0.16516       \n",
       "1  NaN         36    Current    NaN                  0.12016       \n",
       "2  HR          36    Completed  2009-12-17 00:00:00  0.28269       \n",
       "3  NaN         36    Current    NaN                  0.12528       \n",
       "4  NaN         36    Current    NaN                  0.24614       \n",
       "\n",
       "   BorrowerRate  LenderYield  ...  LP_ServiceFees  LP_CollectionFees  \\\n",
       "0  0.1580        0.1380       ... -133.18          0.0                 \n",
       "1  0.0920        0.0820       ...  0.00            0.0                 \n",
       "2  0.2750        0.2400       ... -24.20           0.0                 \n",
       "3  0.0974        0.0874       ... -108.01          0.0                 \n",
       "4  0.2085        0.1985       ... -60.27           0.0                 \n",
       "\n",
       "   LP_GrossPrincipalLoss  LP_NetPrincipalLoss LP_NonPrincipalRecoverypayments  \\\n",
       "0  0.0                    0.0                  0.0                              \n",
       "1  0.0                    0.0                  0.0                              \n",
       "2  0.0                    0.0                  0.0                              \n",
       "3  0.0                    0.0                  0.0                              \n",
       "4  0.0                    0.0                  0.0                              \n",
       "\n",
       "   PercentFunded  Recommendations InvestmentFromFriendsCount  \\\n",
       "0  1.0            0                0                           \n",
       "1  1.0            0                0                           \n",
       "2  1.0            0                0                           \n",
       "3  1.0            0                0                           \n",
       "4  1.0            0                0                           \n",
       "\n",
       "  InvestmentFromFriendsAmount Investors  \n",
       "0  0.0                         258       \n",
       "1  0.0                         1         \n",
       "2  0.0                         41        \n",
       "3  0.0                         158       \n",
       "4  0.0                         20        \n",
       "\n",
       "[5 rows x 81 columns]"
      ]
     },
     "execution_count": 5,
     "metadata": {},
     "output_type": "execute_result"
    }
   ],
   "source": [
    "df = pd.read_csv(\"./data/prosperLoanData.csv\")\n",
    "df.head()"
   ]
  },
  {
   "cell_type": "code",
   "execution_count": 6,
   "id": "e8e22040",
   "metadata": {
    "slideshow": {
     "slide_type": "slide"
    }
   },
   "outputs": [
    {
     "data": {
      "text/plain": [
       "(113937, 81)"
      ]
     },
     "execution_count": 6,
     "metadata": {},
     "output_type": "execute_result"
    }
   ],
   "source": [
    "# Shape of the dataframe\n",
    "df.shape"
   ]
  },
  {
   "cell_type": "code",
   "execution_count": 7,
   "id": "eec6c686",
   "metadata": {
    "slideshow": {
     "slide_type": "slide"
    }
   },
   "outputs": [
    {
     "data": {
      "text/plain": [
       "Index(['ListingKey', 'ListingNumber', 'ListingCreationDate', 'CreditGrade',\n",
       "       'Term', 'LoanStatus', 'ClosedDate', 'BorrowerAPR', 'BorrowerRate',\n",
       "       'LenderYield', 'EstimatedEffectiveYield', 'EstimatedLoss',\n",
       "       'EstimatedReturn', 'ProsperRating (numeric)', 'ProsperRating (Alpha)',\n",
       "       'ProsperScore', 'ListingCategory (numeric)', 'BorrowerState',\n",
       "       'Occupation', 'EmploymentStatus', 'EmploymentStatusDuration',\n",
       "       'IsBorrowerHomeowner', 'CurrentlyInGroup', 'GroupKey',\n",
       "       'DateCreditPulled', 'CreditScoreRangeLower', 'CreditScoreRangeUpper',\n",
       "       'FirstRecordedCreditLine', 'CurrentCreditLines', 'OpenCreditLines',\n",
       "       'TotalCreditLinespast7years', 'OpenRevolvingAccounts',\n",
       "       'OpenRevolvingMonthlyPayment', 'InquiriesLast6Months', 'TotalInquiries',\n",
       "       'CurrentDelinquencies', 'AmountDelinquent', 'DelinquenciesLast7Years',\n",
       "       'PublicRecordsLast10Years', 'PublicRecordsLast12Months',\n",
       "       'RevolvingCreditBalance', 'BankcardUtilization',\n",
       "       'AvailableBankcardCredit', 'TotalTrades',\n",
       "       'TradesNeverDelinquent (percentage)', 'TradesOpenedLast6Months',\n",
       "       'DebtToIncomeRatio', 'IncomeRange', 'IncomeVerifiable',\n",
       "       'StatedMonthlyIncome', 'LoanKey', 'TotalProsperLoans',\n",
       "       'TotalProsperPaymentsBilled', 'OnTimeProsperPayments',\n",
       "       'ProsperPaymentsLessThanOneMonthLate',\n",
       "       'ProsperPaymentsOneMonthPlusLate', 'ProsperPrincipalBorrowed',\n",
       "       'ProsperPrincipalOutstanding', 'ScorexChangeAtTimeOfListing',\n",
       "       'LoanCurrentDaysDelinquent', 'LoanFirstDefaultedCycleNumber',\n",
       "       'LoanMonthsSinceOrigination', 'LoanNumber', 'LoanOriginalAmount',\n",
       "       'LoanOriginationDate', 'LoanOriginationQuarter', 'MemberKey',\n",
       "       'MonthlyLoanPayment', 'LP_CustomerPayments',\n",
       "       'LP_CustomerPrincipalPayments', 'LP_InterestandFees', 'LP_ServiceFees',\n",
       "       'LP_CollectionFees', 'LP_GrossPrincipalLoss', 'LP_NetPrincipalLoss',\n",
       "       'LP_NonPrincipalRecoverypayments', 'PercentFunded', 'Recommendations',\n",
       "       'InvestmentFromFriendsCount', 'InvestmentFromFriendsAmount',\n",
       "       'Investors'],\n",
       "      dtype='object')"
      ]
     },
     "execution_count": 7,
     "metadata": {},
     "output_type": "execute_result"
    }
   ],
   "source": [
    "# List of columns\n",
    "df.columns"
   ]
  },
  {
   "cell_type": "code",
   "execution_count": 8,
   "id": "ba90eb4b",
   "metadata": {
    "slideshow": {
     "slide_type": "slide"
    }
   },
   "outputs": [
    {
     "name": "stdout",
     "output_type": "stream",
     "text": [
      "<class 'pandas.core.frame.DataFrame'>\n",
      "RangeIndex: 113937 entries, 0 to 113936\n",
      "Data columns (total 81 columns):\n",
      " #   Column                               Non-Null Count   Dtype  \n",
      "---  ------                               --------------   -----  \n",
      " 0   ListingKey                           113937 non-null  object \n",
      " 1   ListingNumber                        113937 non-null  int64  \n",
      " 2   ListingCreationDate                  113937 non-null  object \n",
      " 3   CreditGrade                          28953 non-null   object \n",
      " 4   Term                                 113937 non-null  int64  \n",
      " 5   LoanStatus                           113937 non-null  object \n",
      " 6   ClosedDate                           55089 non-null   object \n",
      " 7   BorrowerAPR                          113912 non-null  float64\n",
      " 8   BorrowerRate                         113937 non-null  float64\n",
      " 9   LenderYield                          113937 non-null  float64\n",
      " 10  EstimatedEffectiveYield              84853 non-null   float64\n",
      " 11  EstimatedLoss                        84853 non-null   float64\n",
      " 12  EstimatedReturn                      84853 non-null   float64\n",
      " 13  ProsperRating (numeric)              84853 non-null   float64\n",
      " 14  ProsperRating (Alpha)                84853 non-null   object \n",
      " 15  ProsperScore                         84853 non-null   float64\n",
      " 16  ListingCategory (numeric)            113937 non-null  int64  \n",
      " 17  BorrowerState                        108422 non-null  object \n",
      " 18  Occupation                           110349 non-null  object \n",
      " 19  EmploymentStatus                     111682 non-null  object \n",
      " 20  EmploymentStatusDuration             106312 non-null  float64\n",
      " 21  IsBorrowerHomeowner                  113937 non-null  bool   \n",
      " 22  CurrentlyInGroup                     113937 non-null  bool   \n",
      " 23  GroupKey                             13341 non-null   object \n",
      " 24  DateCreditPulled                     113937 non-null  object \n",
      " 25  CreditScoreRangeLower                113346 non-null  float64\n",
      " 26  CreditScoreRangeUpper                113346 non-null  float64\n",
      " 27  FirstRecordedCreditLine              113240 non-null  object \n",
      " 28  CurrentCreditLines                   106333 non-null  float64\n",
      " 29  OpenCreditLines                      106333 non-null  float64\n",
      " 30  TotalCreditLinespast7years           113240 non-null  float64\n",
      " 31  OpenRevolvingAccounts                113937 non-null  int64  \n",
      " 32  OpenRevolvingMonthlyPayment          113937 non-null  float64\n",
      " 33  InquiriesLast6Months                 113240 non-null  float64\n",
      " 34  TotalInquiries                       112778 non-null  float64\n",
      " 35  CurrentDelinquencies                 113240 non-null  float64\n",
      " 36  AmountDelinquent                     106315 non-null  float64\n",
      " 37  DelinquenciesLast7Years              112947 non-null  float64\n",
      " 38  PublicRecordsLast10Years             113240 non-null  float64\n",
      " 39  PublicRecordsLast12Months            106333 non-null  float64\n",
      " 40  RevolvingCreditBalance               106333 non-null  float64\n",
      " 41  BankcardUtilization                  106333 non-null  float64\n",
      " 42  AvailableBankcardCredit              106393 non-null  float64\n",
      " 43  TotalTrades                          106393 non-null  float64\n",
      " 44  TradesNeverDelinquent (percentage)   106393 non-null  float64\n",
      " 45  TradesOpenedLast6Months              106393 non-null  float64\n",
      " 46  DebtToIncomeRatio                    105383 non-null  float64\n",
      " 47  IncomeRange                          113937 non-null  object \n",
      " 48  IncomeVerifiable                     113937 non-null  bool   \n",
      " 49  StatedMonthlyIncome                  113937 non-null  float64\n",
      " 50  LoanKey                              113937 non-null  object \n",
      " 51  TotalProsperLoans                    22085 non-null   float64\n",
      " 52  TotalProsperPaymentsBilled           22085 non-null   float64\n",
      " 53  OnTimeProsperPayments                22085 non-null   float64\n",
      " 54  ProsperPaymentsLessThanOneMonthLate  22085 non-null   float64\n",
      " 55  ProsperPaymentsOneMonthPlusLate      22085 non-null   float64\n",
      " 56  ProsperPrincipalBorrowed             22085 non-null   float64\n",
      " 57  ProsperPrincipalOutstanding          22085 non-null   float64\n",
      " 58  ScorexChangeAtTimeOfListing          18928 non-null   float64\n",
      " 59  LoanCurrentDaysDelinquent            113937 non-null  int64  \n",
      " 60  LoanFirstDefaultedCycleNumber        16952 non-null   float64\n",
      " 61  LoanMonthsSinceOrigination           113937 non-null  int64  \n",
      " 62  LoanNumber                           113937 non-null  int64  \n",
      " 63  LoanOriginalAmount                   113937 non-null  int64  \n",
      " 64  LoanOriginationDate                  113937 non-null  object \n",
      " 65  LoanOriginationQuarter               113937 non-null  object \n",
      " 66  MemberKey                            113937 non-null  object \n",
      " 67  MonthlyLoanPayment                   113937 non-null  float64\n",
      " 68  LP_CustomerPayments                  113937 non-null  float64\n",
      " 69  LP_CustomerPrincipalPayments         113937 non-null  float64\n",
      " 70  LP_InterestandFees                   113937 non-null  float64\n",
      " 71  LP_ServiceFees                       113937 non-null  float64\n",
      " 72  LP_CollectionFees                    113937 non-null  float64\n",
      " 73  LP_GrossPrincipalLoss                113937 non-null  float64\n",
      " 74  LP_NetPrincipalLoss                  113937 non-null  float64\n",
      " 75  LP_NonPrincipalRecoverypayments      113937 non-null  float64\n",
      " 76  PercentFunded                        113937 non-null  float64\n",
      " 77  Recommendations                      113937 non-null  int64  \n",
      " 78  InvestmentFromFriendsCount           113937 non-null  int64  \n",
      " 79  InvestmentFromFriendsAmount          113937 non-null  float64\n",
      " 80  Investors                            113937 non-null  int64  \n",
      "dtypes: bool(3), float64(50), int64(11), object(17)\n",
      "memory usage: 68.1+ MB\n"
     ]
    }
   ],
   "source": [
    "df.info()"
   ]
  },
  {
   "cell_type": "markdown",
   "id": "09746d76",
   "metadata": {
    "slideshow": {
     "slide_type": "slide"
    }
   },
   "source": [
    "There are missing values but let us focus only few variables that are listed below."
   ]
  },
  {
   "cell_type": "code",
   "execution_count": 9,
   "id": "ff15a432",
   "metadata": {
    "slideshow": {
     "slide_type": "slide"
    }
   },
   "outputs": [],
   "source": [
    "# Due to many variables in this dataset, I only use few variables. Those are:  \n",
    "cols = ['ListingCreationDate', 'Term', 'LoanStatus', 'ClosedDate', 'BorrowerAPR',\n",
    "        'BorrowerRate', 'LenderYield', 'ProsperRating (Alpha)', 'ProsperRating (numeric)', \n",
    "        'ProsperScore', 'ListingCategory (numeric)','BorrowerState', 'Occupation', \n",
    "        'EmploymentStatus', 'AmountDelinquent', 'IncomeRange', 'StatedMonthlyIncome',\n",
    "        'LoanCurrentDaysDelinquent','LoanOriginalAmount', 'LoanOriginationDate', \n",
    "        'MonthlyLoanPayment', 'LP_ServiceFees', 'Investors', 'IsBorrowerHomeowner']\n"
   ]
  },
  {
   "cell_type": "code",
   "execution_count": 10,
   "id": "98ffa979",
   "metadata": {
    "slideshow": {
     "slide_type": "slide"
    }
   },
   "outputs": [
    {
     "data": {
      "text/plain": [
       "Index(['ListingCreationDate', 'Term', 'LoanStatus', 'ClosedDate',\n",
       "       'BorrowerAPR', 'BorrowerRate', 'LenderYield', 'ProsperRating (Alpha)',\n",
       "       'ProsperRating (numeric)', 'ProsperScore', 'ListingCategory (numeric)',\n",
       "       'BorrowerState', 'Occupation', 'EmploymentStatus', 'AmountDelinquent',\n",
       "       'IncomeRange', 'StatedMonthlyIncome', 'LoanCurrentDaysDelinquent',\n",
       "       'LoanOriginalAmount', 'LoanOriginationDate', 'MonthlyLoanPayment',\n",
       "       'LP_ServiceFees', 'Investors', 'IsBorrowerHomeowner'],\n",
       "      dtype='object')"
      ]
     },
     "execution_count": 10,
     "metadata": {},
     "output_type": "execute_result"
    }
   ],
   "source": [
    "loan_df = df[cols]\n",
    "loan_df.columns"
   ]
  },
  {
   "cell_type": "code",
   "execution_count": 11,
   "id": "4eccc543",
   "metadata": {},
   "outputs": [
    {
     "data": {
      "text/html": [
       "<div>\n",
       "<style scoped>\n",
       "    .dataframe tbody tr th:only-of-type {\n",
       "        vertical-align: middle;\n",
       "    }\n",
       "\n",
       "    .dataframe tbody tr th {\n",
       "        vertical-align: top;\n",
       "    }\n",
       "\n",
       "    .dataframe thead th {\n",
       "        text-align: right;\n",
       "    }\n",
       "</style>\n",
       "<table border=\"1\" class=\"dataframe\">\n",
       "  <thead>\n",
       "    <tr style=\"text-align: right;\">\n",
       "      <th></th>\n",
       "      <th>Term</th>\n",
       "      <th>BorrowerAPR</th>\n",
       "      <th>BorrowerRate</th>\n",
       "      <th>LenderYield</th>\n",
       "      <th>ProsperRating (numeric)</th>\n",
       "      <th>ProsperScore</th>\n",
       "      <th>ListingCategory (numeric)</th>\n",
       "      <th>AmountDelinquent</th>\n",
       "      <th>StatedMonthlyIncome</th>\n",
       "      <th>LoanCurrentDaysDelinquent</th>\n",
       "      <th>LoanOriginalAmount</th>\n",
       "      <th>MonthlyLoanPayment</th>\n",
       "      <th>LP_ServiceFees</th>\n",
       "      <th>Investors</th>\n",
       "    </tr>\n",
       "  </thead>\n",
       "  <tbody>\n",
       "    <tr>\n",
       "      <th>count</th>\n",
       "      <td>113937.000000</td>\n",
       "      <td>113912.000000</td>\n",
       "      <td>113937.000000</td>\n",
       "      <td>113937.000000</td>\n",
       "      <td>84853.000000</td>\n",
       "      <td>84853.000000</td>\n",
       "      <td>113937.000000</td>\n",
       "      <td>106315.000000</td>\n",
       "      <td>1.139370e+05</td>\n",
       "      <td>113937.000000</td>\n",
       "      <td>113937.00000</td>\n",
       "      <td>113937.000000</td>\n",
       "      <td>113937.000000</td>\n",
       "      <td>113937.000000</td>\n",
       "    </tr>\n",
       "    <tr>\n",
       "      <th>mean</th>\n",
       "      <td>40.830248</td>\n",
       "      <td>0.218828</td>\n",
       "      <td>0.192764</td>\n",
       "      <td>0.182701</td>\n",
       "      <td>4.072243</td>\n",
       "      <td>5.950067</td>\n",
       "      <td>2.774209</td>\n",
       "      <td>984.507059</td>\n",
       "      <td>5.608026e+03</td>\n",
       "      <td>152.816539</td>\n",
       "      <td>8337.01385</td>\n",
       "      <td>272.475783</td>\n",
       "      <td>-54.725641</td>\n",
       "      <td>80.475228</td>\n",
       "    </tr>\n",
       "    <tr>\n",
       "      <th>std</th>\n",
       "      <td>10.436212</td>\n",
       "      <td>0.080364</td>\n",
       "      <td>0.074818</td>\n",
       "      <td>0.074516</td>\n",
       "      <td>1.673227</td>\n",
       "      <td>2.376501</td>\n",
       "      <td>3.996797</td>\n",
       "      <td>7158.270157</td>\n",
       "      <td>7.478497e+03</td>\n",
       "      <td>466.320254</td>\n",
       "      <td>6245.80058</td>\n",
       "      <td>192.697812</td>\n",
       "      <td>60.675425</td>\n",
       "      <td>103.239020</td>\n",
       "    </tr>\n",
       "    <tr>\n",
       "      <th>min</th>\n",
       "      <td>12.000000</td>\n",
       "      <td>0.006530</td>\n",
       "      <td>0.000000</td>\n",
       "      <td>-0.010000</td>\n",
       "      <td>1.000000</td>\n",
       "      <td>1.000000</td>\n",
       "      <td>0.000000</td>\n",
       "      <td>0.000000</td>\n",
       "      <td>0.000000e+00</td>\n",
       "      <td>0.000000</td>\n",
       "      <td>1000.00000</td>\n",
       "      <td>0.000000</td>\n",
       "      <td>-664.870000</td>\n",
       "      <td>1.000000</td>\n",
       "    </tr>\n",
       "    <tr>\n",
       "      <th>25%</th>\n",
       "      <td>36.000000</td>\n",
       "      <td>0.156290</td>\n",
       "      <td>0.134000</td>\n",
       "      <td>0.124200</td>\n",
       "      <td>3.000000</td>\n",
       "      <td>4.000000</td>\n",
       "      <td>1.000000</td>\n",
       "      <td>0.000000</td>\n",
       "      <td>3.200333e+03</td>\n",
       "      <td>0.000000</td>\n",
       "      <td>4000.00000</td>\n",
       "      <td>131.620000</td>\n",
       "      <td>-73.180000</td>\n",
       "      <td>2.000000</td>\n",
       "    </tr>\n",
       "    <tr>\n",
       "      <th>50%</th>\n",
       "      <td>36.000000</td>\n",
       "      <td>0.209760</td>\n",
       "      <td>0.184000</td>\n",
       "      <td>0.173000</td>\n",
       "      <td>4.000000</td>\n",
       "      <td>6.000000</td>\n",
       "      <td>1.000000</td>\n",
       "      <td>0.000000</td>\n",
       "      <td>4.666667e+03</td>\n",
       "      <td>0.000000</td>\n",
       "      <td>6500.00000</td>\n",
       "      <td>217.740000</td>\n",
       "      <td>-34.440000</td>\n",
       "      <td>44.000000</td>\n",
       "    </tr>\n",
       "    <tr>\n",
       "      <th>75%</th>\n",
       "      <td>36.000000</td>\n",
       "      <td>0.283810</td>\n",
       "      <td>0.250000</td>\n",
       "      <td>0.240000</td>\n",
       "      <td>5.000000</td>\n",
       "      <td>8.000000</td>\n",
       "      <td>3.000000</td>\n",
       "      <td>0.000000</td>\n",
       "      <td>6.825000e+03</td>\n",
       "      <td>0.000000</td>\n",
       "      <td>12000.00000</td>\n",
       "      <td>371.580000</td>\n",
       "      <td>-13.920000</td>\n",
       "      <td>115.000000</td>\n",
       "    </tr>\n",
       "    <tr>\n",
       "      <th>max</th>\n",
       "      <td>60.000000</td>\n",
       "      <td>0.512290</td>\n",
       "      <td>0.497500</td>\n",
       "      <td>0.492500</td>\n",
       "      <td>7.000000</td>\n",
       "      <td>11.000000</td>\n",
       "      <td>20.000000</td>\n",
       "      <td>463881.000000</td>\n",
       "      <td>1.750003e+06</td>\n",
       "      <td>2704.000000</td>\n",
       "      <td>35000.00000</td>\n",
       "      <td>2251.510000</td>\n",
       "      <td>32.060000</td>\n",
       "      <td>1189.000000</td>\n",
       "    </tr>\n",
       "  </tbody>\n",
       "</table>\n",
       "</div>"
      ],
      "text/plain": [
       "                Term    BorrowerAPR   BorrowerRate    LenderYield  \\\n",
       "count  113937.000000  113912.000000  113937.000000  113937.000000   \n",
       "mean   40.830248      0.218828       0.192764       0.182701        \n",
       "std    10.436212      0.080364       0.074818       0.074516        \n",
       "min    12.000000      0.006530       0.000000      -0.010000        \n",
       "25%    36.000000      0.156290       0.134000       0.124200        \n",
       "50%    36.000000      0.209760       0.184000       0.173000        \n",
       "75%    36.000000      0.283810       0.250000       0.240000        \n",
       "max    60.000000      0.512290       0.497500       0.492500        \n",
       "\n",
       "       ProsperRating (numeric)  ProsperScore  ListingCategory (numeric)  \\\n",
       "count  84853.000000             84853.000000  113937.000000               \n",
       "mean   4.072243                 5.950067      2.774209                    \n",
       "std    1.673227                 2.376501      3.996797                    \n",
       "min    1.000000                 1.000000      0.000000                    \n",
       "25%    3.000000                 4.000000      1.000000                    \n",
       "50%    4.000000                 6.000000      1.000000                    \n",
       "75%    5.000000                 8.000000      3.000000                    \n",
       "max    7.000000                 11.000000     20.000000                   \n",
       "\n",
       "       AmountDelinquent  StatedMonthlyIncome  LoanCurrentDaysDelinquent  \\\n",
       "count  106315.000000     1.139370e+05         113937.000000               \n",
       "mean   984.507059        5.608026e+03         152.816539                  \n",
       "std    7158.270157       7.478497e+03         466.320254                  \n",
       "min    0.000000          0.000000e+00         0.000000                    \n",
       "25%    0.000000          3.200333e+03         0.000000                    \n",
       "50%    0.000000          4.666667e+03         0.000000                    \n",
       "75%    0.000000          6.825000e+03         0.000000                    \n",
       "max    463881.000000     1.750003e+06         2704.000000                 \n",
       "\n",
       "       LoanOriginalAmount  MonthlyLoanPayment  LP_ServiceFees      Investors  \n",
       "count  113937.00000        113937.000000       113937.000000   113937.000000  \n",
       "mean   8337.01385          272.475783         -54.725641       80.475228      \n",
       "std    6245.80058          192.697812          60.675425       103.239020     \n",
       "min    1000.00000          0.000000           -664.870000      1.000000       \n",
       "25%    4000.00000          131.620000         -73.180000       2.000000       \n",
       "50%    6500.00000          217.740000         -34.440000       44.000000      \n",
       "75%    12000.00000         371.580000         -13.920000       115.000000     \n",
       "max    35000.00000         2251.510000         32.060000       1189.000000    "
      ]
     },
     "execution_count": 11,
     "metadata": {},
     "output_type": "execute_result"
    }
   ],
   "source": [
    "loan_df.describe()"
   ]
  },
  {
   "cell_type": "code",
   "execution_count": 12,
   "id": "0d0ef55c",
   "metadata": {
    "slideshow": {
     "slide_type": "slide"
    }
   },
   "outputs": [
    {
     "name": "stdout",
     "output_type": "stream",
     "text": [
      "<class 'pandas.core.frame.DataFrame'>\n",
      "RangeIndex: 113937 entries, 0 to 113936\n",
      "Data columns (total 24 columns):\n",
      " #   Column                     Non-Null Count   Dtype  \n",
      "---  ------                     --------------   -----  \n",
      " 0   ListingCreationDate        113937 non-null  object \n",
      " 1   Term                       113937 non-null  int64  \n",
      " 2   LoanStatus                 113937 non-null  object \n",
      " 3   ClosedDate                 55089 non-null   object \n",
      " 4   BorrowerAPR                113912 non-null  float64\n",
      " 5   BorrowerRate               113937 non-null  float64\n",
      " 6   LenderYield                113937 non-null  float64\n",
      " 7   ProsperRating (Alpha)      84853 non-null   object \n",
      " 8   ProsperRating (numeric)    84853 non-null   float64\n",
      " 9   ProsperScore               84853 non-null   float64\n",
      " 10  ListingCategory (numeric)  113937 non-null  int64  \n",
      " 11  BorrowerState              108422 non-null  object \n",
      " 12  Occupation                 110349 non-null  object \n",
      " 13  EmploymentStatus           111682 non-null  object \n",
      " 14  AmountDelinquent           106315 non-null  float64\n",
      " 15  IncomeRange                113937 non-null  object \n",
      " 16  StatedMonthlyIncome        113937 non-null  float64\n",
      " 17  LoanCurrentDaysDelinquent  113937 non-null  int64  \n",
      " 18  LoanOriginalAmount         113937 non-null  int64  \n",
      " 19  LoanOriginationDate        113937 non-null  object \n",
      " 20  MonthlyLoanPayment         113937 non-null  float64\n",
      " 21  LP_ServiceFees             113937 non-null  float64\n",
      " 22  Investors                  113937 non-null  int64  \n",
      " 23  IsBorrowerHomeowner        113937 non-null  bool   \n",
      "dtypes: bool(1), float64(9), int64(5), object(9)\n",
      "memory usage: 20.1+ MB\n"
     ]
    }
   ],
   "source": [
    "loan_df.info()"
   ]
  },
  {
   "cell_type": "markdown",
   "id": "df31d83f",
   "metadata": {},
   "source": [
    "- As this project is all about visualization, for simplicity purpose I am going to delete all the null rows from the above data"
   ]
  },
  {
   "cell_type": "code",
   "execution_count": 13,
   "id": "82811cdd",
   "metadata": {
    "slideshow": {
     "slide_type": "skip"
    }
   },
   "outputs": [
    {
     "data": {
      "text/html": [
       "<div>\n",
       "<style scoped>\n",
       "    .dataframe tbody tr th:only-of-type {\n",
       "        vertical-align: middle;\n",
       "    }\n",
       "\n",
       "    .dataframe tbody tr th {\n",
       "        vertical-align: top;\n",
       "    }\n",
       "\n",
       "    .dataframe thead th {\n",
       "        text-align: right;\n",
       "    }\n",
       "</style>\n",
       "<table border=\"1\" class=\"dataframe\">\n",
       "  <thead>\n",
       "    <tr style=\"text-align: right;\">\n",
       "      <th></th>\n",
       "      <th>Term</th>\n",
       "      <th>BorrowerAPR</th>\n",
       "      <th>BorrowerRate</th>\n",
       "      <th>LenderYield</th>\n",
       "      <th>ProsperRating (numeric)</th>\n",
       "      <th>ProsperScore</th>\n",
       "      <th>ListingCategory (numeric)</th>\n",
       "      <th>AmountDelinquent</th>\n",
       "      <th>StatedMonthlyIncome</th>\n",
       "      <th>LoanCurrentDaysDelinquent</th>\n",
       "      <th>LoanOriginalAmount</th>\n",
       "      <th>MonthlyLoanPayment</th>\n",
       "      <th>LP_ServiceFees</th>\n",
       "      <th>Investors</th>\n",
       "    </tr>\n",
       "  </thead>\n",
       "  <tbody>\n",
       "    <tr>\n",
       "      <th>count</th>\n",
       "      <td>25992.000000</td>\n",
       "      <td>25992.000000</td>\n",
       "      <td>25992.000000</td>\n",
       "      <td>25992.000000</td>\n",
       "      <td>25992.000000</td>\n",
       "      <td>25992.000000</td>\n",
       "      <td>25992.000000</td>\n",
       "      <td>25992.000000</td>\n",
       "      <td>25992.000000</td>\n",
       "      <td>25992.000000</td>\n",
       "      <td>25992.000000</td>\n",
       "      <td>25992.000000</td>\n",
       "      <td>25992.000000</td>\n",
       "      <td>25992.000000</td>\n",
       "    </tr>\n",
       "    <tr>\n",
       "      <th>mean</th>\n",
       "      <td>37.999077</td>\n",
       "      <td>0.251491</td>\n",
       "      <td>0.219606</td>\n",
       "      <td>0.209591</td>\n",
       "      <td>3.663396</td>\n",
       "      <td>6.267313</td>\n",
       "      <td>3.754694</td>\n",
       "      <td>995.854494</td>\n",
       "      <td>5491.003507</td>\n",
       "      <td>116.259926</td>\n",
       "      <td>6375.824523</td>\n",
       "      <td>232.660136</td>\n",
       "      <td>-52.216156</td>\n",
       "      <td>92.393429</td>\n",
       "    </tr>\n",
       "    <tr>\n",
       "      <th>std</th>\n",
       "      <td>10.575528</td>\n",
       "      <td>0.090386</td>\n",
       "      <td>0.084177</td>\n",
       "      <td>0.084181</td>\n",
       "      <td>1.814511</td>\n",
       "      <td>2.319193</td>\n",
       "      <td>4.109566</td>\n",
       "      <td>7179.725855</td>\n",
       "      <td>6825.602083</td>\n",
       "      <td>253.927546</td>\n",
       "      <td>4781.752809</td>\n",
       "      <td>169.660960</td>\n",
       "      <td>52.742187</td>\n",
       "      <td>97.980331</td>\n",
       "    </tr>\n",
       "    <tr>\n",
       "      <th>min</th>\n",
       "      <td>12.000000</td>\n",
       "      <td>0.045830</td>\n",
       "      <td>0.040000</td>\n",
       "      <td>0.030000</td>\n",
       "      <td>1.000000</td>\n",
       "      <td>1.000000</td>\n",
       "      <td>0.000000</td>\n",
       "      <td>0.000000</td>\n",
       "      <td>0.000000</td>\n",
       "      <td>0.000000</td>\n",
       "      <td>1000.000000</td>\n",
       "      <td>0.000000</td>\n",
       "      <td>-589.950000</td>\n",
       "      <td>1.000000</td>\n",
       "    </tr>\n",
       "    <tr>\n",
       "      <th>25%</th>\n",
       "      <td>36.000000</td>\n",
       "      <td>0.173590</td>\n",
       "      <td>0.146900</td>\n",
       "      <td>0.136900</td>\n",
       "      <td>2.000000</td>\n",
       "      <td>5.000000</td>\n",
       "      <td>1.000000</td>\n",
       "      <td>0.000000</td>\n",
       "      <td>3166.666667</td>\n",
       "      <td>0.000000</td>\n",
       "      <td>3000.000000</td>\n",
       "      <td>122.305000</td>\n",
       "      <td>-70.802500</td>\n",
       "      <td>28.000000</td>\n",
       "    </tr>\n",
       "    <tr>\n",
       "      <th>50%</th>\n",
       "      <td>36.000000</td>\n",
       "      <td>0.268340</td>\n",
       "      <td>0.231000</td>\n",
       "      <td>0.221000</td>\n",
       "      <td>3.000000</td>\n",
       "      <td>6.000000</td>\n",
       "      <td>2.000000</td>\n",
       "      <td>0.000000</td>\n",
       "      <td>4583.333333</td>\n",
       "      <td>0.000000</td>\n",
       "      <td>4500.000000</td>\n",
       "      <td>176.480000</td>\n",
       "      <td>-35.080000</td>\n",
       "      <td>62.000000</td>\n",
       "    </tr>\n",
       "    <tr>\n",
       "      <th>75%</th>\n",
       "      <td>36.000000</td>\n",
       "      <td>0.335530</td>\n",
       "      <td>0.295800</td>\n",
       "      <td>0.285800</td>\n",
       "      <td>5.000000</td>\n",
       "      <td>8.000000</td>\n",
       "      <td>7.000000</td>\n",
       "      <td>0.000000</td>\n",
       "      <td>6666.666667</td>\n",
       "      <td>0.000000</td>\n",
       "      <td>8000.000000</td>\n",
       "      <td>314.700000</td>\n",
       "      <td>-16.070000</td>\n",
       "      <td>125.000000</td>\n",
       "    </tr>\n",
       "    <tr>\n",
       "      <th>max</th>\n",
       "      <td>60.000000</td>\n",
       "      <td>0.423950</td>\n",
       "      <td>0.360000</td>\n",
       "      <td>0.340000</td>\n",
       "      <td>7.000000</td>\n",
       "      <td>11.000000</td>\n",
       "      <td>20.000000</td>\n",
       "      <td>327677.000000</td>\n",
       "      <td>618547.833333</td>\n",
       "      <td>1593.000000</td>\n",
       "      <td>35000.000000</td>\n",
       "      <td>2251.510000</td>\n",
       "      <td>3.010000</td>\n",
       "      <td>1189.000000</td>\n",
       "    </tr>\n",
       "  </tbody>\n",
       "</table>\n",
       "</div>"
      ],
      "text/plain": [
       "               Term   BorrowerAPR  BorrowerRate   LenderYield  \\\n",
       "count  25992.000000  25992.000000  25992.000000  25992.000000   \n",
       "mean   37.999077     0.251491      0.219606      0.209591       \n",
       "std    10.575528     0.090386      0.084177      0.084181       \n",
       "min    12.000000     0.045830      0.040000      0.030000       \n",
       "25%    36.000000     0.173590      0.146900      0.136900       \n",
       "50%    36.000000     0.268340      0.231000      0.221000       \n",
       "75%    36.000000     0.335530      0.295800      0.285800       \n",
       "max    60.000000     0.423950      0.360000      0.340000       \n",
       "\n",
       "       ProsperRating (numeric)  ProsperScore  ListingCategory (numeric)  \\\n",
       "count  25992.000000             25992.000000  25992.000000                \n",
       "mean   3.663396                 6.267313      3.754694                    \n",
       "std    1.814511                 2.319193      4.109566                    \n",
       "min    1.000000                 1.000000      0.000000                    \n",
       "25%    2.000000                 5.000000      1.000000                    \n",
       "50%    3.000000                 6.000000      2.000000                    \n",
       "75%    5.000000                 8.000000      7.000000                    \n",
       "max    7.000000                 11.000000     20.000000                   \n",
       "\n",
       "       AmountDelinquent  StatedMonthlyIncome  LoanCurrentDaysDelinquent  \\\n",
       "count  25992.000000      25992.000000         25992.000000                \n",
       "mean   995.854494        5491.003507          116.259926                  \n",
       "std    7179.725855       6825.602083          253.927546                  \n",
       "min    0.000000          0.000000             0.000000                    \n",
       "25%    0.000000          3166.666667          0.000000                    \n",
       "50%    0.000000          4583.333333          0.000000                    \n",
       "75%    0.000000          6666.666667          0.000000                    \n",
       "max    327677.000000     618547.833333        1593.000000                 \n",
       "\n",
       "       LoanOriginalAmount  MonthlyLoanPayment  LP_ServiceFees     Investors  \n",
       "count  25992.000000        25992.000000        25992.000000    25992.000000  \n",
       "mean   6375.824523         232.660136         -52.216156       92.393429     \n",
       "std    4781.752809         169.660960          52.742187       97.980331     \n",
       "min    1000.000000         0.000000           -589.950000      1.000000      \n",
       "25%    3000.000000         122.305000         -70.802500       28.000000     \n",
       "50%    4500.000000         176.480000         -35.080000       62.000000     \n",
       "75%    8000.000000         314.700000         -16.070000       125.000000    \n",
       "max    35000.000000        2251.510000         3.010000        1189.000000   "
      ]
     },
     "execution_count": 13,
     "metadata": {},
     "output_type": "execute_result"
    }
   ],
   "source": [
    "loan_df = loan_df.dropna()\n",
    "loan_df.describe()"
   ]
  },
  {
   "cell_type": "code",
   "execution_count": 14,
   "id": "cfc98dd7",
   "metadata": {},
   "outputs": [
    {
     "data": {
      "text/html": [
       "<div>\n",
       "<style scoped>\n",
       "    .dataframe tbody tr th:only-of-type {\n",
       "        vertical-align: middle;\n",
       "    }\n",
       "\n",
       "    .dataframe tbody tr th {\n",
       "        vertical-align: top;\n",
       "    }\n",
       "\n",
       "    .dataframe thead th {\n",
       "        text-align: right;\n",
       "    }\n",
       "</style>\n",
       "<table border=\"1\" class=\"dataframe\">\n",
       "  <thead>\n",
       "    <tr style=\"text-align: right;\">\n",
       "      <th></th>\n",
       "      <th>ListingCreationDate</th>\n",
       "      <th>Term</th>\n",
       "      <th>LoanStatus</th>\n",
       "      <th>ClosedDate</th>\n",
       "      <th>BorrowerAPR</th>\n",
       "      <th>BorrowerRate</th>\n",
       "      <th>LenderYield</th>\n",
       "      <th>ProsperRating (Alpha)</th>\n",
       "      <th>ProsperRating (numeric)</th>\n",
       "      <th>ProsperScore</th>\n",
       "      <th>...</th>\n",
       "      <th>AmountDelinquent</th>\n",
       "      <th>IncomeRange</th>\n",
       "      <th>StatedMonthlyIncome</th>\n",
       "      <th>LoanCurrentDaysDelinquent</th>\n",
       "      <th>LoanOriginalAmount</th>\n",
       "      <th>LoanOriginationDate</th>\n",
       "      <th>MonthlyLoanPayment</th>\n",
       "      <th>LP_ServiceFees</th>\n",
       "      <th>Investors</th>\n",
       "      <th>IsBorrowerHomeowner</th>\n",
       "    </tr>\n",
       "  </thead>\n",
       "  <tbody>\n",
       "    <tr>\n",
       "      <th>15</th>\n",
       "      <td>2012-04-10 09:14:46.297000000</td>\n",
       "      <td>36</td>\n",
       "      <td>Defaulted</td>\n",
       "      <td>2012-12-19 00:00:00</td>\n",
       "      <td>0.35797</td>\n",
       "      <td>0.3177</td>\n",
       "      <td>0.3077</td>\n",
       "      <td>HR</td>\n",
       "      <td>1.0</td>\n",
       "      <td>5.0</td>\n",
       "      <td>...</td>\n",
       "      <td>0.0</td>\n",
       "      <td>$50,000-74,999</td>\n",
       "      <td>5500.000000</td>\n",
       "      <td>140</td>\n",
       "      <td>4000</td>\n",
       "      <td>2012-04-19 00:00:00</td>\n",
       "      <td>173.71</td>\n",
       "      <td>-9.81</td>\n",
       "      <td>10</td>\n",
       "      <td>True</td>\n",
       "    </tr>\n",
       "    <tr>\n",
       "      <th>23</th>\n",
       "      <td>2013-04-22 13:29:19.073000000</td>\n",
       "      <td>36</td>\n",
       "      <td>Defaulted</td>\n",
       "      <td>2013-12-26 00:00:00</td>\n",
       "      <td>0.28032</td>\n",
       "      <td>0.2419</td>\n",
       "      <td>0.2319</td>\n",
       "      <td>D</td>\n",
       "      <td>3.0</td>\n",
       "      <td>5.0</td>\n",
       "      <td>...</td>\n",
       "      <td>0.0</td>\n",
       "      <td>$25,000-49,999</td>\n",
       "      <td>2500.000000</td>\n",
       "      <td>193</td>\n",
       "      <td>2000</td>\n",
       "      <td>2013-04-26 00:00:00</td>\n",
       "      <td>78.67</td>\n",
       "      <td>-4.89</td>\n",
       "      <td>30</td>\n",
       "      <td>False</td>\n",
       "    </tr>\n",
       "    <tr>\n",
       "      <th>26</th>\n",
       "      <td>2013-02-12 18:07:31.690000000</td>\n",
       "      <td>60</td>\n",
       "      <td>Completed</td>\n",
       "      <td>2013-10-22 00:00:00</td>\n",
       "      <td>0.30748</td>\n",
       "      <td>0.2809</td>\n",
       "      <td>0.2709</td>\n",
       "      <td>E</td>\n",
       "      <td>2.0</td>\n",
       "      <td>3.0</td>\n",
       "      <td>...</td>\n",
       "      <td>0.0</td>\n",
       "      <td>$25,000-49,999</td>\n",
       "      <td>3885.916667</td>\n",
       "      <td>0</td>\n",
       "      <td>4000</td>\n",
       "      <td>2013-02-21 00:00:00</td>\n",
       "      <td>124.76</td>\n",
       "      <td>-25.81</td>\n",
       "      <td>37</td>\n",
       "      <td>False</td>\n",
       "    </tr>\n",
       "    <tr>\n",
       "      <th>27</th>\n",
       "      <td>2010-06-16 16:23:44.533000000</td>\n",
       "      <td>36</td>\n",
       "      <td>Completed</td>\n",
       "      <td>2013-07-03 00:00:00</td>\n",
       "      <td>0.11296</td>\n",
       "      <td>0.0920</td>\n",
       "      <td>0.0820</td>\n",
       "      <td>A</td>\n",
       "      <td>6.0</td>\n",
       "      <td>9.0</td>\n",
       "      <td>...</td>\n",
       "      <td>0.0</td>\n",
       "      <td>$75,000-99,999</td>\n",
       "      <td>6666.666667</td>\n",
       "      <td>0</td>\n",
       "      <td>4000</td>\n",
       "      <td>2010-06-24 00:00:00</td>\n",
       "      <td>0.00</td>\n",
       "      <td>-64.62</td>\n",
       "      <td>121</td>\n",
       "      <td>True</td>\n",
       "    </tr>\n",
       "    <tr>\n",
       "      <th>30</th>\n",
       "      <td>2012-01-30 17:59:17.200000000</td>\n",
       "      <td>36</td>\n",
       "      <td>Completed</td>\n",
       "      <td>2012-12-19 00:00:00</td>\n",
       "      <td>0.12782</td>\n",
       "      <td>0.0999</td>\n",
       "      <td>0.0899</td>\n",
       "      <td>A</td>\n",
       "      <td>6.0</td>\n",
       "      <td>9.0</td>\n",
       "      <td>...</td>\n",
       "      <td>42488.0</td>\n",
       "      <td>$25,000-49,999</td>\n",
       "      <td>3750.000000</td>\n",
       "      <td>0</td>\n",
       "      <td>10000</td>\n",
       "      <td>2012-02-07 00:00:00</td>\n",
       "      <td>322.62</td>\n",
       "      <td>-68.22</td>\n",
       "      <td>30</td>\n",
       "      <td>False</td>\n",
       "    </tr>\n",
       "  </tbody>\n",
       "</table>\n",
       "<p>5 rows × 24 columns</p>\n",
       "</div>"
      ],
      "text/plain": [
       "              ListingCreationDate  Term LoanStatus           ClosedDate  \\\n",
       "15  2012-04-10 09:14:46.297000000  36    Defaulted  2012-12-19 00:00:00   \n",
       "23  2013-04-22 13:29:19.073000000  36    Defaulted  2013-12-26 00:00:00   \n",
       "26  2013-02-12 18:07:31.690000000  60    Completed  2013-10-22 00:00:00   \n",
       "27  2010-06-16 16:23:44.533000000  36    Completed  2013-07-03 00:00:00   \n",
       "30  2012-01-30 17:59:17.200000000  36    Completed  2012-12-19 00:00:00   \n",
       "\n",
       "    BorrowerAPR  BorrowerRate  LenderYield ProsperRating (Alpha)  \\\n",
       "15  0.35797      0.3177        0.3077       HR                     \n",
       "23  0.28032      0.2419        0.2319       D                      \n",
       "26  0.30748      0.2809        0.2709       E                      \n",
       "27  0.11296      0.0920        0.0820       A                      \n",
       "30  0.12782      0.0999        0.0899       A                      \n",
       "\n",
       "    ProsperRating (numeric)  ProsperScore  ...  AmountDelinquent  \\\n",
       "15  1.0                      5.0           ...  0.0                \n",
       "23  3.0                      5.0           ...  0.0                \n",
       "26  2.0                      3.0           ...  0.0                \n",
       "27  6.0                      9.0           ...  0.0                \n",
       "30  6.0                      9.0           ...  42488.0            \n",
       "\n",
       "       IncomeRange StatedMonthlyIncome LoanCurrentDaysDelinquent  \\\n",
       "15  $50,000-74,999  5500.000000         140                        \n",
       "23  $25,000-49,999  2500.000000         193                        \n",
       "26  $25,000-49,999  3885.916667         0                          \n",
       "27  $75,000-99,999  6666.666667         0                          \n",
       "30  $25,000-49,999  3750.000000         0                          \n",
       "\n",
       "    LoanOriginalAmount  LoanOriginationDate  MonthlyLoanPayment  \\\n",
       "15  4000                2012-04-19 00:00:00  173.71               \n",
       "23  2000                2013-04-26 00:00:00  78.67                \n",
       "26  4000                2013-02-21 00:00:00  124.76               \n",
       "27  4000                2010-06-24 00:00:00  0.00                 \n",
       "30  10000               2012-02-07 00:00:00  322.62               \n",
       "\n",
       "    LP_ServiceFees  Investors IsBorrowerHomeowner  \n",
       "15 -9.81            10         True                \n",
       "23 -4.89            30         False               \n",
       "26 -25.81           37         False               \n",
       "27 -64.62           121        True                \n",
       "30 -68.22           30         False               \n",
       "\n",
       "[5 rows x 24 columns]"
      ]
     },
     "execution_count": 14,
     "metadata": {},
     "output_type": "execute_result"
    }
   ],
   "source": [
    "loan_df.head()"
   ]
  },
  {
   "cell_type": "code",
   "execution_count": 15,
   "id": "2bc1e23f",
   "metadata": {},
   "outputs": [],
   "source": [
    "loan_df.rename(columns={'ProsperRating (Alpha)': 'ProsperRating_Alpha', \n",
    "                        'ProsperRating (numeric)': 'ProsperRating_Numeric',\n",
    "                        'ListingCategory (numeric)' : 'ListingCategory_Numeric'\n",
    "                       }, inplace=True)"
   ]
  },
  {
   "cell_type": "markdown",
   "id": "7418ca5a",
   "metadata": {},
   "source": [
    "### Identify the type of variables"
   ]
  },
  {
   "cell_type": "code",
   "execution_count": 16,
   "id": "9cc64445",
   "metadata": {},
   "outputs": [
    {
     "data": {
      "text/plain": [
       "ListingCreationDate          object \n",
       "Term                         int64  \n",
       "LoanStatus                   object \n",
       "ClosedDate                   object \n",
       "BorrowerAPR                  float64\n",
       "BorrowerRate                 float64\n",
       "LenderYield                  float64\n",
       "ProsperRating_Alpha          object \n",
       "ProsperRating_Numeric        float64\n",
       "ProsperScore                 float64\n",
       "ListingCategory_Numeric      int64  \n",
       "BorrowerState                object \n",
       "Occupation                   object \n",
       "EmploymentStatus             object \n",
       "AmountDelinquent             float64\n",
       "IncomeRange                  object \n",
       "StatedMonthlyIncome          float64\n",
       "LoanCurrentDaysDelinquent    int64  \n",
       "LoanOriginalAmount           int64  \n",
       "LoanOriginationDate          object \n",
       "MonthlyLoanPayment           float64\n",
       "LP_ServiceFees               float64\n",
       "Investors                    int64  \n",
       "IsBorrowerHomeowner          bool   \n",
       "dtype: object"
      ]
     },
     "execution_count": 16,
     "metadata": {},
     "output_type": "execute_result"
    }
   ],
   "source": [
    "loan_df.dtypes"
   ]
  },
  {
   "cell_type": "code",
   "execution_count": 17,
   "id": "d7c11c38",
   "metadata": {},
   "outputs": [
    {
     "data": {
      "text/plain": [
       "Index(['Term', 'BorrowerAPR', 'BorrowerRate', 'LenderYield',\n",
       "       'ProsperRating_Numeric', 'ProsperScore', 'ListingCategory_Numeric',\n",
       "       'AmountDelinquent', 'StatedMonthlyIncome', 'LoanCurrentDaysDelinquent',\n",
       "       'LoanOriginalAmount', 'MonthlyLoanPayment', 'LP_ServiceFees',\n",
       "       'Investors'],\n",
       "      dtype='object')"
      ]
     },
     "execution_count": 17,
     "metadata": {},
     "output_type": "execute_result"
    }
   ],
   "source": [
    "#Numeric attributes\n",
    "num_loan_df = loan_df.loc[:, (loan_df.dtypes == np.float64) | (loan_df.dtypes == np.int64)]\n",
    "num_loan_df.columns"
   ]
  },
  {
   "cell_type": "code",
   "execution_count": 18,
   "id": "ca4da310",
   "metadata": {},
   "outputs": [
    {
     "data": {
      "text/plain": [
       "Index(['ListingCreationDate', 'LoanStatus', 'ClosedDate',\n",
       "       'ProsperRating_Alpha', 'BorrowerState', 'Occupation',\n",
       "       'EmploymentStatus', 'IncomeRange', 'LoanOriginationDate'],\n",
       "      dtype='object')"
      ]
     },
     "execution_count": 18,
     "metadata": {},
     "output_type": "execute_result"
    }
   ],
   "source": [
    "#Categorical attributes\n",
    "cat_loan_df = loan_df.loc[:, (loan_df.dtypes == 'object') | (loan_df.dtypes == 'category')]\n",
    "cat_loan_df.columns"
   ]
  },
  {
   "cell_type": "code",
   "execution_count": 19,
   "id": "d3bb238c",
   "metadata": {},
   "outputs": [
    {
     "name": "stdout",
     "output_type": "stream",
     "text": [
      "<class 'pandas.core.frame.DataFrame'>\n",
      "Int64Index: 25992 entries, 15 to 113935\n",
      "Data columns (total 24 columns):\n",
      " #   Column                     Non-Null Count  Dtype         \n",
      "---  ------                     --------------  -----         \n",
      " 0   ListingCreationDate        25992 non-null  datetime64[ns]\n",
      " 1   Term                       25992 non-null  int64         \n",
      " 2   LoanStatus                 25992 non-null  object        \n",
      " 3   ClosedDate                 25992 non-null  datetime64[ns]\n",
      " 4   BorrowerAPR                25992 non-null  float64       \n",
      " 5   BorrowerRate               25992 non-null  float64       \n",
      " 6   LenderYield                25992 non-null  float64       \n",
      " 7   ProsperRating_Alpha        25992 non-null  object        \n",
      " 8   ProsperRating_Numeric      25992 non-null  float64       \n",
      " 9   ProsperScore               25992 non-null  float64       \n",
      " 10  ListingCategory_Numeric    25992 non-null  int64         \n",
      " 11  BorrowerState              25992 non-null  object        \n",
      " 12  Occupation                 25992 non-null  object        \n",
      " 13  EmploymentStatus           25992 non-null  object        \n",
      " 14  AmountDelinquent           25992 non-null  float64       \n",
      " 15  IncomeRange                25992 non-null  object        \n",
      " 16  StatedMonthlyIncome        25992 non-null  float64       \n",
      " 17  LoanCurrentDaysDelinquent  25992 non-null  int64         \n",
      " 18  LoanOriginalAmount         25992 non-null  int64         \n",
      " 19  LoanOriginationDate        25992 non-null  datetime64[ns]\n",
      " 20  MonthlyLoanPayment         25992 non-null  float64       \n",
      " 21  LP_ServiceFees             25992 non-null  float64       \n",
      " 22  Investors                  25992 non-null  int64         \n",
      " 23  IsBorrowerHomeowner        25992 non-null  bool          \n",
      "dtypes: bool(1), datetime64[ns](3), float64(9), int64(5), object(6)\n",
      "memory usage: 4.8+ MB\n"
     ]
    }
   ],
   "source": [
    "# Adjust object data type to its datetime equivalent\n",
    "loan_df.ListingCreationDate = pd.to_datetime(loan_df.ListingCreationDate)\n",
    "loan_df.ClosedDate = pd.to_datetime(loan_df.ClosedDate)\n",
    "loan_df.LoanOriginationDate = pd.to_datetime(loan_df.LoanOriginationDate)\n",
    "loan_df.info()"
   ]
  },
  {
   "cell_type": "code",
   "execution_count": 20,
   "id": "e795862d",
   "metadata": {},
   "outputs": [
    {
     "data": {
      "text/plain": [
       "D     5867\n",
       "E     3826\n",
       "C     3815\n",
       "HR    3722\n",
       "A     3608\n",
       "B     3371\n",
       "AA    1783\n",
       "Name: ProsperRating_Alpha, dtype: int64"
      ]
     },
     "execution_count": 20,
     "metadata": {},
     "output_type": "execute_result"
    }
   ],
   "source": [
    "loan_df.ProsperRating_Alpha.value_counts()"
   ]
  },
  {
   "cell_type": "code",
   "execution_count": 21,
   "id": "05d94705",
   "metadata": {},
   "outputs": [
    {
     "data": {
      "text/plain": [
       "$25,000-49,999    8319\n",
       "$50,000-74,999    7362\n",
       "$75,000-99,999    4024\n",
       "$100,000+         3932\n",
       "$1-24,999         1950\n",
       "Not employed      375 \n",
       "$0                30  \n",
       "Name: IncomeRange, dtype: int64"
      ]
     },
     "execution_count": 21,
     "metadata": {},
     "output_type": "execute_result"
    }
   ],
   "source": [
    "loan_df.IncomeRange.value_counts()"
   ]
  },
  {
   "cell_type": "markdown",
   "id": "892d900f",
   "metadata": {},
   "source": [
    "re-write the code below!"
   ]
  },
  {
   "cell_type": "code",
   "execution_count": 22,
   "id": "9ed38998",
   "metadata": {},
   "outputs": [],
   "source": [
    "# Adjust datatype for all categorical columns\n",
    "loan_df['BorrowerState'] = loan_df['BorrowerState'].astype('category')\n",
    "loan_df['EmploymentStatus'] = loan_df['EmploymentStatus'].astype('category')\n",
    "loan_df['LoanStatus'] = loan_df['LoanStatus'].astype('category')\n",
    "loan_df['ListingCategory_Numeric'] = loan_df['ListingCategory_Numeric'].astype('category')\n",
    "loan_df['Occupation'] = loan_df['Occupation'].astype('category')\n",
    "loan_df['Term'] = loan_df['Term'].astype('category')\n",
    "\n",
    "# Convert ProsperRating & IncomeRange to ordinal categorical[asign missing value in ProsperRating t N/A and unemployed to $0 for IncomeRange]\n",
    "ordinal_dict = {'ProsperRating_Alpha': ['N/A','HR','E','D','C', 'B', 'A', 'AA'],\n",
    "                    'IncomeRange':['$0','$1-24,999','$25,000-49,999','$50,000-74,999','$75,000-99,999','$100,000+']}\n",
    "for var in ordinal_dict:\n",
    "    ordered_var = pd.api.types.CategoricalDtype(ordered = True, categories = ordinal_dict[var])\n",
    "    loan_df[var] = loan_df[var].astype(ordered_var)"
   ]
  },
  {
   "cell_type": "code",
   "execution_count": 23,
   "id": "fd886ecd",
   "metadata": {},
   "outputs": [
    {
     "data": {
      "text/plain": [
       "D      5867\n",
       "E      3826\n",
       "C      3815\n",
       "HR     3722\n",
       "A      3608\n",
       "B      3371\n",
       "AA     1783\n",
       "N/A    0   \n",
       "Name: ProsperRating_Alpha, dtype: int64"
      ]
     },
     "execution_count": 23,
     "metadata": {},
     "output_type": "execute_result"
    }
   ],
   "source": [
    "loan_df.ProsperRating_Alpha.value_counts()"
   ]
  },
  {
   "cell_type": "code",
   "execution_count": 24,
   "id": "082c3eb9",
   "metadata": {},
   "outputs": [
    {
     "data": {
      "text/plain": [
       "$25,000-49,999    8319\n",
       "$50,000-74,999    7362\n",
       "$75,000-99,999    4024\n",
       "$100,000+         3932\n",
       "$1-24,999         1950\n",
       "$0                30  \n",
       "Name: IncomeRange, dtype: int64"
      ]
     },
     "execution_count": 24,
     "metadata": {},
     "output_type": "execute_result"
    }
   ],
   "source": [
    "loan_df.IncomeRange.value_counts()"
   ]
  },
  {
   "cell_type": "code",
   "execution_count": 25,
   "id": "a96f8911",
   "metadata": {},
   "outputs": [
    {
     "name": "stdout",
     "output_type": "stream",
     "text": [
      "<class 'pandas.core.frame.DataFrame'>\n",
      "Int64Index: 25992 entries, 15 to 113935\n",
      "Data columns (total 24 columns):\n",
      " #   Column                     Non-Null Count  Dtype         \n",
      "---  ------                     --------------  -----         \n",
      " 0   ListingCreationDate        25992 non-null  datetime64[ns]\n",
      " 1   Term                       25992 non-null  category      \n",
      " 2   LoanStatus                 25992 non-null  category      \n",
      " 3   ClosedDate                 25992 non-null  datetime64[ns]\n",
      " 4   BorrowerAPR                25992 non-null  float64       \n",
      " 5   BorrowerRate               25992 non-null  float64       \n",
      " 6   LenderYield                25992 non-null  float64       \n",
      " 7   ProsperRating_Alpha        25992 non-null  category      \n",
      " 8   ProsperRating_Numeric      25992 non-null  float64       \n",
      " 9   ProsperScore               25992 non-null  float64       \n",
      " 10  ListingCategory_Numeric    25992 non-null  category      \n",
      " 11  BorrowerState              25992 non-null  category      \n",
      " 12  Occupation                 25992 non-null  category      \n",
      " 13  EmploymentStatus           25992 non-null  category      \n",
      " 14  AmountDelinquent           25992 non-null  float64       \n",
      " 15  IncomeRange                25617 non-null  category      \n",
      " 16  StatedMonthlyIncome        25992 non-null  float64       \n",
      " 17  LoanCurrentDaysDelinquent  25992 non-null  int64         \n",
      " 18  LoanOriginalAmount         25992 non-null  int64         \n",
      " 19  LoanOriginationDate        25992 non-null  datetime64[ns]\n",
      " 20  MonthlyLoanPayment         25992 non-null  float64       \n",
      " 21  LP_ServiceFees             25992 non-null  float64       \n",
      " 22  Investors                  25992 non-null  int64         \n",
      " 23  IsBorrowerHomeowner        25992 non-null  bool          \n",
      "dtypes: bool(1), category(8), datetime64[ns](3), float64(9), int64(3)\n",
      "memory usage: 3.4 MB\n"
     ]
    }
   ],
   "source": [
    "loan_df.info()"
   ]
  },
  {
   "cell_type": "code",
   "execution_count": null,
   "id": "85b23c27",
   "metadata": {},
   "outputs": [],
   "source": []
  },
  {
   "cell_type": "markdown",
   "id": "9c3d7b6a",
   "metadata": {},
   "source": [
    "## EDA"
   ]
  },
  {
   "cell_type": "markdown",
   "id": "2815f918",
   "metadata": {},
   "source": [
    "### What is the structure of this dataset?\n",
    "This data set contains 113,937 loans with 23 variables\n",
    "\n",
    "I will focus on a small number of variables because the project goal itself advises me to keep the visualization simple.\n",
    "\n",
    "### What are the main features of interest in your dataset?\n",
    "Finding out which dataset features are most effective at predicting the loan result is what interests me the most."
   ]
  },
  {
   "cell_type": "markdown",
   "id": "77d67267",
   "metadata": {},
   "source": [
    "## Univariate Exploration"
   ]
  },
  {
   "cell_type": "markdown",
   "id": "22008feb",
   "metadata": {},
   "source": [
    "### Categorical features"
   ]
  },
  {
   "cell_type": "code",
   "execution_count": 26,
   "id": "2899d447",
   "metadata": {},
   "outputs": [],
   "source": [
    "base_color = sns.color_palette()[0]\n",
    "plt.rcParams[\"figure.figsize\"] = (10, 8)"
   ]
  },
  {
   "cell_type": "code",
   "execution_count": 27,
   "id": "3411b06c",
   "metadata": {},
   "outputs": [
    {
     "data": {
      "text/plain": [
       "True     13255\n",
       "False    12737\n",
       "Name: IsBorrowerHomeowner, dtype: int64"
      ]
     },
     "execution_count": 27,
     "metadata": {},
     "output_type": "execute_result"
    }
   ],
   "source": [
    "loan_df['IsBorrowerHomeowner'].value_counts()"
   ]
  },
  {
   "cell_type": "code",
   "execution_count": 28,
   "id": "bd3fb9cc",
   "metadata": {},
   "outputs": [
    {
     "data": {
      "image/png": "[encoded data removed]",
      "text/plain": [
       "<Figure size 720x576 with 1 Axes>"
      ]
     },
     "metadata": {},
     "output_type": "display_data"
    }
   ],
   "source": [
    "plt.pie(loan_df['IsBorrowerHomeowner'].value_counts(), labels=['Homeowner', 'Not Homeowner'], autopct='%.2f')\n",
    "plt.title('Proportion of Home Owners', fontsize=14);"
   ]
  },
  {
   "cell_type": "code",
   "execution_count": 29,
   "id": "8d2e70b4",
   "metadata": {},
   "outputs": [
    {
     "data": {
      "image/png": "[encoded data removed]",
      "text/plain": [
       "<Figure size 720x576 with 1 Axes>"
      ]
     },
     "metadata": {
      "needs_background": "light"
     },
     "output_type": "display_data"
    }
   ],
   "source": [
    "# Listing Creation  by Year\n",
    "sns.countplot(data=loan_df,x=loan_df['ListingCreationDate'].dt.year,color=base_color)\n",
    "plt.title('Listing Creation by Year')\n",
    "plt.xlabel('Listing Creation Year');"
   ]
  },
  {
   "cell_type": "code",
   "execution_count": 30,
   "id": "ef605885",
   "metadata": {},
   "outputs": [
    {
     "data": {
      "text/plain": [
       "36    20765\n",
       "60    3696 \n",
       "12    1531 \n",
       "Name: Term, dtype: int64"
      ]
     },
     "execution_count": 30,
     "metadata": {},
     "output_type": "execute_result"
    }
   ],
   "source": [
    "loan_df.Term.value_counts()"
   ]
  },
  {
   "cell_type": "code",
   "execution_count": 31,
   "id": "ee58d265",
   "metadata": {},
   "outputs": [
    {
     "data": {
      "image/png": "[encoded data removed]",
      "text/plain": [
       "<Figure size 720x576 with 1 Axes>"
      ]
     },
     "metadata": {
      "needs_background": "light"
     },
     "output_type": "display_data"
    }
   ],
   "source": [
    "sns.countplot(data=loan_df,x= 'Term')\n",
    "plt.title('Terms of loan (Months)')\n",
    "plt.xlabel('Term (Months)');"
   ]
  },
  {
   "cell_type": "code",
   "execution_count": 32,
   "id": "8936cd5c",
   "metadata": {},
   "outputs": [
    {
     "data": {
      "image/png": "[encoded data removed]",
      "text/plain": [
       "<Figure size 720x576 with 1 Axes>"
      ]
     },
     "metadata": {
      "needs_background": "light"
     },
     "output_type": "display_data"
    }
   ],
   "source": [
    "base_color = sns.color_palette()[2]\n",
    "sns.countplot(data=loan_df,x= 'LoanStatus')\n",
    "plt.title('Status of loans')\n",
    "plt.xlabel('Status');"
   ]
  },
  {
   "cell_type": "code",
   "execution_count": 33,
   "id": "f067056f",
   "metadata": {},
   "outputs": [
    {
     "data": {
      "text/plain": [
       "CA    3305\n",
       "FL    1762\n",
       "NY    1629\n",
       "TX    1543\n",
       "IL    1381\n",
       "GA    1122\n",
       "OH    984 \n",
       "VA    918 \n",
       "NC    842 \n",
       "PA    804 \n",
       "Name: BorrowerState, dtype: int64"
      ]
     },
     "execution_count": 33,
     "metadata": {},
     "output_type": "execute_result"
    }
   ],
   "source": [
    "loan_df['BorrowerState'].value_counts().head(10)"
   ]
  },
  {
   "cell_type": "code",
   "execution_count": 34,
   "id": "1e7ef6f7",
   "metadata": {},
   "outputs": [
    {
     "data": {
      "image/png": "[encoded data removed]",
      "text/plain": [
       "<Figure size 1080x720 with 1 Axes>"
      ]
     },
     "metadata": {
      "needs_background": "light"
     },
     "output_type": "display_data"
    }
   ],
   "source": [
    "#Borrower State Distrobution\n",
    "cat_order = loan_df['BorrowerState'].value_counts().index\n",
    "plt.figure(figsize=[15, 10])\n",
    "sns.countplot(data=loan_df,x='BorrowerState',color=base_color, order=cat_order)\n",
    "plt.title('Borrower State Distribution')\n",
    "plt.xticks(rotation=90);"
   ]
  },
  {
   "cell_type": "code",
   "execution_count": 35,
   "id": "bea905e2",
   "metadata": {},
   "outputs": [
    {
     "data": {
      "text/plain": [
       "D      5867\n",
       "E      3826\n",
       "C      3815\n",
       "HR     3722\n",
       "A      3608\n",
       "B      3371\n",
       "AA     1783\n",
       "N/A    0   \n",
       "Name: ProsperRating_Alpha, dtype: int64"
      ]
     },
     "execution_count": 35,
     "metadata": {},
     "output_type": "execute_result"
    }
   ],
   "source": [
    "loan_df['ProsperRating_Alpha'].value_counts()"
   ]
  },
  {
   "cell_type": "code",
   "execution_count": 36,
   "id": "e14e957a",
   "metadata": {},
   "outputs": [
    {
     "data": {
      "image/png": "[encoded data removed]",
      "text/plain": [
       "<Figure size 720x576 with 1 Axes>"
      ]
     },
     "metadata": {
      "needs_background": "light"
     },
     "output_type": "display_data"
    }
   ],
   "source": [
    "# Prosper Rating\n",
    "sns.countplot(data=loan_df,x='ProsperRating_Alpha')\n",
    "plt.title('Prosper Rating Distribution');"
   ]
  },
  {
   "cell_type": "code",
   "execution_count": 37,
   "id": "713c7fe3",
   "metadata": {},
   "outputs": [
    {
     "data": {
      "text/plain": [
       "$25,000-49,999    8319\n",
       "$50,000-74,999    7362\n",
       "$75,000-99,999    4024\n",
       "$100,000+         3932\n",
       "$1-24,999         1950\n",
       "$0                30  \n",
       "Name: IncomeRange, dtype: int64"
      ]
     },
     "execution_count": 37,
     "metadata": {},
     "output_type": "execute_result"
    }
   ],
   "source": [
    "loan_df['IncomeRange'].value_counts()"
   ]
  },
  {
   "cell_type": "code",
   "execution_count": 38,
   "id": "39cd21e9",
   "metadata": {},
   "outputs": [
    {
     "data": {
      "image/png": "[encoded data removed]",
      "text/plain": [
       "<Figure size 720x576 with 1 Axes>"
      ]
     },
     "metadata": {
      "needs_background": "light"
     },
     "output_type": "display_data"
    }
   ],
   "source": [
    "#Borrower Income Range Status\n",
    "sns.countplot(data=loan_df,x='IncomeRange')\n",
    "plt.title('Borrower Income Range Distribution');"
   ]
  },
  {
   "cell_type": "code",
   "execution_count": 39,
   "id": "ddbbe8d7",
   "metadata": {},
   "outputs": [
    {
     "data": {
      "image/png": "[encoded data removed]",
      "text/plain": [
       "<Figure size 720x576 with 1 Axes>"
      ]
     },
     "metadata": {},
     "output_type": "display_data"
    }
   ],
   "source": [
    "sorted_counts = loan_df['IncomeRange'].value_counts()\n",
    "plt.pie(sorted_counts, labels = sorted_counts.index, startangle = 90,\n",
    "        counterclock = False, autopct   = '%.1f%%')\n",
    "plt.title(\"IncomeRange of all Borrowers\", fontsize=18)\n",
    "plt.axis('square');"
   ]
  },
  {
   "cell_type": "markdown",
   "id": "ef726244",
   "metadata": {},
   "source": [
    "**ListingCategory:** (Nominal Variable)\n",
    "\n",
    "- The category of the listing that the borrower selected when posting their listing:\n",
    "    \n",
    "    0 - Not Available \n",
    "    \n",
    "    1 - Debt Consolidation\n",
    "\n",
    "    2 - Home Improvement\n",
    "\n",
    "    3 - Business\n",
    "\n",
    "    4 - Personal Loan\n",
    "\n",
    "    5 - Student Use\n",
    "\n",
    "    6 - Auto\n",
    "\n",
    "    7- Other\n",
    "\n",
    "    8 - Baby&Adoption\n",
    "\n",
    "    9 - Boat\n",
    "\n",
    "    10 - Cosmetic Procedure\n",
    "\n",
    "    11 - Engagement Ring\n",
    "\n",
    "    12 - Green Loans\n",
    "\n",
    "    13 - Household Expenses\n",
    "\n",
    "    14 - Large Purchases\n",
    "\n",
    "    15 - Medical/Dental\n",
    "\n",
    "    16 - Motorcycle\n",
    "\n",
    "    17 - RV\n",
    "\n",
    "    18 - Taxes\n",
    "\n",
    "    19 - Vacation\n",
    "    \n",
    "    20 - Wedding Loans"
   ]
  },
  {
   "cell_type": "code",
   "execution_count": 40,
   "id": "7d79b472",
   "metadata": {},
   "outputs": [
    {
     "data": {
      "image/png": "[encoded data removed]",
      "text/plain": [
       "<Figure size 720x576 with 1 Axes>"
      ]
     },
     "metadata": {
      "needs_background": "light"
     },
     "output_type": "display_data"
    }
   ],
   "source": [
    "# ListingCategory_Numeric\n",
    "plt.title(\"The category of the listing that the borrower selected \")\n",
    "sns.countplot(data = loan_df, x = 'ListingCategory_Numeric', color = base_color,\n",
    "             order = loan_df['ListingCategory_Numeric'].value_counts().index );"
   ]
  },
  {
   "cell_type": "code",
   "execution_count": 41,
   "id": "9e977549",
   "metadata": {},
   "outputs": [
    {
     "data": {
      "image/png": "[encoded data removed]",
      "text/plain": [
       "<Figure size 720x576 with 1 Axes>"
      ]
     },
     "metadata": {
      "needs_background": "light"
     },
     "output_type": "display_data"
    }
   ],
   "source": [
    "# 'EmploymentStatus'\n",
    "base_color = sns.color_palette()[0]\n",
    "plt.title(\"EmploymentStatus of all Borrowers\")\n",
    "sns.countplot(data = loan_df, x = 'EmploymentStatus', color = base_color,\n",
    "             order = loan_df['EmploymentStatus'].value_counts().index);"
   ]
  },
  {
   "cell_type": "code",
   "execution_count": 42,
   "id": "04b842da",
   "metadata": {},
   "outputs": [
    {
     "data": {
      "text/plain": [
       "Text(0.5, 1.0, 'Top 10 - Occupation of all Borrowers')"
      ]
     },
     "execution_count": 42,
     "metadata": {},
     "output_type": "execute_result"
    },
    {
     "data": {
      "image/png": "[encoded data removed]",
      "text/plain": [
       "<Figure size 720x576 with 1 Axes>"
      ]
     },
     "metadata": {
      "needs_background": "light"
     },
     "output_type": "display_data"
    }
   ],
   "source": [
    "#'Occupation'\n",
    "sns.countplot(data = loan_df, y = 'Occupation', color = base_color,\n",
    "             order = loan_df['Occupation'].value_counts().head(10).index );\n",
    "plt.title(\"Top 10 - Occupation of all Borrowers\")"
   ]
  },
  {
   "cell_type": "code",
   "execution_count": null,
   "id": "cb635419",
   "metadata": {},
   "outputs": [],
   "source": []
  },
  {
   "cell_type": "markdown",
   "id": "35d7f4fc",
   "metadata": {},
   "source": [
    "### Insights from categorical features analysis\n",
    "- Loans with a category of **\"D\"** had the greatest number.\n",
    "\n",
    "\n",
    "- The majority of the loans were for terms of **36** months.\n",
    "\n",
    "\n",
    "- The Top 2 years for Listing creation count are **2011, and 2012**\n",
    "\n",
    "\n",
    "- The top 2 loan consideration reasons are **1 - Debt Consolidation, 7 - Other**\n",
    "\n",
    "\n",
    "- LoanStatus of all Borrowers are with **Chargedoff**, **Completed** and **Defaulted** state\n",
    "\n",
    "\n",
    "- The majority of borrowers have an EmploymentStatus of \"Employed,\" then \"Full-time,\"\n",
    "\n",
    "\n",
    "- The top income bracket for all borrowers is between $25,000 and $49,999.\n",
    "\n",
    "\n",
    "- The top two borrowing jurisdictions are **CA** and **FL**.\n",
    "\n",
    "\n",
    "- The majority of debtors work in **Other** and **Professional** fields.\n",
    "\n"
   ]
  },
  {
   "cell_type": "markdown",
   "id": "89c64330",
   "metadata": {},
   "source": [
    "### Numerical features\n",
    "\n",
    "         'ProsperScore', 'ProsperRating_Numeric', 'BorrowerAPR', 'BorrowerRate', 'StatedMonthlyIncome', 'MonthlyLoanPayment', 'LoanOriginalAmount', 'Investors'"
   ]
  },
  {
   "cell_type": "code",
   "execution_count": 43,
   "id": "810fea70",
   "metadata": {},
   "outputs": [
    {
     "data": {
      "image/png": "[encoded data removed]",
      "text/plain": [
       "<Figure size 720x576 with 1 Axes>"
      ]
     },
     "metadata": {
      "needs_background": "light"
     },
     "output_type": "display_data"
    }
   ],
   "source": [
    "#'ProsperScore'\n",
    "base_color = sns.color_palette()[0]\n",
    "sns.countplot(data = loan_df, x = 'ProsperScore', color = base_color)\n",
    "plt.title(\"ProsperScore of all Borrowers\");"
   ]
  },
  {
   "cell_type": "code",
   "execution_count": 44,
   "id": "4b6e5435",
   "metadata": {},
   "outputs": [
    {
     "data": {
      "image/png": "[encoded data removed]",
      "text/plain": [
       "<Figure size 720x576 with 1 Axes>"
      ]
     },
     "metadata": {
      "needs_background": "light"
     },
     "output_type": "display_data"
    }
   ],
   "source": [
    "# 'ProsperRating_Numeric'\n",
    "sns.countplot(data = loan_df, x = 'ProsperRating_Numeric', color=base_color)\n",
    "plt.xlabel('ProsperRating_Numeric')\n",
    "plt.ylabel('Count')\n",
    "plt.title(\"ProsperRating_Numeric of all Borrowers\");"
   ]
  },
  {
   "cell_type": "code",
   "execution_count": 45,
   "id": "9b932975",
   "metadata": {},
   "outputs": [
    {
     "data": {
      "image/png": "[encoded data removed]",
      "text/plain": [
       "<Figure size 720x576 with 1 Axes>"
      ]
     },
     "metadata": {
      "needs_background": "light"
     },
     "output_type": "display_data"
    }
   ],
   "source": [
    "# 'BorrowerAPR'\n",
    "plt.hist(x = loan_df['BorrowerAPR'])\n",
    "plt.xlabel('BorrowerAPR')\n",
    "plt.ylabel('Count')\n",
    "plt.title(\"BorrowerAPR of all Borrowers\");"
   ]
  },
  {
   "cell_type": "code",
   "execution_count": 46,
   "id": "027bcbcd",
   "metadata": {},
   "outputs": [
    {
     "data": {
      "image/png": "[encoded data removed]",
      "text/plain": [
       "<Figure size 720x576 with 1 Axes>"
      ]
     },
     "metadata": {
      "needs_background": "light"
     },
     "output_type": "display_data"
    }
   ],
   "source": [
    "# 'BorrowerRate'\n",
    "plt.hist(data = loan_df, x = 'BorrowerRate')\n",
    "plt.xlabel('BorrowerRate')\n",
    "plt.ylabel('Count')\n",
    "plt.title(\"BorrowerRate of all Borrowers\");"
   ]
  },
  {
   "cell_type": "code",
   "execution_count": 47,
   "id": "a0122e95",
   "metadata": {},
   "outputs": [
    {
     "data": {
      "image/png": "[encoded data removed]",
      "text/plain": [
       "<Figure size 720x576 with 1 Axes>"
      ]
     },
     "metadata": {
      "needs_background": "light"
     },
     "output_type": "display_data"
    }
   ],
   "source": [
    "plt.hist(data = loan_df, x = 'StatedMonthlyIncome')\n",
    "plt.xlabel('StatedMonthlyIncome')\n",
    "plt.ylabel('Count')\n",
    "plt.title(\"StatedMonthlyIncome of all Borrowers\");"
   ]
  },
  {
   "cell_type": "code",
   "execution_count": 48,
   "id": "153e3563",
   "metadata": {},
   "outputs": [
    {
     "data": {
      "text/plain": [
       "count    25992.000000 \n",
       "mean     5491.003507  \n",
       "std      6825.602083  \n",
       "min      0.000000     \n",
       "25%      3166.666667  \n",
       "50%      4583.333333  \n",
       "75%      6666.666667  \n",
       "max      618547.833333\n",
       "Name: StatedMonthlyIncome, dtype: float64"
      ]
     },
     "execution_count": 48,
     "metadata": {},
     "output_type": "execute_result"
    }
   ],
   "source": [
    "(loan_df['StatedMonthlyIncome'].describe())"
   ]
  },
  {
   "cell_type": "code",
   "execution_count": 49,
   "id": "028a0836",
   "metadata": {},
   "outputs": [
    {
     "data": {
      "text/plain": [
       "count    4.414840\n",
       "mean     3.739652\n",
       "std      3.834141\n",
       "min     -inf     \n",
       "25%      3.500602\n",
       "50%      3.661181\n",
       "75%      3.823909\n",
       "max      5.791373\n",
       "Name: StatedMonthlyIncome, dtype: float64"
      ]
     },
     "execution_count": 49,
     "metadata": {},
     "output_type": "execute_result"
    }
   ],
   "source": [
    "np.log10(loan_df['StatedMonthlyIncome'].describe())"
   ]
  },
  {
   "cell_type": "code",
   "execution_count": 50,
   "id": "8640a9c3",
   "metadata": {},
   "outputs": [
    {
     "data": {
      "image/png": "[encoded data removed]",
      "text/plain": [
       "<Figure size 720x576 with 1 Axes>"
      ]
     },
     "metadata": {
      "needs_background": "light"
     },
     "output_type": "display_data"
    }
   ],
   "source": [
    "loan_df_sub = loan_df[loan_df['StatedMonthlyIncome'] <= 25000]\n",
    "bin_edges = np.arange(0, loan_df_sub['StatedMonthlyIncome'].max()+1000, 1000)\n",
    "plt.hist(data = loan_df, x = 'StatedMonthlyIncome', bins = bin_edges)\n",
    "plt.xlabel('StatedMonthlyIncome')\n",
    "plt.ylabel('Count')\n",
    "plt.title(\"StatedMonthlyIncome of all Borrowers\");"
   ]
  },
  {
   "cell_type": "code",
   "execution_count": 51,
   "id": "b2b8be1f",
   "metadata": {},
   "outputs": [
    {
     "data": {
      "image/png": "[encoded data removed]",
      "text/plain": [
       "<Figure size 720x576 with 1 Axes>"
      ]
     },
     "metadata": {
      "needs_background": "light"
     },
     "output_type": "display_data"
    }
   ],
   "source": [
    "# Using log-scale\n",
    "#In addition, truncate the X axis to show only values less than 50k which are the majority of data\n",
    "log_binsize = 0.025\n",
    "bins = 10 ** np.arange(3, 4.7, log_binsize)\n",
    "\n",
    "plt.hist(data = loan_df, x = 'StatedMonthlyIncome', bins = bins)\n",
    "plt.xscale('log')\n",
    "plt.xticks([1e3, 2e3, 5e3, 1e4, 2e4, 5e4], ['1k', '2k','5k', '10k', '20k', '50k'])\n",
    "plt.xlabel('Stated Monthly Income ($)')\n",
    "plt.title('Stated Monthly Income Distribution in Log-scale')\n",
    "plt.show()"
   ]
  },
  {
   "cell_type": "markdown",
   "id": "2f9976ff",
   "metadata": {},
   "source": [
    "- It's interesting to note that the peak occurs around $5k"
   ]
  },
  {
   "cell_type": "code",
   "execution_count": 52,
   "id": "776ce95e",
   "metadata": {},
   "outputs": [
    {
     "data": {
      "image/png": "[encoded data removed]",
      "text/plain": [
       "<Figure size 720x576 with 1 Axes>"
      ]
     },
     "metadata": {
      "needs_background": "light"
     },
     "output_type": "display_data"
    }
   ],
   "source": [
    "# 'MonthlyLoanPayment'\n",
    "plt.hist(data = loan_df, x = 'MonthlyLoanPayment')\n",
    "plt.xlabel('MonthlyLoanPayment')\n",
    "plt.ylabel('Count')\n",
    "plt.title(\"MonthlyLoanPayment of all Borrowers\");"
   ]
  },
  {
   "cell_type": "code",
   "execution_count": 53,
   "id": "32da6b11",
   "metadata": {},
   "outputs": [
    {
     "data": {
      "image/png": "[encoded data removed]",
      "text/plain": [
       "<Figure size 720x576 with 1 Axes>"
      ]
     },
     "metadata": {
      "needs_background": "light"
     },
     "output_type": "display_data"
    }
   ],
   "source": [
    "# Using log-scale\n",
    "log_binsize = 0.025\n",
    "bins = 10 ** np.arange(1, np.log10(loan_df['MonthlyLoanPayment'].max())+log_binsize, log_binsize)\n",
    "\n",
    "plt.hist(data = loan_df, x = 'MonthlyLoanPayment', bins = bins)\n",
    "plt.xscale('log')\n",
    "plt.xticks([10, 20, 50, 100, 200, 500, 1e3, 2e3], ['10', '20','50', '100', '200', '500', '1000', '2000'])\n",
    "plt.xlabel('Monthly Loan Payment ($)')\n",
    "plt.show()"
   ]
  },
  {
   "cell_type": "markdown",
   "id": "034c683d",
   "metadata": {},
   "source": [
    "- Observing the details of the price range below $500 and the peak between $100 and $200 is fascinating."
   ]
  },
  {
   "cell_type": "code",
   "execution_count": 54,
   "id": "549c8b92",
   "metadata": {},
   "outputs": [
    {
     "data": {
      "image/png": "[encoded data removed]",
      "text/plain": [
       "<Figure size 720x576 with 1 Axes>"
      ]
     },
     "metadata": {
      "needs_background": "light"
     },
     "output_type": "display_data"
    }
   ],
   "source": [
    "plt.hist(data = loan_df, x = 'LoanOriginalAmount');"
   ]
  },
  {
   "cell_type": "code",
   "execution_count": 55,
   "id": "1dbd49cb",
   "metadata": {},
   "outputs": [
    {
     "data": {
      "text/plain": [
       "count    25992.000000\n",
       "mean     6375.824523 \n",
       "std      4781.752809 \n",
       "min      1000.000000 \n",
       "25%      3000.000000 \n",
       "50%      4500.000000 \n",
       "75%      8000.000000 \n",
       "max      35000.000000\n",
       "Name: LoanOriginalAmount, dtype: float64"
      ]
     },
     "execution_count": 55,
     "metadata": {},
     "output_type": "execute_result"
    }
   ],
   "source": [
    "(loan_df['LoanOriginalAmount'].describe())"
   ]
  },
  {
   "cell_type": "code",
   "execution_count": 56,
   "id": "407b3847",
   "metadata": {},
   "outputs": [
    {
     "data": {
      "text/plain": [
       "count    4.414840\n",
       "mean     3.804536\n",
       "std      3.679587\n",
       "min      3.000000\n",
       "25%      3.477121\n",
       "50%      3.653213\n",
       "75%      3.903090\n",
       "max      4.544068\n",
       "Name: LoanOriginalAmount, dtype: float64"
      ]
     },
     "execution_count": 56,
     "metadata": {},
     "output_type": "execute_result"
    }
   ],
   "source": [
    "np.log10(loan_df['LoanOriginalAmount'].describe())"
   ]
  },
  {
   "cell_type": "code",
   "execution_count": 57,
   "id": "08ea9daf",
   "metadata": {},
   "outputs": [
    {
     "data": {
      "image/png": "[encoded data removed]",
      "text/plain": [
       "<Figure size 720x576 with 1 Axes>"
      ]
     },
     "metadata": {
      "needs_background": "light"
     },
     "output_type": "display_data"
    }
   ],
   "source": [
    "# Using log-scale\n",
    "log_binsize = 0.025\n",
    "bins = 10 ** np.arange(3, np.log10(loan_df['LoanOriginalAmount'].max())+log_binsize, log_binsize)\n",
    "\n",
    "plt.hist(data = loan_df, x = 'LoanOriginalAmount', bins = bins)\n",
    "plt.xscale('log')\n",
    "plt.xticks([1e3, 2e3, 4e3, 1e4, 2e4, 4e4], ['1k', '2k','4k', '10k', '20k', '40k'])\n",
    "plt.xlabel('Loan OriginalAmount ($)')\n",
    "plt.show()"
   ]
  },
  {
   "cell_type": "code",
   "execution_count": 58,
   "id": "dd29e457",
   "metadata": {},
   "outputs": [
    {
     "data": {
      "image/png": "[encoded data removed]",
      "text/plain": [
       "<Figure size 720x576 with 1 Axes>"
      ]
     },
     "metadata": {
      "needs_background": "light"
     },
     "output_type": "display_data"
    }
   ],
   "source": [
    "# Loan Current Days Delinquent Distribution\n",
    "binsize = 100\n",
    "bins = np.arange(0, loan_df['LoanCurrentDaysDelinquent'].max()+binsize, binsize)\n",
    "\n",
    "plt.hist(data = loan_df[loan_df['LoanCurrentDaysDelinquent']>0], x = 'LoanCurrentDaysDelinquent', bins = bins)\n",
    "plt.title('Loan Current Days Delinquent')\n",
    "plt.xlabel('Loan Current Days Delinquent (Days)')\n",
    "plt.ylabel('Count')\n",
    "plt.show()"
   ]
  },
  {
   "cell_type": "code",
   "execution_count": 59,
   "id": "8c2950a0",
   "metadata": {},
   "outputs": [
    {
     "data": {
      "text/plain": [
       "count    25992.000000\n",
       "mean     92.393429   \n",
       "std      97.980331   \n",
       "min      1.000000    \n",
       "25%      28.000000   \n",
       "50%      62.000000   \n",
       "75%      125.000000  \n",
       "max      1189.000000 \n",
       "Name: Investors, dtype: float64"
      ]
     },
     "execution_count": 59,
     "metadata": {},
     "output_type": "execute_result"
    }
   ],
   "source": [
    "(loan_df['Investors'].describe())"
   ]
  },
  {
   "cell_type": "code",
   "execution_count": 60,
   "id": "e2b33070",
   "metadata": {},
   "outputs": [
    {
     "data": {
      "image/png": "[encoded data removed]",
      "text/plain": [
       "<Figure size 720x576 with 1 Axes>"
      ]
     },
     "metadata": {
      "needs_background": "light"
     },
     "output_type": "display_data"
    }
   ],
   "source": [
    "plt.hist(data = loan_df, x = 'Investors');"
   ]
  },
  {
   "cell_type": "code",
   "execution_count": 61,
   "id": "4b1fcf3e",
   "metadata": {},
   "outputs": [
    {
     "data": {
      "image/png": "[encoded data removed]",
      "text/plain": [
       "<Figure size 720x576 with 1 Axes>"
      ]
     },
     "metadata": {
      "needs_background": "light"
     },
     "output_type": "display_data"
    }
   ],
   "source": [
    "#Number of Investors Distrobution on log scale for all loans\n",
    "log_binsize = 0.05\n",
    "bins = 10 ** np.arange(0, 5, log_binsize)\n",
    "\n",
    "plt.hist(data = loan_df, x = 'Investors', bins = bins)\n",
    "plt.title('Investors on log scale')\n",
    "plt.xscale('log')\n",
    "plt.xticks([1e1, 1e2, 1e3], ['10', '100', '1000'])\n",
    "plt.xlabel('Investors')\n",
    "plt.ylabel('count')\n",
    "plt.show()"
   ]
  },
  {
   "cell_type": "markdown",
   "id": "baf2c6d0",
   "metadata": {},
   "source": [
    "## Insights with Numerical features analysis\n",
    "- **ProsperRating_Numeric:** Majority of the borrowers are with a rating or score from **4 to 9**\n",
    "\n",
    "\n",
    "- **BorrowerRate:** The Borrower's interest rate for this loan. The borrowers rate follow an approximately normal distribution, with the peak around 0.32.\n",
    "\n",
    "\n",
    "- **BorrowerAPR:** The Annual Percentage Rate (APR) is the cost of credit as a yearly rate. The APR follow an approximately normal distribution, with the peak around 0.37.\n",
    "\n",
    "\n",
    "- **StatedMonthlyIncome:** The borrower's claimed monthly salary at the time the listing was made. Since so few individuals will be earning more money, monthly income will undoubtedly be skewed to the right. In order to make the data appear at log 10 scales, I removed the outliers. The majority of debtors earn less than $10,000 annually, with the peak being at $5,000.\n",
    "\n",
    "- **LoanOriginalAmount:** The loan's initial principal payment. This is now intriguing. We can see that the distribution is right-skewed in this case, with the peak being found at roughly 4000 USD.\n",
    "\n",
    "\n",
    "- **LoanCurrentDaysDelinquent:**\n",
    "\n",
    "\n",
    "- **Investors:** The majority of investors range in value from 0 to 100. Investor count (for statistics with more than one investor) is almost normally distributed between 50 and 150.\n",
    "\n"
   ]
  },
  {
   "cell_type": "markdown",
   "id": "28944881",
   "metadata": {},
   "source": [
    "## Bivariate Exploration\n",
    "\n",
    "### Relationship between two numeric variables"
   ]
  },
  {
   "cell_type": "code",
   "execution_count": 62,
   "id": "ee59707a",
   "metadata": {},
   "outputs": [
    {
     "data": {
      "text/plain": [
       "ListingCreationDate          datetime64[ns]\n",
       "Term                         category      \n",
       "LoanStatus                   category      \n",
       "ClosedDate                   datetime64[ns]\n",
       "BorrowerAPR                  float64       \n",
       "BorrowerRate                 float64       \n",
       "LenderYield                  float64       \n",
       "ProsperRating_Alpha          category      \n",
       "ProsperRating_Numeric        float64       \n",
       "ProsperScore                 float64       \n",
       "ListingCategory_Numeric      category      \n",
       "BorrowerState                category      \n",
       "Occupation                   category      \n",
       "EmploymentStatus             category      \n",
       "AmountDelinquent             float64       \n",
       "IncomeRange                  category      \n",
       "StatedMonthlyIncome          float64       \n",
       "LoanCurrentDaysDelinquent    int64         \n",
       "LoanOriginalAmount           int64         \n",
       "LoanOriginationDate          datetime64[ns]\n",
       "MonthlyLoanPayment           float64       \n",
       "LP_ServiceFees               float64       \n",
       "Investors                    int64         \n",
       "IsBorrowerHomeowner          bool          \n",
       "dtype: object"
      ]
     },
     "execution_count": 62,
     "metadata": {},
     "output_type": "execute_result"
    }
   ],
   "source": [
    "loan_df.dtypes"
   ]
  },
  {
   "cell_type": "code",
   "execution_count": 63,
   "id": "ac03d6d8",
   "metadata": {},
   "outputs": [
    {
     "data": {
      "text/plain": [
       "Index(['ListingCreationDate', 'Term', 'LoanStatus', 'ClosedDate',\n",
       "       'BorrowerAPR', 'BorrowerRate', 'LenderYield', 'ProsperRating_Alpha',\n",
       "       'ProsperRating_Numeric', 'ProsperScore', 'ListingCategory_Numeric',\n",
       "       'BorrowerState', 'Occupation', 'EmploymentStatus', 'AmountDelinquent',\n",
       "       'IncomeRange', 'StatedMonthlyIncome', 'LoanCurrentDaysDelinquent',\n",
       "       'LoanOriginalAmount', 'LoanOriginationDate', 'MonthlyLoanPayment',\n",
       "       'LP_ServiceFees', 'Investors', 'IsBorrowerHomeowner'],\n",
       "      dtype='object')"
      ]
     },
     "execution_count": 63,
     "metadata": {},
     "output_type": "execute_result"
    }
   ],
   "source": [
    "loan_df.columns"
   ]
  },
  {
   "cell_type": "markdown",
   "id": "aebc8663",
   "metadata": {},
   "source": [
    "### Relationship between numeric & categorical variables"
   ]
  },
  {
   "cell_type": "markdown",
   "id": "93db70fa",
   "metadata": {},
   "source": [
    "### Insights about the entire Bivariate analysis"
   ]
  },
  {
   "cell_type": "markdown",
   "id": "52f7b894",
   "metadata": {},
   "source": [
    "### Multivariate Exploration"
   ]
  },
  {
   "cell_type": "markdown",
   "id": "3144607a",
   "metadata": {},
   "source": [
    "# <p style=\"text-align: center;\">The End!</p>"
   ]
  },
  {
   "cell_type": "code",
   "execution_count": null,
   "id": "ab074189",
   "metadata": {},
   "outputs": [],
   "source": []
  }
 ],
 "metadata": {
  "celltoolbar": "Slideshow",
  "kernelspec": {
   "display_name": "Python 3 (ipykernel)",
   "language": "python",
   "name": "python3"
  },
  "language_info": {
   "codemirror_mode": {
    "name": "ipython",
    "version": 3
   },
   "file_extension": ".py",
   "mimetype": "text/x-python",
   "name": "python",
   "nbconvert_exporter": "python",
   "pygments_lexer": "ipython3",
   "version": "3.9.7"
  },
  "vscode": {
   "interpreter": {
    "hash": "40d3a090f54c6569ab1632332b64b2c03c39dcf918b08424e98f38b5ae0af88f"
   }
  }
 },
 "nbformat": 4,
 "nbformat_minor": 5
}
